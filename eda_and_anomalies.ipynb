{
  "nbformat": 4,
  "nbformat_minor": 0,
  "metadata": {
    "kernelspec": {
      "display_name": "Python 3",
      "language": "python",
      "name": "python3"
    },
    "language_info": {
      "codemirror_mode": {
        "name": "ipython",
        "version": 3
      },
      "file_extension": ".py",
      "mimetype": "text/x-python",
      "name": "python",
      "nbconvert_exporter": "python",
      "pygments_lexer": "ipython3",
      "version": "3.7.7"
    },
    "colab": {
      "name": "eda_and_anomalies.ipynb",
      "provenance": [],
      "collapsed_sections": [],
      "include_colab_link": true
    }
  },
  "cells": [
    {
      "cell_type": "markdown",
      "metadata": {
        "id": "view-in-github",
        "colab_type": "text"
      },
      "source": [
        "<a href=\"https://colab.research.google.com/github/yupopov/stepik_ml_contest/blob/master/eda_and_anomalies.ipynb\" target=\"_parent\"><img src=\"https://colab.research.google.com/assets/colab-badge.svg\" alt=\"Open In Colab\"/></a>"
      ]
    },
    {
      "cell_type": "markdown",
      "metadata": {
        "id": "9p60jMG61852"
      },
      "source": [
        "# Поиск и исправление аномалий в исходном датасете"
      ]
    },
    {
      "cell_type": "markdown",
      "metadata": {
        "id": "9SF8Js8Q2DSg"
      },
      "source": [
        "В этой тетрадке мы попробуем посмотреть, какие аномалии логирования действий пользователй встречаются на этом курсе, а также попробуем исправить их и посмотреть, изменит ли это качество модели, которую мы строим в соседней тетрадке.\n",
        "\n",
        "Выводы:\n",
        "1. Были найдены следующие часто встречающиеся примеры неправильного логирования действий пользователей:\n",
        "- Неправильная запись времени действий, часты случаи, когда сотни действий одного пользователя записываются в одну минуту (присутствует как в тестовой, так и в тренировочной выборках, неочевидно как исправить)\n",
        "- Логирование признаков не всегда соответствует их семантике: например, присутствуют пары (задачный степ, пользователь) для которых ```correct + wrong > 0```, но ```started_attempt = 0```, а также пары (степ, пользователь) такие, что у пользователя было взаимодействие со степом, но ```discovered = 0``` или ```viewed = 0```. Можно увидеть, что такие сочетания признаков возникают чаще для определенных степов и в определенных ситуациях (под конец всех действий пользователя).\n",
        "- Наличие небольшой группы пользователей, совершающих аномальные действия (например, очень большое количество попыток решений задач) и искажающих статистику. Скорее всего, большинство из этих пользователей являются модераторами курса.\n",
        "\n",
        "2. Исправление вручную аномалий логера и выкидывание аномальных пользователей из выборки не сильно улучшает качество модели. Тем не менее, понятно, как их можно будет избежать в дальнейшем, если это потребуется: записывать пользователей-модераторов в отдельный список и проверить, что же не так со степами, на которых действия записываются неправильно чаще всего."
      ]
    },
    {
      "cell_type": "code",
      "metadata": {
        "colab": {
          "base_uri": "https://localhost:8080/"
        },
        "id": "st-tsQ-BRrKu",
        "outputId": "de8398e7-96ad-456a-d1aa-44b1f17fc9ab"
      },
      "source": [
        "# Для запуска на github\n",
        "!git clone https://github.com/yupopov/stepik_ml_contest\n",
        "import os\n",
        "os.chdir('stepik_ml_contest')"
      ],
      "execution_count": 2,
      "outputs": [
        {
          "output_type": "stream",
          "text": [
            "Cloning into 'stepik_ml_contest'...\n",
            "remote: Enumerating objects: 56, done.\u001b[K\n",
            "remote: Counting objects: 100% (56/56), done.\u001b[K\n",
            "remote: Compressing objects: 100% (42/42), done.\u001b[K\n",
            "remote: Total 56 (delta 21), reused 42 (delta 11), pack-reused 0\u001b[K\n",
            "Unpacking objects: 100% (56/56), done.\n"
          ],
          "name": "stdout"
        }
      ]
    },
    {
      "cell_type": "code",
      "metadata": {
        "id": "010aBEpl-iU5"
      },
      "source": [
        "import warnings\n",
        "warnings.filterwarnings('ignore')\n",
        "%load_ext autoreload\n",
        "%autoreload 2\n",
        "\n",
        "import os\n",
        "\n",
        "import numpy as np\n",
        "import pandas as pd\n",
        "import matplotlib.pyplot as plt\n",
        "import seaborn as sns\n",
        "import scipy.stats as stats\n",
        "\n",
        "from sklearn.ensemble import IsolationForest\n",
        "\n",
        "from config.config import TOTAL_DAYS, PATH_TO_DATA, RANDOM_STATE\n",
        "# рассматриваем данные за первые TOTAL_DAYS дней активности\n",
        "from utils.df_creation import get_users, create_interaction, get_target, get_min_timestamps,\\\n",
        "    cut_df_by_time, cut_dfs_by_time, get_action_counts_by_period, get_base_features\n",
        "from utils.model_assessment import test_model"
      ],
      "execution_count": null,
      "outputs": []
    },
    {
      "cell_type": "code",
      "metadata": {
        "id": "qbtQESXL-iVi",
        "colab": {
          "base_uri": "https://localhost:8080/"
        },
        "outputId": "3cb7c1eb-9b6d-4ff8-b16f-bec5996d67db"
      },
      "source": [
        "TOTAL_DAYS"
      ],
      "execution_count": null,
      "outputs": [
        {
          "output_type": "execute_result",
          "data": {
            "text/plain": [
              "2"
            ]
          },
          "metadata": {
            "tags": []
          },
          "execution_count": 3
        }
      ]
    },
    {
      "cell_type": "markdown",
      "metadata": {
        "id": "n6LmIndPGKiV"
      },
      "source": [
        "Загрузим данные о действиях пользователей и создадим нужные таблицы."
      ]
    },
    {
      "cell_type": "code",
      "metadata": {
        "id": "4I8mMly2-iVj"
      },
      "source": [
        "events = pd.read_csv(os.path.join(PATH_TO_DATA, 'events_data_train.zip'))\n",
        "submissions = pd.read_csv(os.path.join(PATH_TO_DATA, 'submissions_data_train.zip'))\n",
        "\n",
        "events_test = pd.read_csv(os.path.join(PATH_TO_DATA, 'events_data_test.zip'))\n",
        "submissions_test = pd.read_csv(os.path.join(PATH_TO_DATA, 'submissions_data_test.zip'))"
      ],
      "execution_count": 4,
      "outputs": []
    },
    {
      "cell_type": "code",
      "metadata": {
        "id": "hTChOxGl-iVk"
      },
      "source": [
        "events['time'] = pd.to_datetime(events.timestamp, unit='s')\n",
        "submissions['time'] = pd.to_datetime(submissions.timestamp, unit='s')\n",
        "\n",
        "events_test['time'] = pd.to_datetime(events_test.timestamp, unit='s')\n",
        "submissions_test['time'] = pd.to_datetime(submissions_test.timestamp, unit='s')"
      ],
      "execution_count": 5,
      "outputs": []
    },
    {
      "cell_type": "markdown",
      "metadata": {
        "id": "PRBaD0Os-iVw"
      },
      "source": [
        "Сохраним, какие степы относятся к задачам, а какие нет:"
      ]
    },
    {
      "cell_type": "code",
      "metadata": {
        "id": "Lvv5bvF0-iVw"
      },
      "source": [
        "problem_steps = submissions.step_id.unique()\n",
        "non_problem_steps = np.setdiff1d(events.step_id.unique(), problem_steps)"
      ],
      "execution_count": 6,
      "outputs": []
    },
    {
      "cell_type": "code",
      "metadata": {
        "id": "CW6mZajR-iVy"
      },
      "source": [
        "events_2d, submissions_2d = cut_dfs_by_time(events, submissions)\n",
        "events_test, submissions_test = cut_dfs_by_time(events_test, submissions_test)"
      ],
      "execution_count": 7,
      "outputs": []
    },
    {
      "cell_type": "code",
      "metadata": {
        "id": "KXru-ALr-iVy",
        "colab": {
          "base_uri": "https://localhost:8080/",
          "height": 202
        },
        "outputId": "27b97c4b-a3d7-426a-bb6e-72b12dcad314"
      },
      "source": [
        "all_actions_2d = create_interaction(events_2d, submissions_2d)\n",
        "all_actions = create_interaction(events, submissions)\n",
        "all_actions_test = create_interaction(events_test, submissions_test)\n",
        "\n",
        "all_actions_2d.head()"
      ],
      "execution_count": 8,
      "outputs": [
        {
          "output_type": "execute_result",
          "data": {
            "text/html": [
              "<div>\n",
              "<style scoped>\n",
              "    .dataframe tbody tr th:only-of-type {\n",
              "        vertical-align: middle;\n",
              "    }\n",
              "\n",
              "    .dataframe tbody tr th {\n",
              "        vertical-align: top;\n",
              "    }\n",
              "\n",
              "    .dataframe thead th {\n",
              "        text-align: right;\n",
              "    }\n",
              "</style>\n",
              "<table border=\"1\" class=\"dataframe\">\n",
              "  <thead>\n",
              "    <tr style=\"text-align: right;\">\n",
              "      <th></th>\n",
              "      <th>step_id</th>\n",
              "      <th>timestamp</th>\n",
              "      <th>action</th>\n",
              "      <th>user_id</th>\n",
              "      <th>time</th>\n",
              "    </tr>\n",
              "  </thead>\n",
              "  <tbody>\n",
              "    <tr>\n",
              "      <th>1596009</th>\n",
              "      <td>31981</td>\n",
              "      <td>1472827464</td>\n",
              "      <td>discovered</td>\n",
              "      <td>1</td>\n",
              "      <td>2016-09-02 14:44:24</td>\n",
              "    </tr>\n",
              "    <tr>\n",
              "      <th>1596008</th>\n",
              "      <td>31981</td>\n",
              "      <td>1472827464</td>\n",
              "      <td>viewed</td>\n",
              "      <td>1</td>\n",
              "      <td>2016-09-02 14:44:24</td>\n",
              "    </tr>\n",
              "    <tr>\n",
              "      <th>3040121</th>\n",
              "      <td>32815</td>\n",
              "      <td>1514383364</td>\n",
              "      <td>discovered</td>\n",
              "      <td>2</td>\n",
              "      <td>2017-12-27 14:02:44</td>\n",
              "    </tr>\n",
              "    <tr>\n",
              "      <th>3040123</th>\n",
              "      <td>32815</td>\n",
              "      <td>1514383364</td>\n",
              "      <td>passed</td>\n",
              "      <td>2</td>\n",
              "      <td>2017-12-27 14:02:44</td>\n",
              "    </tr>\n",
              "    <tr>\n",
              "      <th>3040122</th>\n",
              "      <td>32815</td>\n",
              "      <td>1514383364</td>\n",
              "      <td>viewed</td>\n",
              "      <td>2</td>\n",
              "      <td>2017-12-27 14:02:44</td>\n",
              "    </tr>\n",
              "  </tbody>\n",
              "</table>\n",
              "</div>"
            ],
            "text/plain": [
              "         step_id   timestamp      action  user_id                time\n",
              "1596009    31981  1472827464  discovered        1 2016-09-02 14:44:24\n",
              "1596008    31981  1472827464      viewed        1 2016-09-02 14:44:24\n",
              "3040121    32815  1514383364  discovered        2 2017-12-27 14:02:44\n",
              "3040123    32815  1514383364      passed        2 2017-12-27 14:02:44\n",
              "3040122    32815  1514383364      viewed        2 2017-12-27 14:02:44"
            ]
          },
          "metadata": {
            "tags": []
          },
          "execution_count": 8
        }
      ]
    },
    {
      "cell_type": "markdown",
      "metadata": {
        "id": "yDnfioxL-iV0"
      },
      "source": [
        "Создадим таблицу с базовыми признаками для каждого пользователя, посчитав общее количество всех действий для него:"
      ]
    },
    {
      "cell_type": "code",
      "metadata": {
        "colab": {
          "base_uri": "https://localhost:8080/"
        },
        "id": "NF-DOhfgI2Mo",
        "outputId": "ba3c8ec7-4d2a-497f-eb13-d15e27a029b1"
      },
      "source": [
        "targets = get_target(all_actions)\n",
        "targets.value_counts()"
      ],
      "execution_count": 9,
      "outputs": [
        {
          "output_type": "execute_result",
          "data": {
            "text/plain": [
              "passed_course\n",
              "0                17269\n",
              "1                 1965\n",
              "dtype: int64"
            ]
          },
          "metadata": {
            "tags": []
          },
          "execution_count": 9
        }
      ]
    },
    {
      "cell_type": "code",
      "metadata": {
        "colab": {
          "base_uri": "https://localhost:8080/",
          "height": 233
        },
        "id": "e4SEWJyN-nMQ",
        "outputId": "aba287f2-2dd1-4ced-aed5-2d60bcf7a9e5"
      },
      "source": [
        "train_df = get_base_features(all_actions_2d, target=targets)\n",
        "train_df_all = get_base_features(all_actions, target=targets)\n",
        "test_df = get_base_features(all_actions_test)\n",
        "\n",
        "train_df.head()"
      ],
      "execution_count": 20,
      "outputs": [
        {
          "output_type": "execute_result",
          "data": {
            "text/html": [
              "<div>\n",
              "<style scoped>\n",
              "    .dataframe tbody tr th:only-of-type {\n",
              "        vertical-align: middle;\n",
              "    }\n",
              "\n",
              "    .dataframe tbody tr th {\n",
              "        vertical-align: top;\n",
              "    }\n",
              "\n",
              "    .dataframe thead th {\n",
              "        text-align: right;\n",
              "    }\n",
              "</style>\n",
              "<table border=\"1\" class=\"dataframe\">\n",
              "  <thead>\n",
              "    <tr style=\"text-align: right;\">\n",
              "      <th></th>\n",
              "      <th>discovered</th>\n",
              "      <th>passed</th>\n",
              "      <th>started_attempt</th>\n",
              "      <th>viewed</th>\n",
              "      <th>correct</th>\n",
              "      <th>wrong</th>\n",
              "      <th>num_days</th>\n",
              "      <th>passed_course</th>\n",
              "    </tr>\n",
              "    <tr>\n",
              "      <th>user_id</th>\n",
              "      <th></th>\n",
              "      <th></th>\n",
              "      <th></th>\n",
              "      <th></th>\n",
              "      <th></th>\n",
              "      <th></th>\n",
              "      <th></th>\n",
              "      <th></th>\n",
              "    </tr>\n",
              "  </thead>\n",
              "  <tbody>\n",
              "    <tr>\n",
              "      <th>1</th>\n",
              "      <td>1</td>\n",
              "      <td>0</td>\n",
              "      <td>0</td>\n",
              "      <td>1</td>\n",
              "      <td>0</td>\n",
              "      <td>0</td>\n",
              "      <td>1</td>\n",
              "      <td>0</td>\n",
              "    </tr>\n",
              "    <tr>\n",
              "      <th>2</th>\n",
              "      <td>9</td>\n",
              "      <td>9</td>\n",
              "      <td>2</td>\n",
              "      <td>9</td>\n",
              "      <td>2</td>\n",
              "      <td>0</td>\n",
              "      <td>1</td>\n",
              "      <td>0</td>\n",
              "    </tr>\n",
              "    <tr>\n",
              "      <th>3</th>\n",
              "      <td>15</td>\n",
              "      <td>15</td>\n",
              "      <td>4</td>\n",
              "      <td>20</td>\n",
              "      <td>4</td>\n",
              "      <td>4</td>\n",
              "      <td>1</td>\n",
              "      <td>0</td>\n",
              "    </tr>\n",
              "    <tr>\n",
              "      <th>5</th>\n",
              "      <td>1</td>\n",
              "      <td>1</td>\n",
              "      <td>0</td>\n",
              "      <td>1</td>\n",
              "      <td>0</td>\n",
              "      <td>0</td>\n",
              "      <td>1</td>\n",
              "      <td>0</td>\n",
              "    </tr>\n",
              "    <tr>\n",
              "      <th>7</th>\n",
              "      <td>1</td>\n",
              "      <td>1</td>\n",
              "      <td>0</td>\n",
              "      <td>1</td>\n",
              "      <td>0</td>\n",
              "      <td>0</td>\n",
              "      <td>1</td>\n",
              "      <td>0</td>\n",
              "    </tr>\n",
              "  </tbody>\n",
              "</table>\n",
              "</div>"
            ],
            "text/plain": [
              "         discovered  passed  started_attempt  ...  wrong  num_days  passed_course\n",
              "user_id                                       ...                                \n",
              "1                 1       0                0  ...      0         1              0\n",
              "2                 9       9                2  ...      0         1              0\n",
              "3                15      15                4  ...      4         1              0\n",
              "5                 1       1                0  ...      0         1              0\n",
              "7                 1       1                0  ...      0         1              0\n",
              "\n",
              "[5 rows x 8 columns]"
            ]
          },
          "metadata": {
            "tags": []
          },
          "execution_count": 20
        }
      ]
    },
    {
      "cell_type": "markdown",
      "metadata": {
        "id": "Qpl4dVYg-iV4"
      },
      "source": [
        "Посмотрим простые статистики тренировочной и тестовой выборок:"
      ]
    },
    {
      "cell_type": "code",
      "metadata": {
        "id": "bF2Cn6Pz-iV4",
        "colab": {
          "base_uri": "https://localhost:8080/",
          "height": 294
        },
        "outputId": "103afaa8-5e21-43c1-a3a7-b7cc21d9ebc2"
      },
      "source": [
        "train_df.iloc[:, :-1].describe()"
      ],
      "execution_count": 21,
      "outputs": [
        {
          "output_type": "execute_result",
          "data": {
            "text/html": [
              "<div>\n",
              "<style scoped>\n",
              "    .dataframe tbody tr th:only-of-type {\n",
              "        vertical-align: middle;\n",
              "    }\n",
              "\n",
              "    .dataframe tbody tr th {\n",
              "        vertical-align: top;\n",
              "    }\n",
              "\n",
              "    .dataframe thead th {\n",
              "        text-align: right;\n",
              "    }\n",
              "</style>\n",
              "<table border=\"1\" class=\"dataframe\">\n",
              "  <thead>\n",
              "    <tr style=\"text-align: right;\">\n",
              "      <th></th>\n",
              "      <th>discovered</th>\n",
              "      <th>passed</th>\n",
              "      <th>started_attempt</th>\n",
              "      <th>viewed</th>\n",
              "      <th>correct</th>\n",
              "      <th>wrong</th>\n",
              "      <th>num_days</th>\n",
              "    </tr>\n",
              "  </thead>\n",
              "  <tbody>\n",
              "    <tr>\n",
              "      <th>count</th>\n",
              "      <td>19234.000000</td>\n",
              "      <td>19234.000000</td>\n",
              "      <td>19234.000000</td>\n",
              "      <td>19234.000000</td>\n",
              "      <td>19234.000000</td>\n",
              "      <td>19234.000000</td>\n",
              "      <td>19234.000000</td>\n",
              "    </tr>\n",
              "    <tr>\n",
              "      <th>mean</th>\n",
              "      <td>12.364875</td>\n",
              "      <td>11.407040</td>\n",
              "      <td>4.109754</td>\n",
              "      <td>19.232973</td>\n",
              "      <td>3.163201</td>\n",
              "      <td>2.840023</td>\n",
              "      <td>1.343298</td>\n",
              "    </tr>\n",
              "    <tr>\n",
              "      <th>std</th>\n",
              "      <td>18.037964</td>\n",
              "      <td>16.814163</td>\n",
              "      <td>8.034247</td>\n",
              "      <td>32.075203</td>\n",
              "      <td>6.306553</td>\n",
              "      <td>9.082522</td>\n",
              "      <td>0.625138</td>\n",
              "    </tr>\n",
              "    <tr>\n",
              "      <th>min</th>\n",
              "      <td>0.000000</td>\n",
              "      <td>0.000000</td>\n",
              "      <td>0.000000</td>\n",
              "      <td>0.000000</td>\n",
              "      <td>0.000000</td>\n",
              "      <td>0.000000</td>\n",
              "      <td>1.000000</td>\n",
              "    </tr>\n",
              "    <tr>\n",
              "      <th>25%</th>\n",
              "      <td>1.000000</td>\n",
              "      <td>1.000000</td>\n",
              "      <td>0.000000</td>\n",
              "      <td>1.000000</td>\n",
              "      <td>0.000000</td>\n",
              "      <td>0.000000</td>\n",
              "      <td>1.000000</td>\n",
              "    </tr>\n",
              "    <tr>\n",
              "      <th>50%</th>\n",
              "      <td>6.000000</td>\n",
              "      <td>5.000000</td>\n",
              "      <td>1.000000</td>\n",
              "      <td>7.000000</td>\n",
              "      <td>0.000000</td>\n",
              "      <td>0.000000</td>\n",
              "      <td>1.000000</td>\n",
              "    </tr>\n",
              "    <tr>\n",
              "      <th>75%</th>\n",
              "      <td>16.000000</td>\n",
              "      <td>14.000000</td>\n",
              "      <td>5.000000</td>\n",
              "      <td>23.750000</td>\n",
              "      <td>2.000000</td>\n",
              "      <td>1.000000</td>\n",
              "      <td>2.000000</td>\n",
              "    </tr>\n",
              "    <tr>\n",
              "      <th>max</th>\n",
              "      <td>198.000000</td>\n",
              "      <td>198.000000</td>\n",
              "      <td>135.000000</td>\n",
              "      <td>568.000000</td>\n",
              "      <td>76.000000</td>\n",
              "      <td>184.000000</td>\n",
              "      <td>3.000000</td>\n",
              "    </tr>\n",
              "  </tbody>\n",
              "</table>\n",
              "</div>"
            ],
            "text/plain": [
              "         discovered        passed  ...         wrong      num_days\n",
              "count  19234.000000  19234.000000  ...  19234.000000  19234.000000\n",
              "mean      12.364875     11.407040  ...      2.840023      1.343298\n",
              "std       18.037964     16.814163  ...      9.082522      0.625138\n",
              "min        0.000000      0.000000  ...      0.000000      1.000000\n",
              "25%        1.000000      1.000000  ...      0.000000      1.000000\n",
              "50%        6.000000      5.000000  ...      0.000000      1.000000\n",
              "75%       16.000000     14.000000  ...      1.000000      2.000000\n",
              "max      198.000000    198.000000  ...    184.000000      3.000000\n",
              "\n",
              "[8 rows x 7 columns]"
            ]
          },
          "metadata": {
            "tags": []
          },
          "execution_count": 21
        }
      ]
    },
    {
      "cell_type": "code",
      "metadata": {
        "id": "QgOEvvoG-iV4",
        "colab": {
          "base_uri": "https://localhost:8080/",
          "height": 294
        },
        "outputId": "ba49a712-c040-4ed8-a51b-ec8264b6062a"
      },
      "source": [
        "test_df.describe()"
      ],
      "execution_count": 22,
      "outputs": [
        {
          "output_type": "execute_result",
          "data": {
            "text/html": [
              "<div>\n",
              "<style scoped>\n",
              "    .dataframe tbody tr th:only-of-type {\n",
              "        vertical-align: middle;\n",
              "    }\n",
              "\n",
              "    .dataframe tbody tr th {\n",
              "        vertical-align: top;\n",
              "    }\n",
              "\n",
              "    .dataframe thead th {\n",
              "        text-align: right;\n",
              "    }\n",
              "</style>\n",
              "<table border=\"1\" class=\"dataframe\">\n",
              "  <thead>\n",
              "    <tr style=\"text-align: right;\">\n",
              "      <th></th>\n",
              "      <th>discovered</th>\n",
              "      <th>passed</th>\n",
              "      <th>started_attempt</th>\n",
              "      <th>viewed</th>\n",
              "      <th>correct</th>\n",
              "      <th>wrong</th>\n",
              "      <th>num_days</th>\n",
              "    </tr>\n",
              "  </thead>\n",
              "  <tbody>\n",
              "    <tr>\n",
              "      <th>count</th>\n",
              "      <td>6184.000000</td>\n",
              "      <td>6184.000000</td>\n",
              "      <td>6184.000000</td>\n",
              "      <td>6184.000000</td>\n",
              "      <td>6184.000000</td>\n",
              "      <td>6184.000000</td>\n",
              "      <td>6184.000000</td>\n",
              "    </tr>\n",
              "    <tr>\n",
              "      <th>mean</th>\n",
              "      <td>10.877749</td>\n",
              "      <td>10.083603</td>\n",
              "      <td>4.344599</td>\n",
              "      <td>19.126132</td>\n",
              "      <td>2.825841</td>\n",
              "      <td>2.842820</td>\n",
              "      <td>1.303364</td>\n",
              "    </tr>\n",
              "    <tr>\n",
              "      <th>std</th>\n",
              "      <td>17.601541</td>\n",
              "      <td>16.496344</td>\n",
              "      <td>9.096022</td>\n",
              "      <td>41.319291</td>\n",
              "      <td>6.143144</td>\n",
              "      <td>10.725406</td>\n",
              "      <td>0.605769</td>\n",
              "    </tr>\n",
              "    <tr>\n",
              "      <th>min</th>\n",
              "      <td>0.000000</td>\n",
              "      <td>0.000000</td>\n",
              "      <td>0.000000</td>\n",
              "      <td>0.000000</td>\n",
              "      <td>0.000000</td>\n",
              "      <td>0.000000</td>\n",
              "      <td>1.000000</td>\n",
              "    </tr>\n",
              "    <tr>\n",
              "      <th>25%</th>\n",
              "      <td>1.000000</td>\n",
              "      <td>1.000000</td>\n",
              "      <td>0.000000</td>\n",
              "      <td>1.000000</td>\n",
              "      <td>0.000000</td>\n",
              "      <td>0.000000</td>\n",
              "      <td>1.000000</td>\n",
              "    </tr>\n",
              "    <tr>\n",
              "      <th>50%</th>\n",
              "      <td>2.000000</td>\n",
              "      <td>2.000000</td>\n",
              "      <td>1.000000</td>\n",
              "      <td>3.000000</td>\n",
              "      <td>0.000000</td>\n",
              "      <td>0.000000</td>\n",
              "      <td>1.000000</td>\n",
              "    </tr>\n",
              "    <tr>\n",
              "      <th>75%</th>\n",
              "      <td>12.000000</td>\n",
              "      <td>11.000000</td>\n",
              "      <td>4.000000</td>\n",
              "      <td>17.000000</td>\n",
              "      <td>2.000000</td>\n",
              "      <td>0.000000</td>\n",
              "      <td>1.000000</td>\n",
              "    </tr>\n",
              "    <tr>\n",
              "      <th>max</th>\n",
              "      <td>180.000000</td>\n",
              "      <td>151.000000</td>\n",
              "      <td>113.000000</td>\n",
              "      <td>543.000000</td>\n",
              "      <td>46.000000</td>\n",
              "      <td>166.000000</td>\n",
              "      <td>3.000000</td>\n",
              "    </tr>\n",
              "  </tbody>\n",
              "</table>\n",
              "</div>"
            ],
            "text/plain": [
              "        discovered       passed  ...        wrong     num_days\n",
              "count  6184.000000  6184.000000  ...  6184.000000  6184.000000\n",
              "mean     10.877749    10.083603  ...     2.842820     1.303364\n",
              "std      17.601541    16.496344  ...    10.725406     0.605769\n",
              "min       0.000000     0.000000  ...     0.000000     1.000000\n",
              "25%       1.000000     1.000000  ...     0.000000     1.000000\n",
              "50%       2.000000     2.000000  ...     0.000000     1.000000\n",
              "75%      12.000000    11.000000  ...     0.000000     1.000000\n",
              "max     180.000000   151.000000  ...   166.000000     3.000000\n",
              "\n",
              "[8 rows x 7 columns]"
            ]
          },
          "metadata": {
            "tags": []
          },
          "execution_count": 22
        }
      ]
    },
    {
      "cell_type": "markdown",
      "metadata": {
        "id": "hsh39RdP-iV5"
      },
      "source": [
        "Видим, что бывают пользователи, у которых по нулям значения ```discovered``` и ```viewed```, что противоречит интуитивному пониманию семантики признаков."
      ]
    },
    {
      "cell_type": "markdown",
      "metadata": {
        "id": "Oh1AvHCq-iV-"
      },
      "source": [
        "# Поиск аномалий в базовых признаках"
      ]
    },
    {
      "cell_type": "markdown",
      "metadata": {
        "id": "MKykkmNb-iV_"
      },
      "source": [
        "Бывает ли passed больше одного раза на степ для юзера?"
      ]
    },
    {
      "cell_type": "code",
      "metadata": {
        "id": "9VIYQybi-iV_",
        "colab": {
          "base_uri": "https://localhost:8080/"
        },
        "outputId": "f221dc67-ada6-44e9-b231-7be0dbf3f17b"
      },
      "source": [
        "events.query('action == \"passed\"').groupby(['user_id', 'step_id']).timestamp.count().value_counts()"
      ],
      "execution_count": 23,
      "outputs": [
        {
          "output_type": "execute_result",
          "data": {
            "text/plain": [
              "1    650331\n",
              "Name: timestamp, dtype: int64"
            ]
          },
          "metadata": {
            "tags": []
          },
          "execution_count": 23
        }
      ]
    },
    {
      "cell_type": "code",
      "metadata": {
        "id": "AALTWuMz-iWA",
        "colab": {
          "base_uri": "https://localhost:8080/"
        },
        "outputId": "12231f08-5e7d-48f8-e796-8ec3519c5c1f"
      },
      "source": [
        "events_test.query('action == \"passed\"').groupby(['user_id', 'step_id']).timestamp.count().value_counts()"
      ],
      "execution_count": 24,
      "outputs": [
        {
          "output_type": "execute_result",
          "data": {
            "text/plain": [
              "1    62357\n",
              "Name: timestamp, dtype: int64"
            ]
          },
          "metadata": {
            "tags": []
          },
          "execution_count": 24
        }
      ]
    },
    {
      "cell_type": "markdown",
      "metadata": {
        "id": "_V-QE6yR-iWA"
      },
      "source": [
        "Не бывает, хоть это хорошо. И ```discovered``` тоже не бывает. Для не-задач не бывает действий ```started_attempt```, это хорошо:"
      ]
    },
    {
      "cell_type": "code",
      "metadata": {
        "id": "ZDJ7Qb7Q-iWA",
        "colab": {
          "base_uri": "https://localhost:8080/"
        },
        "outputId": "8a2e3c97-c30f-4c55-df70-39473423320e"
      },
      "source": [
        "events[events.step_id.isin(non_problem_steps)].groupby('action').timestamp.count()"
      ],
      "execution_count": 25,
      "outputs": [
        {
          "output_type": "execute_result",
          "data": {
            "text/plain": [
              "action\n",
              "discovered     433889\n",
              "passed         433889\n",
              "viewed        1117742\n",
              "Name: timestamp, dtype: int64"
            ]
          },
          "metadata": {
            "tags": []
          },
          "execution_count": 25
        }
      ]
    },
    {
      "cell_type": "code",
      "metadata": {
        "id": "VA4TbAMl-iWB",
        "colab": {
          "base_uri": "https://localhost:8080/"
        },
        "outputId": "84483345-d900-4748-a490-6e9c8f38981e"
      },
      "source": [
        "events_test[events_test.step_id.isin(non_problem_steps)].groupby('action').timestamp.count()"
      ],
      "execution_count": 26,
      "outputs": [
        {
          "output_type": "execute_result",
          "data": {
            "text/plain": [
              "action\n",
              "discovered    45194\n",
              "passed        45194\n",
              "viewed        77439\n",
              "Name: timestamp, dtype: int64"
            ]
          },
          "metadata": {
            "tags": []
          },
          "execution_count": 26
        }
      ]
    },
    {
      "cell_type": "markdown",
      "metadata": {
        "id": "-Iqg7YzW-iWB"
      },
      "source": [
        "## Аномалии с признаками задач"
      ]
    },
    {
      "cell_type": "markdown",
      "metadata": {
        "id": "cMh1oZ-d-iWB"
      },
      "source": [
        "Попробуем поискать пользователей с аномальными сочетаниями значений признаков в базовой таблице. Например, почти всегда решение задачи начинается с ивента ```started_attempt```, но есть и случаи, для которых ```started_attempt = 0```, но при этом были попытки решить задачу:"
      ]
    },
    {
      "cell_type": "code",
      "metadata": {
        "id": "fT0wvzYy-iWC",
        "colab": {
          "base_uri": "https://localhost:8080/",
          "height": 233
        },
        "outputId": "9769763c-1446-4cca-ee16-c89127a8770b"
      },
      "source": [
        "problem_column_order = ['discovered', 'passed', 'started_attempt', 'viewed', 'correct', 'wrong']\n",
        "\n",
        "\n",
        "def get_actions_by_user_and_step(actions_df, steps_subset=problem_steps, column_order=problem_column_order):\n",
        "    \"\"\"Посчитать количество действий с разбивкой по юзерам и степам\"\"\"\n",
        "    \n",
        "    actions_by_user_and_step = actions_df[actions_df.step_id.isin(steps_subset)].pivot_table(\n",
        "    index=['user_id', 'step_id'],\n",
        "    columns='action',\n",
        "    values='timestamp',\n",
        "    aggfunc='count',\n",
        "    fill_value=0,\n",
        "    )\n",
        "    \n",
        "    actions_by_user_and_step = actions_by_user_and_step[column_order]\n",
        "    return actions_by_user_and_step\n",
        "\n",
        "\n",
        "problem_actions_user_step = get_actions_by_user_and_step(all_actions)\n",
        "problem_actions_user_step_2d = get_actions_by_user_and_step(all_actions_2d)\n",
        "problem_actions_user_step_test = get_actions_by_user_and_step(all_actions_test)\n",
        "\n",
        "problem_actions_user_step.head()"
      ],
      "execution_count": 27,
      "outputs": [
        {
          "output_type": "execute_result",
          "data": {
            "text/html": [
              "<div>\n",
              "<style scoped>\n",
              "    .dataframe tbody tr th:only-of-type {\n",
              "        vertical-align: middle;\n",
              "    }\n",
              "\n",
              "    .dataframe tbody tr th {\n",
              "        vertical-align: top;\n",
              "    }\n",
              "\n",
              "    .dataframe thead th {\n",
              "        text-align: right;\n",
              "    }\n",
              "</style>\n",
              "<table border=\"1\" class=\"dataframe\">\n",
              "  <thead>\n",
              "    <tr style=\"text-align: right;\">\n",
              "      <th></th>\n",
              "      <th>action</th>\n",
              "      <th>discovered</th>\n",
              "      <th>passed</th>\n",
              "      <th>started_attempt</th>\n",
              "      <th>viewed</th>\n",
              "      <th>correct</th>\n",
              "      <th>wrong</th>\n",
              "    </tr>\n",
              "    <tr>\n",
              "      <th>user_id</th>\n",
              "      <th>step_id</th>\n",
              "      <th></th>\n",
              "      <th></th>\n",
              "      <th></th>\n",
              "      <th></th>\n",
              "      <th></th>\n",
              "      <th></th>\n",
              "    </tr>\n",
              "  </thead>\n",
              "  <tbody>\n",
              "    <tr>\n",
              "      <th>1</th>\n",
              "      <th>31981</th>\n",
              "      <td>1</td>\n",
              "      <td>0</td>\n",
              "      <td>0</td>\n",
              "      <td>1</td>\n",
              "      <td>0</td>\n",
              "      <td>0</td>\n",
              "    </tr>\n",
              "    <tr>\n",
              "      <th rowspan=\"2\" valign=\"top\">2</th>\n",
              "      <th>32812</th>\n",
              "      <td>1</td>\n",
              "      <td>1</td>\n",
              "      <td>1</td>\n",
              "      <td>1</td>\n",
              "      <td>1</td>\n",
              "      <td>0</td>\n",
              "    </tr>\n",
              "    <tr>\n",
              "      <th>32929</th>\n",
              "      <td>1</td>\n",
              "      <td>1</td>\n",
              "      <td>1</td>\n",
              "      <td>1</td>\n",
              "      <td>1</td>\n",
              "      <td>0</td>\n",
              "    </tr>\n",
              "    <tr>\n",
              "      <th rowspan=\"2\" valign=\"top\">3</th>\n",
              "      <th>31971</th>\n",
              "      <td>1</td>\n",
              "      <td>1</td>\n",
              "      <td>1</td>\n",
              "      <td>2</td>\n",
              "      <td>1</td>\n",
              "      <td>0</td>\n",
              "    </tr>\n",
              "    <tr>\n",
              "      <th>31972</th>\n",
              "      <td>1</td>\n",
              "      <td>1</td>\n",
              "      <td>1</td>\n",
              "      <td>1</td>\n",
              "      <td>1</td>\n",
              "      <td>0</td>\n",
              "    </tr>\n",
              "  </tbody>\n",
              "</table>\n",
              "</div>"
            ],
            "text/plain": [
              "action           discovered  passed  started_attempt  viewed  correct  wrong\n",
              "user_id step_id                                                             \n",
              "1       31981             1       0                0       1        0      0\n",
              "2       32812             1       1                1       1        1      0\n",
              "        32929             1       1                1       1        1      0\n",
              "3       31971             1       1                1       2        1      0\n",
              "        31972             1       1                1       1        1      0"
            ]
          },
          "metadata": {
            "tags": []
          },
          "execution_count": 27
        }
      ]
    },
    {
      "cell_type": "code",
      "metadata": {
        "colab": {
          "base_uri": "https://localhost:8080/",
          "height": 263
        },
        "id": "_P_NTPXW__E7",
        "outputId": "5b426375-93f4-42e2-b772-7caf6b912056"
      },
      "source": [
        "problem_actions_user_step.query('started_attempt == 0 & ((correct + wrong > 0) | (passed > 0))')"
      ],
      "execution_count": 28,
      "outputs": [
        {
          "output_type": "execute_result",
          "data": {
            "text/html": [
              "<div>\n",
              "<style scoped>\n",
              "    .dataframe tbody tr th:only-of-type {\n",
              "        vertical-align: middle;\n",
              "    }\n",
              "\n",
              "    .dataframe tbody tr th {\n",
              "        vertical-align: top;\n",
              "    }\n",
              "\n",
              "    .dataframe thead th {\n",
              "        text-align: right;\n",
              "    }\n",
              "</style>\n",
              "<table border=\"1\" class=\"dataframe\">\n",
              "  <thead>\n",
              "    <tr style=\"text-align: right;\">\n",
              "      <th></th>\n",
              "      <th>action</th>\n",
              "      <th>discovered</th>\n",
              "      <th>passed</th>\n",
              "      <th>started_attempt</th>\n",
              "      <th>viewed</th>\n",
              "      <th>correct</th>\n",
              "      <th>wrong</th>\n",
              "    </tr>\n",
              "    <tr>\n",
              "      <th>user_id</th>\n",
              "      <th>step_id</th>\n",
              "      <th></th>\n",
              "      <th></th>\n",
              "      <th></th>\n",
              "      <th></th>\n",
              "      <th></th>\n",
              "      <th></th>\n",
              "    </tr>\n",
              "  </thead>\n",
              "  <tbody>\n",
              "    <tr>\n",
              "      <th rowspan=\"3\" valign=\"top\">1046</th>\n",
              "      <th>32175</th>\n",
              "      <td>0</td>\n",
              "      <td>0</td>\n",
              "      <td>0</td>\n",
              "      <td>52</td>\n",
              "      <td>0</td>\n",
              "      <td>1</td>\n",
              "    </tr>\n",
              "    <tr>\n",
              "      <th>32810</th>\n",
              "      <td>0</td>\n",
              "      <td>1</td>\n",
              "      <td>0</td>\n",
              "      <td>31</td>\n",
              "      <td>1</td>\n",
              "      <td>0</td>\n",
              "    </tr>\n",
              "    <tr>\n",
              "      <th>32929</th>\n",
              "      <td>0</td>\n",
              "      <td>1</td>\n",
              "      <td>0</td>\n",
              "      <td>38</td>\n",
              "      <td>1</td>\n",
              "      <td>0</td>\n",
              "    </tr>\n",
              "    <tr>\n",
              "      <th>1078</th>\n",
              "      <th>32190</th>\n",
              "      <td>0</td>\n",
              "      <td>1</td>\n",
              "      <td>0</td>\n",
              "      <td>17</td>\n",
              "      <td>1</td>\n",
              "      <td>0</td>\n",
              "    </tr>\n",
              "    <tr>\n",
              "      <th>11582</th>\n",
              "      <th>32219</th>\n",
              "      <td>0</td>\n",
              "      <td>1</td>\n",
              "      <td>0</td>\n",
              "      <td>2</td>\n",
              "      <td>1</td>\n",
              "      <td>0</td>\n",
              "    </tr>\n",
              "    <tr>\n",
              "      <th>19286</th>\n",
              "      <th>32089</th>\n",
              "      <td>0</td>\n",
              "      <td>1</td>\n",
              "      <td>0</td>\n",
              "      <td>1</td>\n",
              "      <td>1</td>\n",
              "      <td>0</td>\n",
              "    </tr>\n",
              "  </tbody>\n",
              "</table>\n",
              "</div>"
            ],
            "text/plain": [
              "action           discovered  passed  started_attempt  viewed  correct  wrong\n",
              "user_id step_id                                                             \n",
              "1046    32175             0       0                0      52        0      1\n",
              "        32810             0       1                0      31        1      0\n",
              "        32929             0       1                0      38        1      0\n",
              "1078    32190             0       1                0      17        1      0\n",
              "11582   32219             0       1                0       2        1      0\n",
              "19286   32089             0       1                0       1        1      0"
            ]
          },
          "metadata": {
            "tags": []
          },
          "execution_count": 28
        }
      ]
    },
    {
      "cell_type": "markdown",
      "metadata": {
        "id": "TtmvO3ow-iWD"
      },
      "source": [
        "Видим также, что у этих пользователей и степов стоит 0 в графе ```discovered```, чего тоже быть не должно. Посмотрим на это потом."
      ]
    },
    {
      "cell_type": "code",
      "metadata": {
        "colab": {
          "base_uri": "https://localhost:8080/",
          "height": 141
        },
        "id": "sGIPPK71ADJM",
        "outputId": "312e68fc-e833-4675-ecc9-81935c3b3b1c"
      },
      "source": [
        "problem_actions_user_step_2d.query('started_attempt == 0 & ((correct + wrong > 0) | (passed > 0))')"
      ],
      "execution_count": 29,
      "outputs": [
        {
          "output_type": "execute_result",
          "data": {
            "text/html": [
              "<div>\n",
              "<style scoped>\n",
              "    .dataframe tbody tr th:only-of-type {\n",
              "        vertical-align: middle;\n",
              "    }\n",
              "\n",
              "    .dataframe tbody tr th {\n",
              "        vertical-align: top;\n",
              "    }\n",
              "\n",
              "    .dataframe thead th {\n",
              "        text-align: right;\n",
              "    }\n",
              "</style>\n",
              "<table border=\"1\" class=\"dataframe\">\n",
              "  <thead>\n",
              "    <tr style=\"text-align: right;\">\n",
              "      <th></th>\n",
              "      <th>action</th>\n",
              "      <th>discovered</th>\n",
              "      <th>passed</th>\n",
              "      <th>started_attempt</th>\n",
              "      <th>viewed</th>\n",
              "      <th>correct</th>\n",
              "      <th>wrong</th>\n",
              "    </tr>\n",
              "    <tr>\n",
              "      <th>user_id</th>\n",
              "      <th>step_id</th>\n",
              "      <th></th>\n",
              "      <th></th>\n",
              "      <th></th>\n",
              "      <th></th>\n",
              "      <th></th>\n",
              "      <th></th>\n",
              "    </tr>\n",
              "  </thead>\n",
              "  <tbody>\n",
              "    <tr>\n",
              "      <th rowspan=\"2\" valign=\"top\">1046</th>\n",
              "      <th>31977</th>\n",
              "      <td>0</td>\n",
              "      <td>0</td>\n",
              "      <td>0</td>\n",
              "      <td>24</td>\n",
              "      <td>1</td>\n",
              "      <td>0</td>\n",
              "    </tr>\n",
              "    <tr>\n",
              "      <th>32810</th>\n",
              "      <td>0</td>\n",
              "      <td>1</td>\n",
              "      <td>0</td>\n",
              "      <td>6</td>\n",
              "      <td>1</td>\n",
              "      <td>0</td>\n",
              "    </tr>\n",
              "  </tbody>\n",
              "</table>\n",
              "</div>"
            ],
            "text/plain": [
              "action           discovered  passed  started_attempt  viewed  correct  wrong\n",
              "user_id step_id                                                             \n",
              "1046    31977             0       0                0      24        1      0\n",
              "        32810             0       1                0       6        1      0"
            ]
          },
          "metadata": {
            "tags": []
          },
          "execution_count": 29
        }
      ]
    },
    {
      "cell_type": "markdown",
      "metadata": {
        "id": "8zBrT6G4-iWE"
      },
      "source": [
        "В выборке за 2 дня остается только ```user_id = 1046```, запомним его как выброс. Причем появляется новый степ, то есть, на самом деле надо проверять (группируя по степам) ```correct```, ```wrong``` или ```passed```, идущие перед ```started_attempt```. Но это как-то сложно пока что."
      ]
    },
    {
      "cell_type": "code",
      "metadata": {
        "id": "RK8LjC0H-iWE"
      },
      "source": [
        "outlier_users = [1046]"
      ],
      "execution_count": 30,
      "outputs": []
    },
    {
      "cell_type": "markdown",
      "metadata": {
        "id": "h4oIoiIu-iWE"
      },
      "source": [
        "В тестовой выборке аналогичных аномалий нет:"
      ]
    },
    {
      "cell_type": "code",
      "metadata": {
        "id": "TkIBwjp7-iWF",
        "colab": {
          "base_uri": "https://localhost:8080/",
          "height": 79
        },
        "outputId": "17ee86be-a37e-4e96-8e45-5c11217946b9"
      },
      "source": [
        "problem_actions_user_step_test.query('started_attempt == 0 & ((correct + wrong > 0) | (passed > 0))')"
      ],
      "execution_count": 31,
      "outputs": [
        {
          "output_type": "execute_result",
          "data": {
            "text/html": [
              "<div>\n",
              "<style scoped>\n",
              "    .dataframe tbody tr th:only-of-type {\n",
              "        vertical-align: middle;\n",
              "    }\n",
              "\n",
              "    .dataframe tbody tr th {\n",
              "        vertical-align: top;\n",
              "    }\n",
              "\n",
              "    .dataframe thead th {\n",
              "        text-align: right;\n",
              "    }\n",
              "</style>\n",
              "<table border=\"1\" class=\"dataframe\">\n",
              "  <thead>\n",
              "    <tr style=\"text-align: right;\">\n",
              "      <th></th>\n",
              "      <th>action</th>\n",
              "      <th>discovered</th>\n",
              "      <th>passed</th>\n",
              "      <th>started_attempt</th>\n",
              "      <th>viewed</th>\n",
              "      <th>correct</th>\n",
              "      <th>wrong</th>\n",
              "    </tr>\n",
              "    <tr>\n",
              "      <th>user_id</th>\n",
              "      <th>step_id</th>\n",
              "      <th></th>\n",
              "      <th></th>\n",
              "      <th></th>\n",
              "      <th></th>\n",
              "      <th></th>\n",
              "      <th></th>\n",
              "    </tr>\n",
              "  </thead>\n",
              "  <tbody>\n",
              "  </tbody>\n",
              "</table>\n",
              "</div>"
            ],
            "text/plain": [
              "Empty DataFrame\n",
              "Columns: [discovered, passed, started_attempt, viewed, correct, wrong]\n",
              "Index: []"
            ]
          },
          "metadata": {
            "tags": []
          },
          "execution_count": 31
        }
      ]
    },
    {
      "cell_type": "markdown",
      "metadata": {
        "id": "YnCgR4qj-iWF"
      },
      "source": [
        "Проверим также аномальные сочетания ```passed == 0 & correct > 0``` и ```passed > 0 & correct == 0```:"
      ]
    },
    {
      "cell_type": "code",
      "metadata": {
        "id": "y4fU4E6H-iWG",
        "colab": {
          "base_uri": "https://localhost:8080/",
          "height": 478
        },
        "outputId": "49fc7d4f-b10c-480a-c559-e50576405ccb"
      },
      "source": [
        "problem_actions_user_step_2d.query('passed == 0 & correct > 0') # для all_actions то же самое выдает"
      ],
      "execution_count": 32,
      "outputs": [
        {
          "output_type": "execute_result",
          "data": {
            "text/html": [
              "<div>\n",
              "<style scoped>\n",
              "    .dataframe tbody tr th:only-of-type {\n",
              "        vertical-align: middle;\n",
              "    }\n",
              "\n",
              "    .dataframe tbody tr th {\n",
              "        vertical-align: top;\n",
              "    }\n",
              "\n",
              "    .dataframe thead th {\n",
              "        text-align: right;\n",
              "    }\n",
              "</style>\n",
              "<table border=\"1\" class=\"dataframe\">\n",
              "  <thead>\n",
              "    <tr style=\"text-align: right;\">\n",
              "      <th></th>\n",
              "      <th>action</th>\n",
              "      <th>discovered</th>\n",
              "      <th>passed</th>\n",
              "      <th>started_attempt</th>\n",
              "      <th>viewed</th>\n",
              "      <th>correct</th>\n",
              "      <th>wrong</th>\n",
              "    </tr>\n",
              "    <tr>\n",
              "      <th>user_id</th>\n",
              "      <th>step_id</th>\n",
              "      <th></th>\n",
              "      <th></th>\n",
              "      <th></th>\n",
              "      <th></th>\n",
              "      <th></th>\n",
              "      <th></th>\n",
              "    </tr>\n",
              "  </thead>\n",
              "  <tbody>\n",
              "    <tr>\n",
              "      <th rowspan=\"11\" valign=\"top\">1046</th>\n",
              "      <th>31971</th>\n",
              "      <td>0</td>\n",
              "      <td>0</td>\n",
              "      <td>1</td>\n",
              "      <td>14</td>\n",
              "      <td>1</td>\n",
              "      <td>0</td>\n",
              "    </tr>\n",
              "    <tr>\n",
              "      <th>31972</th>\n",
              "      <td>0</td>\n",
              "      <td>0</td>\n",
              "      <td>1</td>\n",
              "      <td>20</td>\n",
              "      <td>1</td>\n",
              "      <td>0</td>\n",
              "    </tr>\n",
              "    <tr>\n",
              "      <th>31976</th>\n",
              "      <td>0</td>\n",
              "      <td>0</td>\n",
              "      <td>3</td>\n",
              "      <td>30</td>\n",
              "      <td>2</td>\n",
              "      <td>1</td>\n",
              "    </tr>\n",
              "    <tr>\n",
              "      <th>31977</th>\n",
              "      <td>0</td>\n",
              "      <td>0</td>\n",
              "      <td>0</td>\n",
              "      <td>24</td>\n",
              "      <td>1</td>\n",
              "      <td>0</td>\n",
              "    </tr>\n",
              "    <tr>\n",
              "      <th>31979</th>\n",
              "      <td>0</td>\n",
              "      <td>0</td>\n",
              "      <td>5</td>\n",
              "      <td>18</td>\n",
              "      <td>4</td>\n",
              "      <td>1</td>\n",
              "    </tr>\n",
              "    <tr>\n",
              "      <th>31981</th>\n",
              "      <td>0</td>\n",
              "      <td>0</td>\n",
              "      <td>1</td>\n",
              "      <td>12</td>\n",
              "      <td>1</td>\n",
              "      <td>0</td>\n",
              "    </tr>\n",
              "    <tr>\n",
              "      <th>31983</th>\n",
              "      <td>0</td>\n",
              "      <td>0</td>\n",
              "      <td>2</td>\n",
              "      <td>23</td>\n",
              "      <td>1</td>\n",
              "      <td>1</td>\n",
              "    </tr>\n",
              "    <tr>\n",
              "      <th>32031</th>\n",
              "      <td>0</td>\n",
              "      <td>0</td>\n",
              "      <td>1</td>\n",
              "      <td>15</td>\n",
              "      <td>1</td>\n",
              "      <td>0</td>\n",
              "    </tr>\n",
              "    <tr>\n",
              "      <th>32173</th>\n",
              "      <td>0</td>\n",
              "      <td>0</td>\n",
              "      <td>1</td>\n",
              "      <td>9</td>\n",
              "      <td>1</td>\n",
              "      <td>0</td>\n",
              "    </tr>\n",
              "    <tr>\n",
              "      <th>32174</th>\n",
              "      <td>0</td>\n",
              "      <td>0</td>\n",
              "      <td>1</td>\n",
              "      <td>12</td>\n",
              "      <td>1</td>\n",
              "      <td>0</td>\n",
              "    </tr>\n",
              "    <tr>\n",
              "      <th>32244</th>\n",
              "      <td>0</td>\n",
              "      <td>0</td>\n",
              "      <td>2</td>\n",
              "      <td>17</td>\n",
              "      <td>1</td>\n",
              "      <td>1</td>\n",
              "    </tr>\n",
              "    <tr>\n",
              "      <th>1078</th>\n",
              "      <th>32202</th>\n",
              "      <td>0</td>\n",
              "      <td>0</td>\n",
              "      <td>2</td>\n",
              "      <td>4</td>\n",
              "      <td>2</td>\n",
              "      <td>1</td>\n",
              "    </tr>\n",
              "    <tr>\n",
              "      <th>4762</th>\n",
              "      <th>32244</th>\n",
              "      <td>0</td>\n",
              "      <td>0</td>\n",
              "      <td>3</td>\n",
              "      <td>6</td>\n",
              "      <td>3</td>\n",
              "      <td>3</td>\n",
              "    </tr>\n",
              "  </tbody>\n",
              "</table>\n",
              "</div>"
            ],
            "text/plain": [
              "action           discovered  passed  started_attempt  viewed  correct  wrong\n",
              "user_id step_id                                                             \n",
              "1046    31971             0       0                1      14        1      0\n",
              "        31972             0       0                1      20        1      0\n",
              "        31976             0       0                3      30        2      1\n",
              "        31977             0       0                0      24        1      0\n",
              "        31979             0       0                5      18        4      1\n",
              "        31981             0       0                1      12        1      0\n",
              "        31983             0       0                2      23        1      1\n",
              "        32031             0       0                1      15        1      0\n",
              "        32173             0       0                1       9        1      0\n",
              "        32174             0       0                1      12        1      0\n",
              "        32244             0       0                2      17        1      1\n",
              "1078    32202             0       0                2       4        2      1\n",
              "4762    32244             0       0                3       6        3      3"
            ]
          },
          "metadata": {
            "tags": []
          },
          "execution_count": 32
        }
      ]
    },
    {
      "cell_type": "markdown",
      "metadata": {
        "id": "lCqImuPN-iWG"
      },
      "source": [
        "Добавим ```user_id = 1078, 4762``` в выбросы тоже (они и по другим признакам будут аномальными, см. ниже)."
      ]
    },
    {
      "cell_type": "code",
      "metadata": {
        "id": "HKYduwIW-iWG"
      },
      "source": [
        "outlier_users += [1078, 4762]"
      ],
      "execution_count": 33,
      "outputs": []
    },
    {
      "cell_type": "code",
      "metadata": {
        "id": "CafZ2Uk5-iWH",
        "colab": {
          "base_uri": "https://localhost:8080/",
          "height": 79
        },
        "outputId": "fa9c7792-5eda-4b5d-8962-fd41ae5999af"
      },
      "source": [
        "problem_actions_user_step_test.query('passed == 0 & correct > 0')"
      ],
      "execution_count": 34,
      "outputs": [
        {
          "output_type": "execute_result",
          "data": {
            "text/html": [
              "<div>\n",
              "<style scoped>\n",
              "    .dataframe tbody tr th:only-of-type {\n",
              "        vertical-align: middle;\n",
              "    }\n",
              "\n",
              "    .dataframe tbody tr th {\n",
              "        vertical-align: top;\n",
              "    }\n",
              "\n",
              "    .dataframe thead th {\n",
              "        text-align: right;\n",
              "    }\n",
              "</style>\n",
              "<table border=\"1\" class=\"dataframe\">\n",
              "  <thead>\n",
              "    <tr style=\"text-align: right;\">\n",
              "      <th></th>\n",
              "      <th>action</th>\n",
              "      <th>discovered</th>\n",
              "      <th>passed</th>\n",
              "      <th>started_attempt</th>\n",
              "      <th>viewed</th>\n",
              "      <th>correct</th>\n",
              "      <th>wrong</th>\n",
              "    </tr>\n",
              "    <tr>\n",
              "      <th>user_id</th>\n",
              "      <th>step_id</th>\n",
              "      <th></th>\n",
              "      <th></th>\n",
              "      <th></th>\n",
              "      <th></th>\n",
              "      <th></th>\n",
              "      <th></th>\n",
              "    </tr>\n",
              "  </thead>\n",
              "  <tbody>\n",
              "  </tbody>\n",
              "</table>\n",
              "</div>"
            ],
            "text/plain": [
              "Empty DataFrame\n",
              "Columns: [discovered, passed, started_attempt, viewed, correct, wrong]\n",
              "Index: []"
            ]
          },
          "metadata": {
            "tags": []
          },
          "execution_count": 34
        }
      ]
    },
    {
      "cell_type": "code",
      "metadata": {
        "id": "NRpY7DfA-iWH",
        "colab": {
          "base_uri": "https://localhost:8080/",
          "height": 79
        },
        "outputId": "6a9a9d91-cc88-49d8-9ff1-965c397ef2c8"
      },
      "source": [
        "problem_actions_user_step.query('passed > 0 & correct == 0') "
      ],
      "execution_count": 35,
      "outputs": [
        {
          "output_type": "execute_result",
          "data": {
            "text/html": [
              "<div>\n",
              "<style scoped>\n",
              "    .dataframe tbody tr th:only-of-type {\n",
              "        vertical-align: middle;\n",
              "    }\n",
              "\n",
              "    .dataframe tbody tr th {\n",
              "        vertical-align: top;\n",
              "    }\n",
              "\n",
              "    .dataframe thead th {\n",
              "        text-align: right;\n",
              "    }\n",
              "</style>\n",
              "<table border=\"1\" class=\"dataframe\">\n",
              "  <thead>\n",
              "    <tr style=\"text-align: right;\">\n",
              "      <th></th>\n",
              "      <th>action</th>\n",
              "      <th>discovered</th>\n",
              "      <th>passed</th>\n",
              "      <th>started_attempt</th>\n",
              "      <th>viewed</th>\n",
              "      <th>correct</th>\n",
              "      <th>wrong</th>\n",
              "    </tr>\n",
              "    <tr>\n",
              "      <th>user_id</th>\n",
              "      <th>step_id</th>\n",
              "      <th></th>\n",
              "      <th></th>\n",
              "      <th></th>\n",
              "      <th></th>\n",
              "      <th></th>\n",
              "      <th></th>\n",
              "    </tr>\n",
              "  </thead>\n",
              "  <tbody>\n",
              "  </tbody>\n",
              "</table>\n",
              "</div>"
            ],
            "text/plain": [
              "Empty DataFrame\n",
              "Columns: [discovered, passed, started_attempt, viewed, correct, wrong]\n",
              "Index: []"
            ]
          },
          "metadata": {
            "tags": []
          },
          "execution_count": 35
        }
      ]
    },
    {
      "cell_type": "code",
      "metadata": {
        "id": "-wHcTu94-iWH",
        "colab": {
          "base_uri": "https://localhost:8080/",
          "height": 355
        },
        "outputId": "308661b2-6e31-4360-f2e0-883f4d165794"
      },
      "source": [
        "problem_actions_user_step_test.query('passed > 0 & correct == 0') "
      ],
      "execution_count": 36,
      "outputs": [
        {
          "output_type": "execute_result",
          "data": {
            "text/html": [
              "<div>\n",
              "<style scoped>\n",
              "    .dataframe tbody tr th:only-of-type {\n",
              "        vertical-align: middle;\n",
              "    }\n",
              "\n",
              "    .dataframe tbody tr th {\n",
              "        vertical-align: top;\n",
              "    }\n",
              "\n",
              "    .dataframe thead th {\n",
              "        text-align: right;\n",
              "    }\n",
              "</style>\n",
              "<table border=\"1\" class=\"dataframe\">\n",
              "  <thead>\n",
              "    <tr style=\"text-align: right;\">\n",
              "      <th></th>\n",
              "      <th>action</th>\n",
              "      <th>discovered</th>\n",
              "      <th>passed</th>\n",
              "      <th>started_attempt</th>\n",
              "      <th>viewed</th>\n",
              "      <th>correct</th>\n",
              "      <th>wrong</th>\n",
              "    </tr>\n",
              "    <tr>\n",
              "      <th>user_id</th>\n",
              "      <th>step_id</th>\n",
              "      <th></th>\n",
              "      <th></th>\n",
              "      <th></th>\n",
              "      <th></th>\n",
              "      <th></th>\n",
              "      <th></th>\n",
              "    </tr>\n",
              "  </thead>\n",
              "  <tbody>\n",
              "    <tr>\n",
              "      <th rowspan=\"9\" valign=\"top\">19480</th>\n",
              "      <th>31971</th>\n",
              "      <td>1</td>\n",
              "      <td>1</td>\n",
              "      <td>1</td>\n",
              "      <td>1</td>\n",
              "      <td>0</td>\n",
              "      <td>0</td>\n",
              "    </tr>\n",
              "    <tr>\n",
              "      <th>31972</th>\n",
              "      <td>1</td>\n",
              "      <td>1</td>\n",
              "      <td>1</td>\n",
              "      <td>1</td>\n",
              "      <td>0</td>\n",
              "      <td>0</td>\n",
              "    </tr>\n",
              "    <tr>\n",
              "      <th>31976</th>\n",
              "      <td>1</td>\n",
              "      <td>1</td>\n",
              "      <td>1</td>\n",
              "      <td>1</td>\n",
              "      <td>0</td>\n",
              "      <td>0</td>\n",
              "    </tr>\n",
              "    <tr>\n",
              "      <th>31977</th>\n",
              "      <td>1</td>\n",
              "      <td>1</td>\n",
              "      <td>2</td>\n",
              "      <td>1</td>\n",
              "      <td>0</td>\n",
              "      <td>0</td>\n",
              "    </tr>\n",
              "    <tr>\n",
              "      <th>31978</th>\n",
              "      <td>1</td>\n",
              "      <td>1</td>\n",
              "      <td>2</td>\n",
              "      <td>2</td>\n",
              "      <td>0</td>\n",
              "      <td>0</td>\n",
              "    </tr>\n",
              "    <tr>\n",
              "      <th>32219</th>\n",
              "      <td>1</td>\n",
              "      <td>1</td>\n",
              "      <td>1</td>\n",
              "      <td>1</td>\n",
              "      <td>0</td>\n",
              "      <td>0</td>\n",
              "    </tr>\n",
              "    <tr>\n",
              "      <th>32812</th>\n",
              "      <td>1</td>\n",
              "      <td>1</td>\n",
              "      <td>1</td>\n",
              "      <td>1</td>\n",
              "      <td>0</td>\n",
              "      <td>0</td>\n",
              "    </tr>\n",
              "    <tr>\n",
              "      <th>32929</th>\n",
              "      <td>1</td>\n",
              "      <td>1</td>\n",
              "      <td>2</td>\n",
              "      <td>1</td>\n",
              "      <td>0</td>\n",
              "      <td>0</td>\n",
              "    </tr>\n",
              "    <tr>\n",
              "      <th>120745</th>\n",
              "      <td>1</td>\n",
              "      <td>1</td>\n",
              "      <td>1</td>\n",
              "      <td>1</td>\n",
              "      <td>0</td>\n",
              "      <td>0</td>\n",
              "    </tr>\n",
              "  </tbody>\n",
              "</table>\n",
              "</div>"
            ],
            "text/plain": [
              "action           discovered  passed  started_attempt  viewed  correct  wrong\n",
              "user_id step_id                                                             \n",
              "19480   31971             1       1                1       1        0      0\n",
              "        31972             1       1                1       1        0      0\n",
              "        31976             1       1                1       1        0      0\n",
              "        31977             1       1                2       1        0      0\n",
              "        31978             1       1                2       2        0      0\n",
              "        32219             1       1                1       1        0      0\n",
              "        32812             1       1                1       1        0      0\n",
              "        32929             1       1                2       1        0      0\n",
              "        120745            1       1                1       1        0      0"
            ]
          },
          "metadata": {
            "tags": []
          },
          "execution_count": 36
        }
      ]
    },
    {
      "cell_type": "markdown",
      "metadata": {
        "id": "VO_OTyrz-iWI"
      },
      "source": [
        "А вот тут внезапно один поломанный юзер в тесте. Но одного можно пережить, пожалуй. А вот примеров когда человек начал решать задачу и не сделал ни одного сабмита много:"
      ]
    },
    {
      "cell_type": "code",
      "metadata": {
        "id": "AISq4p1o-iWI",
        "colab": {
          "base_uri": "https://localhost:8080/",
          "height": 446
        },
        "outputId": "646bb2ea-5f3a-490d-8a8e-81ecba349e04"
      },
      "source": [
        "problem_actions_user_step.query('started_attempt > 0 & (correct + wrong == 0)')"
      ],
      "execution_count": 37,
      "outputs": [
        {
          "output_type": "execute_result",
          "data": {
            "text/html": [
              "<div>\n",
              "<style scoped>\n",
              "    .dataframe tbody tr th:only-of-type {\n",
              "        vertical-align: middle;\n",
              "    }\n",
              "\n",
              "    .dataframe tbody tr th {\n",
              "        vertical-align: top;\n",
              "    }\n",
              "\n",
              "    .dataframe thead th {\n",
              "        text-align: right;\n",
              "    }\n",
              "</style>\n",
              "<table border=\"1\" class=\"dataframe\">\n",
              "  <thead>\n",
              "    <tr style=\"text-align: right;\">\n",
              "      <th></th>\n",
              "      <th>action</th>\n",
              "      <th>discovered</th>\n",
              "      <th>passed</th>\n",
              "      <th>started_attempt</th>\n",
              "      <th>viewed</th>\n",
              "      <th>correct</th>\n",
              "      <th>wrong</th>\n",
              "    </tr>\n",
              "    <tr>\n",
              "      <th>user_id</th>\n",
              "      <th>step_id</th>\n",
              "      <th></th>\n",
              "      <th></th>\n",
              "      <th></th>\n",
              "      <th></th>\n",
              "      <th></th>\n",
              "      <th></th>\n",
              "    </tr>\n",
              "  </thead>\n",
              "  <tbody>\n",
              "    <tr>\n",
              "      <th rowspan=\"5\" valign=\"top\">8</th>\n",
              "      <th>31988</th>\n",
              "      <td>1</td>\n",
              "      <td>0</td>\n",
              "      <td>1</td>\n",
              "      <td>2</td>\n",
              "      <td>0</td>\n",
              "      <td>0</td>\n",
              "    </tr>\n",
              "    <tr>\n",
              "      <th>32190</th>\n",
              "      <td>1</td>\n",
              "      <td>0</td>\n",
              "      <td>1</td>\n",
              "      <td>1</td>\n",
              "      <td>0</td>\n",
              "      <td>0</td>\n",
              "    </tr>\n",
              "    <tr>\n",
              "      <th>32809</th>\n",
              "      <td>1</td>\n",
              "      <td>0</td>\n",
              "      <td>1</td>\n",
              "      <td>1</td>\n",
              "      <td>0</td>\n",
              "      <td>0</td>\n",
              "    </tr>\n",
              "    <tr>\n",
              "      <th>32810</th>\n",
              "      <td>1</td>\n",
              "      <td>0</td>\n",
              "      <td>1</td>\n",
              "      <td>1</td>\n",
              "      <td>0</td>\n",
              "      <td>0</td>\n",
              "    </tr>\n",
              "    <tr>\n",
              "      <th>33351</th>\n",
              "      <td>1</td>\n",
              "      <td>0</td>\n",
              "      <td>1</td>\n",
              "      <td>1</td>\n",
              "      <td>0</td>\n",
              "      <td>0</td>\n",
              "    </tr>\n",
              "    <tr>\n",
              "      <th>...</th>\n",
              "      <th>...</th>\n",
              "      <td>...</td>\n",
              "      <td>...</td>\n",
              "      <td>...</td>\n",
              "      <td>...</td>\n",
              "      <td>...</td>\n",
              "      <td>...</td>\n",
              "    </tr>\n",
              "    <tr>\n",
              "      <th>26786</th>\n",
              "      <th>32812</th>\n",
              "      <td>1</td>\n",
              "      <td>0</td>\n",
              "      <td>1</td>\n",
              "      <td>3</td>\n",
              "      <td>0</td>\n",
              "      <td>0</td>\n",
              "    </tr>\n",
              "    <tr>\n",
              "      <th rowspan=\"3\" valign=\"top\">26787</th>\n",
              "      <th>32031</th>\n",
              "      <td>1</td>\n",
              "      <td>0</td>\n",
              "      <td>1</td>\n",
              "      <td>1</td>\n",
              "      <td>0</td>\n",
              "      <td>0</td>\n",
              "    </tr>\n",
              "    <tr>\n",
              "      <th>32173</th>\n",
              "      <td>1</td>\n",
              "      <td>0</td>\n",
              "      <td>1</td>\n",
              "      <td>1</td>\n",
              "      <td>0</td>\n",
              "      <td>0</td>\n",
              "    </tr>\n",
              "    <tr>\n",
              "      <th>32174</th>\n",
              "      <td>1</td>\n",
              "      <td>0</td>\n",
              "      <td>1</td>\n",
              "      <td>1</td>\n",
              "      <td>0</td>\n",
              "      <td>0</td>\n",
              "    </tr>\n",
              "    <tr>\n",
              "      <th>26793</th>\n",
              "      <th>31976</th>\n",
              "      <td>1</td>\n",
              "      <td>0</td>\n",
              "      <td>1</td>\n",
              "      <td>1</td>\n",
              "      <td>0</td>\n",
              "      <td>0</td>\n",
              "    </tr>\n",
              "  </tbody>\n",
              "</table>\n",
              "<p>16095 rows × 6 columns</p>\n",
              "</div>"
            ],
            "text/plain": [
              "action           discovered  passed  started_attempt  viewed  correct  wrong\n",
              "user_id step_id                                                             \n",
              "8       31988             1       0                1       2        0      0\n",
              "        32190             1       0                1       1        0      0\n",
              "        32809             1       0                1       1        0      0\n",
              "        32810             1       0                1       1        0      0\n",
              "        33351             1       0                1       1        0      0\n",
              "...                     ...     ...              ...     ...      ...    ...\n",
              "26786   32812             1       0                1       3        0      0\n",
              "26787   32031             1       0                1       1        0      0\n",
              "        32173             1       0                1       1        0      0\n",
              "        32174             1       0                1       1        0      0\n",
              "26793   31976             1       0                1       1        0      0\n",
              "\n",
              "[16095 rows x 6 columns]"
            ]
          },
          "metadata": {
            "tags": []
          },
          "execution_count": 37
        }
      ]
    },
    {
      "cell_type": "markdown",
      "metadata": {
        "id": "TQ8CfpXQ-iWI"
      },
      "source": [
        "## Аномалии с ```discovered``` и ```viewed```"
      ]
    },
    {
      "cell_type": "markdown",
      "metadata": {
        "id": "dZ-38N2y-iWJ"
      },
      "source": [
        "Теперь посмотрим на аномалии, связанные с ```discovered``` и ```viewed``` (по идее, если пользователь хоть как-то взаимодействовал со степом, то должны быть и эти взаимодействия), и для не задачных степов тоже."
      ]
    },
    {
      "cell_type": "code",
      "metadata": {
        "id": "UH95iqSO-iWJ",
        "colab": {
          "base_uri": "https://localhost:8080/",
          "height": 233
        },
        "outputId": "6824a2e2-70d7-4bb0-b597-d88539c78d50"
      },
      "source": [
        "non_problem_column_order = ['discovered', 'passed', 'viewed']\n",
        "\n",
        "non_problem_actions_user_step = get_actions_by_user_and_step(events, non_problem_steps, non_problem_column_order)\n",
        "non_problem_actions_user_step_2d = get_actions_by_user_and_step(events_2d, non_problem_steps, non_problem_column_order)\n",
        "non_problem_actions_user_step_test = get_actions_by_user_and_step(events_test, non_problem_steps, non_problem_column_order)\n",
        "\n",
        "non_problem_actions_user_step.head()"
      ],
      "execution_count": 38,
      "outputs": [
        {
          "output_type": "execute_result",
          "data": {
            "text/html": [
              "<div>\n",
              "<style scoped>\n",
              "    .dataframe tbody tr th:only-of-type {\n",
              "        vertical-align: middle;\n",
              "    }\n",
              "\n",
              "    .dataframe tbody tr th {\n",
              "        vertical-align: top;\n",
              "    }\n",
              "\n",
              "    .dataframe thead th {\n",
              "        text-align: right;\n",
              "    }\n",
              "</style>\n",
              "<table border=\"1\" class=\"dataframe\">\n",
              "  <thead>\n",
              "    <tr style=\"text-align: right;\">\n",
              "      <th></th>\n",
              "      <th>action</th>\n",
              "      <th>discovered</th>\n",
              "      <th>passed</th>\n",
              "      <th>viewed</th>\n",
              "    </tr>\n",
              "    <tr>\n",
              "      <th>user_id</th>\n",
              "      <th>step_id</th>\n",
              "      <th></th>\n",
              "      <th></th>\n",
              "      <th></th>\n",
              "    </tr>\n",
              "  </thead>\n",
              "  <tbody>\n",
              "    <tr>\n",
              "      <th rowspan=\"5\" valign=\"top\">2</th>\n",
              "      <th>32811</th>\n",
              "      <td>1</td>\n",
              "      <td>1</td>\n",
              "      <td>1</td>\n",
              "    </tr>\n",
              "    <tr>\n",
              "      <th>32814</th>\n",
              "      <td>1</td>\n",
              "      <td>1</td>\n",
              "      <td>1</td>\n",
              "    </tr>\n",
              "    <tr>\n",
              "      <th>32815</th>\n",
              "      <td>1</td>\n",
              "      <td>1</td>\n",
              "      <td>1</td>\n",
              "    </tr>\n",
              "    <tr>\n",
              "      <th>32816</th>\n",
              "      <td>1</td>\n",
              "      <td>1</td>\n",
              "      <td>1</td>\n",
              "    </tr>\n",
              "    <tr>\n",
              "      <th>32927</th>\n",
              "      <td>1</td>\n",
              "      <td>1</td>\n",
              "      <td>2</td>\n",
              "    </tr>\n",
              "  </tbody>\n",
              "</table>\n",
              "</div>"
            ],
            "text/plain": [
              "action           discovered  passed  viewed\n",
              "user_id step_id                            \n",
              "2       32811             1       1       1\n",
              "        32814             1       1       1\n",
              "        32815             1       1       1\n",
              "        32816             1       1       1\n",
              "        32927             1       1       2"
            ]
          },
          "metadata": {
            "tags": []
          },
          "execution_count": 38
        }
      ]
    },
    {
      "cell_type": "code",
      "metadata": {
        "id": "QODPoV-4-iWJ",
        "colab": {
          "base_uri": "https://localhost:8080/",
          "height": 79
        },
        "outputId": "83c73fb4-94f0-41e2-b1dd-a899b6417e5b"
      },
      "source": [
        "non_problem_actions_user_step.query('discovered != passed')"
      ],
      "execution_count": 39,
      "outputs": [
        {
          "output_type": "execute_result",
          "data": {
            "text/html": [
              "<div>\n",
              "<style scoped>\n",
              "    .dataframe tbody tr th:only-of-type {\n",
              "        vertical-align: middle;\n",
              "    }\n",
              "\n",
              "    .dataframe tbody tr th {\n",
              "        vertical-align: top;\n",
              "    }\n",
              "\n",
              "    .dataframe thead th {\n",
              "        text-align: right;\n",
              "    }\n",
              "</style>\n",
              "<table border=\"1\" class=\"dataframe\">\n",
              "  <thead>\n",
              "    <tr style=\"text-align: right;\">\n",
              "      <th></th>\n",
              "      <th>action</th>\n",
              "      <th>discovered</th>\n",
              "      <th>passed</th>\n",
              "      <th>viewed</th>\n",
              "    </tr>\n",
              "    <tr>\n",
              "      <th>user_id</th>\n",
              "      <th>step_id</th>\n",
              "      <th></th>\n",
              "      <th></th>\n",
              "      <th></th>\n",
              "    </tr>\n",
              "  </thead>\n",
              "  <tbody>\n",
              "  </tbody>\n",
              "</table>\n",
              "</div>"
            ],
            "text/plain": [
              "Empty DataFrame\n",
              "Columns: [discovered, passed, viewed]\n",
              "Index: []"
            ]
          },
          "metadata": {
            "tags": []
          },
          "execution_count": 39
        }
      ]
    },
    {
      "cell_type": "code",
      "metadata": {
        "id": "W9tt69lK-iWJ",
        "colab": {
          "base_uri": "https://localhost:8080/",
          "height": 79
        },
        "outputId": "a2265d0d-abe3-49e4-8f26-b3bb264077d5"
      },
      "source": [
        "non_problem_actions_user_step_test.query('discovered != passed')"
      ],
      "execution_count": 40,
      "outputs": [
        {
          "output_type": "execute_result",
          "data": {
            "text/html": [
              "<div>\n",
              "<style scoped>\n",
              "    .dataframe tbody tr th:only-of-type {\n",
              "        vertical-align: middle;\n",
              "    }\n",
              "\n",
              "    .dataframe tbody tr th {\n",
              "        vertical-align: top;\n",
              "    }\n",
              "\n",
              "    .dataframe thead th {\n",
              "        text-align: right;\n",
              "    }\n",
              "</style>\n",
              "<table border=\"1\" class=\"dataframe\">\n",
              "  <thead>\n",
              "    <tr style=\"text-align: right;\">\n",
              "      <th></th>\n",
              "      <th>action</th>\n",
              "      <th>discovered</th>\n",
              "      <th>passed</th>\n",
              "      <th>viewed</th>\n",
              "    </tr>\n",
              "    <tr>\n",
              "      <th>user_id</th>\n",
              "      <th>step_id</th>\n",
              "      <th></th>\n",
              "      <th></th>\n",
              "      <th></th>\n",
              "    </tr>\n",
              "  </thead>\n",
              "  <tbody>\n",
              "  </tbody>\n",
              "</table>\n",
              "</div>"
            ],
            "text/plain": [
              "Empty DataFrame\n",
              "Columns: [discovered, passed, viewed]\n",
              "Index: []"
            ]
          },
          "metadata": {
            "tags": []
          },
          "execution_count": 40
        }
      ]
    },
    {
      "cell_type": "markdown",
      "metadata": {
        "id": "wJlJ6xPP-iWM"
      },
      "source": [
        "То есть, для не-задач ```discovered = passed```, как и должно быть"
      ]
    },
    {
      "cell_type": "markdown",
      "metadata": {
        "id": "eqx3-bj1-iWM"
      },
      "source": [
        "Аномалиями также будут являться пары (юзер, степ), для которых ```discovered = 0```, но ```viewed``` или какое-нибудь другое действие не равны 0. А сколько вообще таких пар? Проверим отдельно для задачных и не задачных степов."
      ]
    },
    {
      "cell_type": "code",
      "metadata": {
        "id": "kYarLmL3-iWM",
        "colab": {
          "base_uri": "https://localhost:8080/",
          "height": 446
        },
        "outputId": "ea6e5680-2dc6-4e92-c8f8-f1b83fb7ff3e"
      },
      "source": [
        "undiscovered_non_problems_train = non_problem_actions_user_step_2d.query('discovered == 0')\n",
        "undiscovered_non_problems_train"
      ],
      "execution_count": 41,
      "outputs": [
        {
          "output_type": "execute_result",
          "data": {
            "text/html": [
              "<div>\n",
              "<style scoped>\n",
              "    .dataframe tbody tr th:only-of-type {\n",
              "        vertical-align: middle;\n",
              "    }\n",
              "\n",
              "    .dataframe tbody tr th {\n",
              "        vertical-align: top;\n",
              "    }\n",
              "\n",
              "    .dataframe thead th {\n",
              "        text-align: right;\n",
              "    }\n",
              "</style>\n",
              "<table border=\"1\" class=\"dataframe\">\n",
              "  <thead>\n",
              "    <tr style=\"text-align: right;\">\n",
              "      <th></th>\n",
              "      <th>action</th>\n",
              "      <th>discovered</th>\n",
              "      <th>passed</th>\n",
              "      <th>viewed</th>\n",
              "    </tr>\n",
              "    <tr>\n",
              "      <th>user_id</th>\n",
              "      <th>step_id</th>\n",
              "      <th></th>\n",
              "      <th></th>\n",
              "      <th></th>\n",
              "    </tr>\n",
              "  </thead>\n",
              "  <tbody>\n",
              "    <tr>\n",
              "      <th rowspan=\"5\" valign=\"top\">1046</th>\n",
              "      <th>31955</th>\n",
              "      <td>0</td>\n",
              "      <td>0</td>\n",
              "      <td>8</td>\n",
              "    </tr>\n",
              "    <tr>\n",
              "      <th>31956</th>\n",
              "      <td>0</td>\n",
              "      <td>0</td>\n",
              "      <td>6</td>\n",
              "    </tr>\n",
              "    <tr>\n",
              "      <th>31957</th>\n",
              "      <td>0</td>\n",
              "      <td>0</td>\n",
              "      <td>4</td>\n",
              "    </tr>\n",
              "    <tr>\n",
              "      <th>31958</th>\n",
              "      <td>0</td>\n",
              "      <td>0</td>\n",
              "      <td>3</td>\n",
              "    </tr>\n",
              "    <tr>\n",
              "      <th>31959</th>\n",
              "      <td>0</td>\n",
              "      <td>0</td>\n",
              "      <td>3</td>\n",
              "    </tr>\n",
              "    <tr>\n",
              "      <th>...</th>\n",
              "      <th>...</th>\n",
              "      <td>...</td>\n",
              "      <td>...</td>\n",
              "      <td>...</td>\n",
              "    </tr>\n",
              "    <tr>\n",
              "      <th>22419</th>\n",
              "      <th>32815</th>\n",
              "      <td>0</td>\n",
              "      <td>0</td>\n",
              "      <td>1</td>\n",
              "    </tr>\n",
              "    <tr>\n",
              "      <th>23394</th>\n",
              "      <th>31956</th>\n",
              "      <td>0</td>\n",
              "      <td>0</td>\n",
              "      <td>1</td>\n",
              "    </tr>\n",
              "    <tr>\n",
              "      <th>23577</th>\n",
              "      <th>32243</th>\n",
              "      <td>0</td>\n",
              "      <td>0</td>\n",
              "      <td>1</td>\n",
              "    </tr>\n",
              "    <tr>\n",
              "      <th>23609</th>\n",
              "      <th>32187</th>\n",
              "      <td>0</td>\n",
              "      <td>0</td>\n",
              "      <td>1</td>\n",
              "    </tr>\n",
              "    <tr>\n",
              "      <th>24244</th>\n",
              "      <th>32814</th>\n",
              "      <td>0</td>\n",
              "      <td>0</td>\n",
              "      <td>2</td>\n",
              "    </tr>\n",
              "  </tbody>\n",
              "</table>\n",
              "<p>83 rows × 3 columns</p>\n",
              "</div>"
            ],
            "text/plain": [
              "action           discovered  passed  viewed\n",
              "user_id step_id                            \n",
              "1046    31955             0       0       8\n",
              "        31956             0       0       6\n",
              "        31957             0       0       4\n",
              "        31958             0       0       3\n",
              "        31959             0       0       3\n",
              "...                     ...     ...     ...\n",
              "22419   32815             0       0       1\n",
              "23394   31956             0       0       1\n",
              "23577   32243             0       0       1\n",
              "23609   32187             0       0       1\n",
              "24244   32814             0       0       2\n",
              "\n",
              "[83 rows x 3 columns]"
            ]
          },
          "metadata": {
            "tags": []
          },
          "execution_count": 41
        }
      ]
    },
    {
      "cell_type": "code",
      "metadata": {
        "id": "aN8oht6i-iWN",
        "colab": {
          "base_uri": "https://localhost:8080/"
        },
        "outputId": "080d430a-4070-4fc1-aa52-9854a72acd2a"
      },
      "source": [
        "undiscovered_non_problems_train.reset_index().user_id.value_counts()"
      ],
      "execution_count": 42,
      "outputs": [
        {
          "output_type": "execute_result",
          "data": {
            "text/plain": [
              "1046     32\n",
              "12133    13\n",
              "4762     10\n",
              "20907     7\n",
              "1078      5\n",
              "7383      3\n",
              "18917     2\n",
              "19635     1\n",
              "22419     1\n",
              "23577     1\n",
              "8063      1\n",
              "24244     1\n",
              "23609     1\n",
              "8251      1\n",
              "19286     1\n",
              "12894     1\n",
              "23394     1\n",
              "18619     1\n",
              "Name: user_id, dtype: int64"
            ]
          },
          "metadata": {
            "tags": []
          },
          "execution_count": 42
        }
      ]
    },
    {
      "cell_type": "code",
      "metadata": {
        "id": "o4PFVp8D-iWN",
        "colab": {
          "base_uri": "https://localhost:8080/"
        },
        "outputId": "41fb07c1-568c-402f-c42d-bb4ff9272c12"
      },
      "source": [
        "undiscovered_non_problems_train.reset_index().step_id.value_counts().head(10)"
      ],
      "execution_count": 43,
      "outputs": [
        {
          "output_type": "execute_result",
          "data": {
            "text/plain": [
              "32191    9\n",
              "31956    6\n",
              "32176    5\n",
              "32815    4\n",
              "31955    4\n",
              "31957    3\n",
              "32927    3\n",
              "32195    3\n",
              "32187    3\n",
              "31958    3\n",
              "Name: step_id, dtype: int64"
            ]
          },
          "metadata": {
            "tags": []
          },
          "execution_count": 43
        }
      ]
    },
    {
      "cell_type": "markdown",
      "metadata": {
        "id": "JdjnqcQR-iWO"
      },
      "source": [
        "Видно, что на некоторых юзерах и степах все записывается хуже (на других, видимо, просто случайность, хотя не очень понятно, как это не на глаз определять). Для тестовой выборки аналогичной проблемы не возникает:"
      ]
    },
    {
      "cell_type": "code",
      "metadata": {
        "id": "oSaCx3Xq-iWO",
        "colab": {
          "base_uri": "https://localhost:8080/",
          "height": 79
        },
        "outputId": "454ecb5f-4c4c-4b17-f5d9-7a4d1221692b"
      },
      "source": [
        "non_problem_actions_user_step_test.query('discovered == 0')"
      ],
      "execution_count": 44,
      "outputs": [
        {
          "output_type": "execute_result",
          "data": {
            "text/html": [
              "<div>\n",
              "<style scoped>\n",
              "    .dataframe tbody tr th:only-of-type {\n",
              "        vertical-align: middle;\n",
              "    }\n",
              "\n",
              "    .dataframe tbody tr th {\n",
              "        vertical-align: top;\n",
              "    }\n",
              "\n",
              "    .dataframe thead th {\n",
              "        text-align: right;\n",
              "    }\n",
              "</style>\n",
              "<table border=\"1\" class=\"dataframe\">\n",
              "  <thead>\n",
              "    <tr style=\"text-align: right;\">\n",
              "      <th></th>\n",
              "      <th>action</th>\n",
              "      <th>discovered</th>\n",
              "      <th>passed</th>\n",
              "      <th>viewed</th>\n",
              "    </tr>\n",
              "    <tr>\n",
              "      <th>user_id</th>\n",
              "      <th>step_id</th>\n",
              "      <th></th>\n",
              "      <th></th>\n",
              "      <th></th>\n",
              "    </tr>\n",
              "  </thead>\n",
              "  <tbody>\n",
              "  </tbody>\n",
              "</table>\n",
              "</div>"
            ],
            "text/plain": [
              "Empty DataFrame\n",
              "Columns: [discovered, passed, viewed]\n",
              "Index: []"
            ]
          },
          "metadata": {
            "tags": []
          },
          "execution_count": 44
        }
      ]
    },
    {
      "cell_type": "markdown",
      "metadata": {
        "id": "MUfBoEX4-iWO"
      },
      "source": [
        "Наверно, надо зачистить данные в тренировочной выборке о юзерах и / или степах с такими проблемами, или руками поправить тренировочные данные. И нет не задачных степов таких, что ```viewed = 0``` (в тестовой выборке тоже нет):"
      ]
    },
    {
      "cell_type": "code",
      "metadata": {
        "id": "PrOdKDUv-iWO",
        "colab": {
          "base_uri": "https://localhost:8080/",
          "height": 79
        },
        "outputId": "b0be7847-558d-4134-8df5-2267fc12f761"
      },
      "source": [
        "non_problem_actions_user_step_2d.query('viewed == 0')"
      ],
      "execution_count": 45,
      "outputs": [
        {
          "output_type": "execute_result",
          "data": {
            "text/html": [
              "<div>\n",
              "<style scoped>\n",
              "    .dataframe tbody tr th:only-of-type {\n",
              "        vertical-align: middle;\n",
              "    }\n",
              "\n",
              "    .dataframe tbody tr th {\n",
              "        vertical-align: top;\n",
              "    }\n",
              "\n",
              "    .dataframe thead th {\n",
              "        text-align: right;\n",
              "    }\n",
              "</style>\n",
              "<table border=\"1\" class=\"dataframe\">\n",
              "  <thead>\n",
              "    <tr style=\"text-align: right;\">\n",
              "      <th></th>\n",
              "      <th>action</th>\n",
              "      <th>discovered</th>\n",
              "      <th>passed</th>\n",
              "      <th>viewed</th>\n",
              "    </tr>\n",
              "    <tr>\n",
              "      <th>user_id</th>\n",
              "      <th>step_id</th>\n",
              "      <th></th>\n",
              "      <th></th>\n",
              "      <th></th>\n",
              "    </tr>\n",
              "  </thead>\n",
              "  <tbody>\n",
              "  </tbody>\n",
              "</table>\n",
              "</div>"
            ],
            "text/plain": [
              "Empty DataFrame\n",
              "Columns: [discovered, passed, viewed]\n",
              "Index: []"
            ]
          },
          "metadata": {
            "tags": []
          },
          "execution_count": 45
        }
      ]
    },
    {
      "cell_type": "markdown",
      "metadata": {
        "id": "Y-Ib6YoO-iWP"
      },
      "source": [
        "Аналогичная аномалия с задачными степами более распространена:"
      ]
    },
    {
      "cell_type": "code",
      "metadata": {
        "id": "t-EnjCfV-iWP",
        "colab": {
          "base_uri": "https://localhost:8080/",
          "height": 446
        },
        "outputId": "7c7832fc-4439-407f-cb23-28c64a3981df"
      },
      "source": [
        "undiscovered_problems_train = problem_actions_user_step_2d.query('discovered == 0')\n",
        "undiscovered_problems_train"
      ],
      "execution_count": 46,
      "outputs": [
        {
          "output_type": "execute_result",
          "data": {
            "text/html": [
              "<div>\n",
              "<style scoped>\n",
              "    .dataframe tbody tr th:only-of-type {\n",
              "        vertical-align: middle;\n",
              "    }\n",
              "\n",
              "    .dataframe tbody tr th {\n",
              "        vertical-align: top;\n",
              "    }\n",
              "\n",
              "    .dataframe thead th {\n",
              "        text-align: right;\n",
              "    }\n",
              "</style>\n",
              "<table border=\"1\" class=\"dataframe\">\n",
              "  <thead>\n",
              "    <tr style=\"text-align: right;\">\n",
              "      <th></th>\n",
              "      <th>action</th>\n",
              "      <th>discovered</th>\n",
              "      <th>passed</th>\n",
              "      <th>started_attempt</th>\n",
              "      <th>viewed</th>\n",
              "      <th>correct</th>\n",
              "      <th>wrong</th>\n",
              "    </tr>\n",
              "    <tr>\n",
              "      <th>user_id</th>\n",
              "      <th>step_id</th>\n",
              "      <th></th>\n",
              "      <th></th>\n",
              "      <th></th>\n",
              "      <th></th>\n",
              "      <th></th>\n",
              "      <th></th>\n",
              "    </tr>\n",
              "  </thead>\n",
              "  <tbody>\n",
              "    <tr>\n",
              "      <th rowspan=\"5\" valign=\"top\">76</th>\n",
              "      <th>31991</th>\n",
              "      <td>0</td>\n",
              "      <td>0</td>\n",
              "      <td>1</td>\n",
              "      <td>0</td>\n",
              "      <td>0</td>\n",
              "      <td>0</td>\n",
              "    </tr>\n",
              "    <tr>\n",
              "      <th>32175</th>\n",
              "      <td>0</td>\n",
              "      <td>0</td>\n",
              "      <td>1</td>\n",
              "      <td>0</td>\n",
              "      <td>0</td>\n",
              "      <td>0</td>\n",
              "    </tr>\n",
              "    <tr>\n",
              "      <th>32190</th>\n",
              "      <td>0</td>\n",
              "      <td>0</td>\n",
              "      <td>1</td>\n",
              "      <td>0</td>\n",
              "      <td>0</td>\n",
              "      <td>0</td>\n",
              "    </tr>\n",
              "    <tr>\n",
              "      <th>33351</th>\n",
              "      <td>0</td>\n",
              "      <td>0</td>\n",
              "      <td>1</td>\n",
              "      <td>0</td>\n",
              "      <td>0</td>\n",
              "      <td>0</td>\n",
              "    </tr>\n",
              "    <tr>\n",
              "      <th>33362</th>\n",
              "      <td>0</td>\n",
              "      <td>0</td>\n",
              "      <td>1</td>\n",
              "      <td>0</td>\n",
              "      <td>0</td>\n",
              "      <td>0</td>\n",
              "    </tr>\n",
              "    <tr>\n",
              "      <th>...</th>\n",
              "      <th>...</th>\n",
              "      <td>...</td>\n",
              "      <td>...</td>\n",
              "      <td>...</td>\n",
              "      <td>...</td>\n",
              "      <td>...</td>\n",
              "      <td>...</td>\n",
              "    </tr>\n",
              "    <tr>\n",
              "      <th>26498</th>\n",
              "      <th>32219</th>\n",
              "      <td>0</td>\n",
              "      <td>0</td>\n",
              "      <td>1</td>\n",
              "      <td>0</td>\n",
              "      <td>0</td>\n",
              "      <td>0</td>\n",
              "    </tr>\n",
              "    <tr>\n",
              "      <th>26502</th>\n",
              "      <th>32206</th>\n",
              "      <td>0</td>\n",
              "      <td>0</td>\n",
              "      <td>1</td>\n",
              "      <td>0</td>\n",
              "      <td>0</td>\n",
              "      <td>0</td>\n",
              "    </tr>\n",
              "    <tr>\n",
              "      <th>26511</th>\n",
              "      <th>32812</th>\n",
              "      <td>0</td>\n",
              "      <td>0</td>\n",
              "      <td>1</td>\n",
              "      <td>0</td>\n",
              "      <td>0</td>\n",
              "      <td>0</td>\n",
              "    </tr>\n",
              "    <tr>\n",
              "      <th>26530</th>\n",
              "      <th>31971</th>\n",
              "      <td>0</td>\n",
              "      <td>0</td>\n",
              "      <td>1</td>\n",
              "      <td>0</td>\n",
              "      <td>0</td>\n",
              "      <td>0</td>\n",
              "    </tr>\n",
              "    <tr>\n",
              "      <th>26612</th>\n",
              "      <th>32812</th>\n",
              "      <td>0</td>\n",
              "      <td>0</td>\n",
              "      <td>1</td>\n",
              "      <td>0</td>\n",
              "      <td>0</td>\n",
              "      <td>0</td>\n",
              "    </tr>\n",
              "  </tbody>\n",
              "</table>\n",
              "<p>595 rows × 6 columns</p>\n",
              "</div>"
            ],
            "text/plain": [
              "action           discovered  passed  started_attempt  viewed  correct  wrong\n",
              "user_id step_id                                                             \n",
              "76      31991             0       0                1       0        0      0\n",
              "        32175             0       0                1       0        0      0\n",
              "        32190             0       0                1       0        0      0\n",
              "        33351             0       0                1       0        0      0\n",
              "        33362             0       0                1       0        0      0\n",
              "...                     ...     ...              ...     ...      ...    ...\n",
              "26498   32219             0       0                1       0        0      0\n",
              "26502   32206             0       0                1       0        0      0\n",
              "26511   32812             0       0                1       0        0      0\n",
              "26530   31971             0       0                1       0        0      0\n",
              "26612   32812             0       0                1       0        0      0\n",
              "\n",
              "[595 rows x 6 columns]"
            ]
          },
          "metadata": {
            "tags": []
          },
          "execution_count": 46
        }
      ]
    },
    {
      "cell_type": "markdown",
      "metadata": {
        "id": "QzavhNQM-iWP"
      },
      "source": [
        "Примеры задачных (и не задачных тоже) степов без ```discovered``` появляются, в отличие от тестовой выборки, не только в конце всей истории действий пользователя (можно убрать указание степа и проверить)."
      ]
    },
    {
      "cell_type": "code",
      "metadata": {
        "id": "8TLTB9EA-iWQ",
        "colab": {
          "base_uri": "https://localhost:8080/",
          "height": 79
        },
        "outputId": "660d3c6b-624b-41a9-ade8-1f11f77f94ff"
      },
      "source": [
        "all_actions_2d.query('user_id == 26498 & step_id == 32219')"
      ],
      "execution_count": 47,
      "outputs": [
        {
          "output_type": "execute_result",
          "data": {
            "text/html": [
              "<div>\n",
              "<style scoped>\n",
              "    .dataframe tbody tr th:only-of-type {\n",
              "        vertical-align: middle;\n",
              "    }\n",
              "\n",
              "    .dataframe tbody tr th {\n",
              "        vertical-align: top;\n",
              "    }\n",
              "\n",
              "    .dataframe thead th {\n",
              "        text-align: right;\n",
              "    }\n",
              "</style>\n",
              "<table border=\"1\" class=\"dataframe\">\n",
              "  <thead>\n",
              "    <tr style=\"text-align: right;\">\n",
              "      <th></th>\n",
              "      <th>step_id</th>\n",
              "      <th>timestamp</th>\n",
              "      <th>action</th>\n",
              "      <th>user_id</th>\n",
              "      <th>time</th>\n",
              "    </tr>\n",
              "  </thead>\n",
              "  <tbody>\n",
              "    <tr>\n",
              "      <th>2977406</th>\n",
              "      <td>32219</td>\n",
              "      <td>1512635117</td>\n",
              "      <td>started_attempt</td>\n",
              "      <td>26498</td>\n",
              "      <td>2017-12-07 08:25:17</td>\n",
              "    </tr>\n",
              "  </tbody>\n",
              "</table>\n",
              "</div>"
            ],
            "text/plain": [
              "         step_id   timestamp           action  user_id                time\n",
              "2977406    32219  1512635117  started_attempt    26498 2017-12-07 08:25:17"
            ]
          },
          "metadata": {
            "tags": []
          },
          "execution_count": 47
        }
      ]
    },
    {
      "cell_type": "code",
      "metadata": {
        "id": "shlRtUSi-iWQ",
        "colab": {
          "base_uri": "https://localhost:8080/"
        },
        "outputId": "dae8d04d-2de6-49c9-affb-aa92a7b2b318"
      },
      "source": [
        "undiscovered_problems_train.sum(axis=0)"
      ],
      "execution_count": 48,
      "outputs": [
        {
          "output_type": "execute_result",
          "data": {
            "text/plain": [
              "action\n",
              "discovered           0\n",
              "passed             140\n",
              "started_attempt    615\n",
              "viewed             502\n",
              "correct            179\n",
              "wrong               54\n",
              "dtype: int64"
            ]
          },
          "metadata": {
            "tags": []
          },
          "execution_count": 48
        }
      ]
    },
    {
      "cell_type": "code",
      "metadata": {
        "id": "4D01kt0K-iWQ",
        "colab": {
          "base_uri": "https://localhost:8080/"
        },
        "outputId": "0a1942cd-4f81-4ae3-8cc8-d3a2811abd61"
      },
      "source": [
        "undiscovered_problems_train.reset_index().user_id.value_counts()"
      ],
      "execution_count": 49,
      "outputs": [
        {
          "output_type": "execute_result",
          "data": {
            "text/plain": [
              "1046     28\n",
              "1078     17\n",
              "12133    12\n",
              "10353    11\n",
              "10782    11\n",
              "         ..\n",
              "18927     1\n",
              "26411     1\n",
              "14490     1\n",
              "23006     1\n",
              "11710     1\n",
              "Name: user_id, Length: 306, dtype: int64"
            ]
          },
          "metadata": {
            "tags": []
          },
          "execution_count": 49
        }
      ]
    },
    {
      "cell_type": "code",
      "metadata": {
        "id": "k4c0N2cX-iWR",
        "colab": {
          "base_uri": "https://localhost:8080/"
        },
        "outputId": "5c9c1495-3cce-4762-c40e-ebf4040ad1d3"
      },
      "source": [
        "undiscovered_problems_train.reset_index().step_id.value_counts().head(10)"
      ],
      "execution_count": 50,
      "outputs": [
        {
          "output_type": "execute_result",
          "data": {
            "text/plain": [
              "32812     100\n",
              "32929      99\n",
              "32219      38\n",
              "31977      23\n",
              "31971      22\n",
              "31972      18\n",
              "31976      17\n",
              "120745     15\n",
              "31978      15\n",
              "31991      12\n",
              "Name: step_id, dtype: int64"
            ]
          },
          "metadata": {
            "tags": []
          },
          "execution_count": 50
        }
      ]
    },
    {
      "cell_type": "markdown",
      "metadata": {
        "id": "3WvI1fQM-iWR"
      },
      "source": [
        "Видим, что на каких-то степах и на каких-то пользователях чаще не логируется, чем на других. 306 пользователей — это слишком много, чтобы удалять руками. Тем более что аналогичные аномалии и в тестовой выборке тоже есть:"
      ]
    },
    {
      "cell_type": "code",
      "metadata": {
        "id": "6M94fuAX-iWR",
        "colab": {
          "base_uri": "https://localhost:8080/",
          "height": 446
        },
        "outputId": "bb689a8a-bdc8-44a0-b38a-983f2ebaed2e"
      },
      "source": [
        "undiscovered_problems_test = problem_actions_user_step_test.query('discovered == 0')\n",
        "undiscovered_problems_test"
      ],
      "execution_count": 51,
      "outputs": [
        {
          "output_type": "execute_result",
          "data": {
            "text/html": [
              "<div>\n",
              "<style scoped>\n",
              "    .dataframe tbody tr th:only-of-type {\n",
              "        vertical-align: middle;\n",
              "    }\n",
              "\n",
              "    .dataframe tbody tr th {\n",
              "        vertical-align: top;\n",
              "    }\n",
              "\n",
              "    .dataframe thead th {\n",
              "        text-align: right;\n",
              "    }\n",
              "</style>\n",
              "<table border=\"1\" class=\"dataframe\">\n",
              "  <thead>\n",
              "    <tr style=\"text-align: right;\">\n",
              "      <th></th>\n",
              "      <th>action</th>\n",
              "      <th>discovered</th>\n",
              "      <th>passed</th>\n",
              "      <th>started_attempt</th>\n",
              "      <th>viewed</th>\n",
              "      <th>correct</th>\n",
              "      <th>wrong</th>\n",
              "    </tr>\n",
              "    <tr>\n",
              "      <th>user_id</th>\n",
              "      <th>step_id</th>\n",
              "      <th></th>\n",
              "      <th></th>\n",
              "      <th></th>\n",
              "      <th></th>\n",
              "      <th></th>\n",
              "      <th></th>\n",
              "    </tr>\n",
              "  </thead>\n",
              "  <tbody>\n",
              "    <tr>\n",
              "      <th>12</th>\n",
              "      <th>32219</th>\n",
              "      <td>0</td>\n",
              "      <td>0</td>\n",
              "      <td>1</td>\n",
              "      <td>0</td>\n",
              "      <td>0</td>\n",
              "      <td>0</td>\n",
              "    </tr>\n",
              "    <tr>\n",
              "      <th rowspan=\"2\" valign=\"top\">167</th>\n",
              "      <th>32812</th>\n",
              "      <td>0</td>\n",
              "      <td>1</td>\n",
              "      <td>1</td>\n",
              "      <td>0</td>\n",
              "      <td>1</td>\n",
              "      <td>0</td>\n",
              "    </tr>\n",
              "    <tr>\n",
              "      <th>32929</th>\n",
              "      <td>0</td>\n",
              "      <td>1</td>\n",
              "      <td>1</td>\n",
              "      <td>0</td>\n",
              "      <td>1</td>\n",
              "      <td>0</td>\n",
              "    </tr>\n",
              "    <tr>\n",
              "      <th>298</th>\n",
              "      <th>31976</th>\n",
              "      <td>0</td>\n",
              "      <td>0</td>\n",
              "      <td>1</td>\n",
              "      <td>0</td>\n",
              "      <td>0</td>\n",
              "      <td>0</td>\n",
              "    </tr>\n",
              "    <tr>\n",
              "      <th>421</th>\n",
              "      <th>32202</th>\n",
              "      <td>0</td>\n",
              "      <td>0</td>\n",
              "      <td>1</td>\n",
              "      <td>0</td>\n",
              "      <td>0</td>\n",
              "      <td>0</td>\n",
              "    </tr>\n",
              "    <tr>\n",
              "      <th>...</th>\n",
              "      <th>...</th>\n",
              "      <td>...</td>\n",
              "      <td>...</td>\n",
              "      <td>...</td>\n",
              "      <td>...</td>\n",
              "      <td>...</td>\n",
              "      <td>...</td>\n",
              "    </tr>\n",
              "    <tr>\n",
              "      <th>25674</th>\n",
              "      <th>31972</th>\n",
              "      <td>0</td>\n",
              "      <td>0</td>\n",
              "      <td>1</td>\n",
              "      <td>0</td>\n",
              "      <td>0</td>\n",
              "      <td>0</td>\n",
              "    </tr>\n",
              "    <tr>\n",
              "      <th rowspan=\"2\" valign=\"top\">25740</th>\n",
              "      <th>32219</th>\n",
              "      <td>0</td>\n",
              "      <td>0</td>\n",
              "      <td>1</td>\n",
              "      <td>0</td>\n",
              "      <td>0</td>\n",
              "      <td>0</td>\n",
              "    </tr>\n",
              "    <tr>\n",
              "      <th>32812</th>\n",
              "      <td>0</td>\n",
              "      <td>0</td>\n",
              "      <td>1</td>\n",
              "      <td>0</td>\n",
              "      <td>0</td>\n",
              "      <td>0</td>\n",
              "    </tr>\n",
              "    <tr>\n",
              "      <th>26232</th>\n",
              "      <th>32812</th>\n",
              "      <td>0</td>\n",
              "      <td>0</td>\n",
              "      <td>1</td>\n",
              "      <td>0</td>\n",
              "      <td>0</td>\n",
              "      <td>0</td>\n",
              "    </tr>\n",
              "    <tr>\n",
              "      <th>26368</th>\n",
              "      <th>32812</th>\n",
              "      <td>0</td>\n",
              "      <td>0</td>\n",
              "      <td>1</td>\n",
              "      <td>0</td>\n",
              "      <td>0</td>\n",
              "      <td>0</td>\n",
              "    </tr>\n",
              "  </tbody>\n",
              "</table>\n",
              "<p>266 rows × 6 columns</p>\n",
              "</div>"
            ],
            "text/plain": [
              "action           discovered  passed  started_attempt  viewed  correct  wrong\n",
              "user_id step_id                                                             \n",
              "12      32219             0       0                1       0        0      0\n",
              "167     32812             0       1                1       0        1      0\n",
              "        32929             0       1                1       0        1      0\n",
              "298     31976             0       0                1       0        0      0\n",
              "421     32202             0       0                1       0        0      0\n",
              "...                     ...     ...              ...     ...      ...    ...\n",
              "25674   31972             0       0                1       0        0      0\n",
              "25740   32219             0       0                1       0        0      0\n",
              "        32812             0       0                1       0        0      0\n",
              "26232   32812             0       0                1       0        0      0\n",
              "26368   32812             0       0                1       0        0      0\n",
              "\n",
              "[266 rows x 6 columns]"
            ]
          },
          "metadata": {
            "tags": []
          },
          "execution_count": 51
        }
      ]
    },
    {
      "cell_type": "code",
      "metadata": {
        "id": "Y3gIhLlI-iWS",
        "colab": {
          "base_uri": "https://localhost:8080/"
        },
        "outputId": "536bb669-a2dd-4fc1-8381-c6b1e48a87b7"
      },
      "source": [
        "undiscovered_problems_test.reset_index().user_id.value_counts()"
      ],
      "execution_count": 52,
      "outputs": [
        {
          "output_type": "execute_result",
          "data": {
            "text/plain": [
              "9134     8\n",
              "23754    6\n",
              "21524    6\n",
              "3609     5\n",
              "24292    4\n",
              "        ..\n",
              "22334    1\n",
              "23350    1\n",
              "10549    1\n",
              "2863     1\n",
              "25062    1\n",
              "Name: user_id, Length: 203, dtype: int64"
            ]
          },
          "metadata": {
            "tags": []
          },
          "execution_count": 52
        }
      ]
    },
    {
      "cell_type": "code",
      "metadata": {
        "id": "6SrgIlS5-iWS",
        "colab": {
          "base_uri": "https://localhost:8080/"
        },
        "outputId": "19ec68c3-19a1-40c9-b45a-445a0a26e15e"
      },
      "source": [
        "undiscovered_problems_test.reset_index().step_id.value_counts().head(10)"
      ],
      "execution_count": 53,
      "outputs": [
        {
          "output_type": "execute_result",
          "data": {
            "text/plain": [
              "32929     41\n",
              "32812     38\n",
              "32219     31\n",
              "31977     13\n",
              "120745    13\n",
              "31976     12\n",
              "31972     10\n",
              "32175     10\n",
              "32173      9\n",
              "32174      7\n",
              "Name: step_id, dtype: int64"
            ]
          },
          "metadata": {
            "tags": []
          },
          "execution_count": 53
        }
      ]
    },
    {
      "cell_type": "markdown",
      "metadata": {
        "id": "V2FcBORV-iWS"
      },
      "source": [
        "То есть и в тесте, и в трейне примерно те же степы плохо регистрируются, но в тесте нет пользователей, у которых бы логирование не срабатывало чаще (скорей всего, пользователи из тренировочной выборки, для которых логирование не работает чаще, являются модераторами курса и могут проходить курс не так, как обычные пользователи, так что их лучше исключить из тренировочного множества)."
      ]
    },
    {
      "cell_type": "code",
      "metadata": {
        "id": "0CqcseUU-iWT",
        "colab": {
          "base_uri": "https://localhost:8080/"
        },
        "outputId": "af2c4618-621d-413a-9fdb-81910213835c"
      },
      "source": [
        "undiscovered_problems_test.sum(axis=0)"
      ],
      "execution_count": 54,
      "outputs": [
        {
          "output_type": "execute_result",
          "data": {
            "text/plain": [
              "action\n",
              "discovered           0\n",
              "passed               9\n",
              "started_attempt    269\n",
              "viewed               0\n",
              "correct              9\n",
              "wrong                1\n",
              "dtype: int64"
            ]
          },
          "metadata": {
            "tags": []
          },
          "execution_count": 54
        }
      ]
    },
    {
      "cell_type": "markdown",
      "metadata": {
        "id": "nTUUrqEP-iWT"
      },
      "source": [
        "То есть в тестовой выборке нет задачных степов с ```discovered = 0, viewed > 0```. Если такого вида ошибок записи в тестовой выборке нет, то, наверное, лучше избавиться от таких и в обучающей."
      ]
    },
    {
      "cell_type": "code",
      "metadata": {
        "id": "og2yjnW2-iWT",
        "colab": {
          "base_uri": "https://localhost:8080/",
          "height": 202
        },
        "outputId": "2666219d-f682-46b3-8412-8086edf56bf4"
      },
      "source": [
        "all_actions_test.query('user_id == 25674').tail()"
      ],
      "execution_count": 55,
      "outputs": [
        {
          "output_type": "execute_result",
          "data": {
            "text/html": [
              "<div>\n",
              "<style scoped>\n",
              "    .dataframe tbody tr th:only-of-type {\n",
              "        vertical-align: middle;\n",
              "    }\n",
              "\n",
              "    .dataframe tbody tr th {\n",
              "        vertical-align: top;\n",
              "    }\n",
              "\n",
              "    .dataframe thead th {\n",
              "        text-align: right;\n",
              "    }\n",
              "</style>\n",
              "<table border=\"1\" class=\"dataframe\">\n",
              "  <thead>\n",
              "    <tr style=\"text-align: right;\">\n",
              "      <th></th>\n",
              "      <th>step_id</th>\n",
              "      <th>timestamp</th>\n",
              "      <th>action</th>\n",
              "      <th>user_id</th>\n",
              "      <th>time</th>\n",
              "    </tr>\n",
              "  </thead>\n",
              "  <tbody>\n",
              "    <tr>\n",
              "      <th>102601</th>\n",
              "      <td>31976</td>\n",
              "      <td>1544530314</td>\n",
              "      <td>discovered</td>\n",
              "      <td>25674</td>\n",
              "      <td>2018-12-11 12:11:54</td>\n",
              "    </tr>\n",
              "    <tr>\n",
              "      <th>102594</th>\n",
              "      <td>31959</td>\n",
              "      <td>1544530314</td>\n",
              "      <td>viewed</td>\n",
              "      <td>25674</td>\n",
              "      <td>2018-12-11 12:11:54</td>\n",
              "    </tr>\n",
              "    <tr>\n",
              "      <th>102598</th>\n",
              "      <td>31976</td>\n",
              "      <td>1544530314</td>\n",
              "      <td>viewed</td>\n",
              "      <td>25674</td>\n",
              "      <td>2018-12-11 12:11:54</td>\n",
              "    </tr>\n",
              "    <tr>\n",
              "      <th>102597</th>\n",
              "      <td>31972</td>\n",
              "      <td>1544530315</td>\n",
              "      <td>started_attempt</td>\n",
              "      <td>25674</td>\n",
              "      <td>2018-12-11 12:11:55</td>\n",
              "    </tr>\n",
              "    <tr>\n",
              "      <th>102599</th>\n",
              "      <td>31976</td>\n",
              "      <td>1544530345</td>\n",
              "      <td>viewed</td>\n",
              "      <td>25674</td>\n",
              "      <td>2018-12-11 12:12:25</td>\n",
              "    </tr>\n",
              "  </tbody>\n",
              "</table>\n",
              "</div>"
            ],
            "text/plain": [
              "        step_id   timestamp           action  user_id                time\n",
              "102601    31976  1544530314       discovered    25674 2018-12-11 12:11:54\n",
              "102594    31959  1544530314           viewed    25674 2018-12-11 12:11:54\n",
              "102598    31976  1544530314           viewed    25674 2018-12-11 12:11:54\n",
              "102597    31972  1544530315  started_attempt    25674 2018-12-11 12:11:55\n",
              "102599    31976  1544530345           viewed    25674 2018-12-11 12:12:25"
            ]
          },
          "metadata": {
            "tags": []
          },
          "execution_count": 55
        }
      ]
    },
    {
      "cell_type": "markdown",
      "metadata": {
        "id": "K23T_nSq-iWU"
      },
      "source": [
        "Можно заметить, что отсутствие ```viewed``` и ```discovered``` для задач в тестовой выборке получается только если взаимодействие с задачей произошло под самый конец активности пользователя. Посмотрим на задачи из тренировочной выборки с ```viewed = 0```:"
      ]
    },
    {
      "cell_type": "code",
      "metadata": {
        "id": "AqYP-71K-iWU",
        "colab": {
          "base_uri": "https://localhost:8080/",
          "height": 446
        },
        "outputId": "0600e34d-af83-48f8-ef51-0045674e8484"
      },
      "source": [
        "unviewed_problems_train = problem_actions_user_step_2d.query('viewed == 0')\n",
        "unviewed_problems_train"
      ],
      "execution_count": 57,
      "outputs": [
        {
          "output_type": "execute_result",
          "data": {
            "text/html": [
              "<div>\n",
              "<style scoped>\n",
              "    .dataframe tbody tr th:only-of-type {\n",
              "        vertical-align: middle;\n",
              "    }\n",
              "\n",
              "    .dataframe tbody tr th {\n",
              "        vertical-align: top;\n",
              "    }\n",
              "\n",
              "    .dataframe thead th {\n",
              "        text-align: right;\n",
              "    }\n",
              "</style>\n",
              "<table border=\"1\" class=\"dataframe\">\n",
              "  <thead>\n",
              "    <tr style=\"text-align: right;\">\n",
              "      <th></th>\n",
              "      <th>action</th>\n",
              "      <th>discovered</th>\n",
              "      <th>passed</th>\n",
              "      <th>started_attempt</th>\n",
              "      <th>viewed</th>\n",
              "      <th>correct</th>\n",
              "      <th>wrong</th>\n",
              "    </tr>\n",
              "    <tr>\n",
              "      <th>user_id</th>\n",
              "      <th>step_id</th>\n",
              "      <th></th>\n",
              "      <th></th>\n",
              "      <th></th>\n",
              "      <th></th>\n",
              "      <th></th>\n",
              "      <th></th>\n",
              "    </tr>\n",
              "  </thead>\n",
              "  <tbody>\n",
              "    <tr>\n",
              "      <th rowspan=\"5\" valign=\"top\">76</th>\n",
              "      <th>31991</th>\n",
              "      <td>0</td>\n",
              "      <td>0</td>\n",
              "      <td>1</td>\n",
              "      <td>0</td>\n",
              "      <td>0</td>\n",
              "      <td>0</td>\n",
              "    </tr>\n",
              "    <tr>\n",
              "      <th>32175</th>\n",
              "      <td>0</td>\n",
              "      <td>0</td>\n",
              "      <td>1</td>\n",
              "      <td>0</td>\n",
              "      <td>0</td>\n",
              "      <td>0</td>\n",
              "    </tr>\n",
              "    <tr>\n",
              "      <th>32190</th>\n",
              "      <td>0</td>\n",
              "      <td>0</td>\n",
              "      <td>1</td>\n",
              "      <td>0</td>\n",
              "      <td>0</td>\n",
              "      <td>0</td>\n",
              "    </tr>\n",
              "    <tr>\n",
              "      <th>33351</th>\n",
              "      <td>0</td>\n",
              "      <td>0</td>\n",
              "      <td>1</td>\n",
              "      <td>0</td>\n",
              "      <td>0</td>\n",
              "      <td>0</td>\n",
              "    </tr>\n",
              "    <tr>\n",
              "      <th>33362</th>\n",
              "      <td>0</td>\n",
              "      <td>0</td>\n",
              "      <td>1</td>\n",
              "      <td>0</td>\n",
              "      <td>0</td>\n",
              "      <td>0</td>\n",
              "    </tr>\n",
              "    <tr>\n",
              "      <th>...</th>\n",
              "      <th>...</th>\n",
              "      <td>...</td>\n",
              "      <td>...</td>\n",
              "      <td>...</td>\n",
              "      <td>...</td>\n",
              "      <td>...</td>\n",
              "      <td>...</td>\n",
              "    </tr>\n",
              "    <tr>\n",
              "      <th>26498</th>\n",
              "      <th>32219</th>\n",
              "      <td>0</td>\n",
              "      <td>0</td>\n",
              "      <td>1</td>\n",
              "      <td>0</td>\n",
              "      <td>0</td>\n",
              "      <td>0</td>\n",
              "    </tr>\n",
              "    <tr>\n",
              "      <th>26502</th>\n",
              "      <th>32206</th>\n",
              "      <td>0</td>\n",
              "      <td>0</td>\n",
              "      <td>1</td>\n",
              "      <td>0</td>\n",
              "      <td>0</td>\n",
              "      <td>0</td>\n",
              "    </tr>\n",
              "    <tr>\n",
              "      <th>26511</th>\n",
              "      <th>32812</th>\n",
              "      <td>0</td>\n",
              "      <td>0</td>\n",
              "      <td>1</td>\n",
              "      <td>0</td>\n",
              "      <td>0</td>\n",
              "      <td>0</td>\n",
              "    </tr>\n",
              "    <tr>\n",
              "      <th>26530</th>\n",
              "      <th>31971</th>\n",
              "      <td>0</td>\n",
              "      <td>0</td>\n",
              "      <td>1</td>\n",
              "      <td>0</td>\n",
              "      <td>0</td>\n",
              "      <td>0</td>\n",
              "    </tr>\n",
              "    <tr>\n",
              "      <th>26612</th>\n",
              "      <th>32812</th>\n",
              "      <td>0</td>\n",
              "      <td>0</td>\n",
              "      <td>1</td>\n",
              "      <td>0</td>\n",
              "      <td>0</td>\n",
              "      <td>0</td>\n",
              "    </tr>\n",
              "  </tbody>\n",
              "</table>\n",
              "<p>503 rows × 6 columns</p>\n",
              "</div>"
            ],
            "text/plain": [
              "action           discovered  passed  started_attempt  viewed  correct  wrong\n",
              "user_id step_id                                                             \n",
              "76      31991             0       0                1       0        0      0\n",
              "        32175             0       0                1       0        0      0\n",
              "        32190             0       0                1       0        0      0\n",
              "        33351             0       0                1       0        0      0\n",
              "        33362             0       0                1       0        0      0\n",
              "...                     ...     ...              ...     ...      ...    ...\n",
              "26498   32219             0       0                1       0        0      0\n",
              "26502   32206             0       0                1       0        0      0\n",
              "26511   32812             0       0                1       0        0      0\n",
              "26530   31971             0       0                1       0        0      0\n",
              "26612   32812             0       0                1       0        0      0\n",
              "\n",
              "[503 rows x 6 columns]"
            ]
          },
          "metadata": {
            "tags": []
          },
          "execution_count": 57
        }
      ]
    },
    {
      "cell_type": "code",
      "metadata": {
        "id": "x8dtwkHQ-iWU",
        "colab": {
          "base_uri": "https://localhost:8080/"
        },
        "outputId": "c2dbea50-b6ae-43a2-ca52-fd191390d5ce"
      },
      "source": [
        "unviewed_problems_train.reset_index().user_id.value_counts()"
      ],
      "execution_count": 58,
      "outputs": [
        {
          "output_type": "execute_result",
          "data": {
            "text/plain": [
              "10353    11\n",
              "10782    11\n",
              "20997    10\n",
              "2261      9\n",
              "7582      7\n",
              "         ..\n",
              "14186     1\n",
              "11046     1\n",
              "11357     1\n",
              "16673     1\n",
              "767       1\n",
              "Name: user_id, Length: 292, dtype: int64"
            ]
          },
          "metadata": {
            "tags": []
          },
          "execution_count": 58
        }
      ]
    },
    {
      "cell_type": "code",
      "metadata": {
        "id": "8qmDcOFA-iWU",
        "colab": {
          "base_uri": "https://localhost:8080/"
        },
        "outputId": "bb3bb44b-353c-4f41-caa5-68c7c630295e"
      },
      "source": [
        "unviewed_problems_train.reset_index().step_id.value_counts()"
      ],
      "execution_count": 59,
      "outputs": [
        {
          "output_type": "execute_result",
          "data": {
            "text/plain": [
              "32812    98\n",
              "32929    97\n",
              "32219    34\n",
              "31977    17\n",
              "31971    17\n",
              "         ..\n",
              "33439     1\n",
              "33992     1\n",
              "33983     1\n",
              "33684     1\n",
              "33413     1\n",
              "Name: step_id, Length: 66, dtype: int64"
            ]
          },
          "metadata": {
            "tags": []
          },
          "execution_count": 59
        }
      ]
    },
    {
      "cell_type": "code",
      "metadata": {
        "id": "hIUVYN9V-iWV",
        "colab": {
          "base_uri": "https://localhost:8080/"
        },
        "outputId": "1968a189-1d88-42c4-9b17-89c16a4a5cdf"
      },
      "source": [
        "unviewed_problems_train.sum(axis=0)"
      ],
      "execution_count": 60,
      "outputs": [
        {
          "output_type": "execute_result",
          "data": {
            "text/plain": [
              "action\n",
              "discovered           0\n",
              "passed             128\n",
              "started_attempt    567\n",
              "viewed               0\n",
              "correct            141\n",
              "wrong               38\n",
              "dtype: int64"
            ]
          },
          "metadata": {
            "tags": []
          },
          "execution_count": 60
        }
      ]
    },
    {
      "cell_type": "markdown",
      "metadata": {
        "id": "CixI4-RS-iWV"
      },
      "source": [
        "Видим, что ```viewed = 0 => discovered = 0```. Здесь уже нет юзеров, для которых бы это действие не фиксировалось чаще, чем для остальных, а степы, на которых не фиксируется действие, те же, что и раньше. В отличие от тестовой выборки, бывают степы с ```discovered = 0, viewed > 0```."
      ]
    },
    {
      "cell_type": "code",
      "metadata": {
        "id": "8SXm_yNY-iWV",
        "colab": {
          "base_uri": "https://localhost:8080/",
          "height": 446
        },
        "outputId": "883518c8-63ed-4843-be56-896c1ef3847a"
      },
      "source": [
        "undiscovered_viewed_problems_train = undiscovered_problems_train.query('viewed != 0')\n",
        "undiscovered_viewed_problems_train"
      ],
      "execution_count": 61,
      "outputs": [
        {
          "output_type": "execute_result",
          "data": {
            "text/html": [
              "<div>\n",
              "<style scoped>\n",
              "    .dataframe tbody tr th:only-of-type {\n",
              "        vertical-align: middle;\n",
              "    }\n",
              "\n",
              "    .dataframe tbody tr th {\n",
              "        vertical-align: top;\n",
              "    }\n",
              "\n",
              "    .dataframe thead th {\n",
              "        text-align: right;\n",
              "    }\n",
              "</style>\n",
              "<table border=\"1\" class=\"dataframe\">\n",
              "  <thead>\n",
              "    <tr style=\"text-align: right;\">\n",
              "      <th></th>\n",
              "      <th>action</th>\n",
              "      <th>discovered</th>\n",
              "      <th>passed</th>\n",
              "      <th>started_attempt</th>\n",
              "      <th>viewed</th>\n",
              "      <th>correct</th>\n",
              "      <th>wrong</th>\n",
              "    </tr>\n",
              "    <tr>\n",
              "      <th>user_id</th>\n",
              "      <th>step_id</th>\n",
              "      <th></th>\n",
              "      <th></th>\n",
              "      <th></th>\n",
              "      <th></th>\n",
              "      <th></th>\n",
              "      <th></th>\n",
              "    </tr>\n",
              "  </thead>\n",
              "  <tbody>\n",
              "    <tr>\n",
              "      <th rowspan=\"5\" valign=\"top\">1046</th>\n",
              "      <th>31971</th>\n",
              "      <td>0</td>\n",
              "      <td>0</td>\n",
              "      <td>1</td>\n",
              "      <td>14</td>\n",
              "      <td>1</td>\n",
              "      <td>0</td>\n",
              "    </tr>\n",
              "    <tr>\n",
              "      <th>31972</th>\n",
              "      <td>0</td>\n",
              "      <td>0</td>\n",
              "      <td>1</td>\n",
              "      <td>20</td>\n",
              "      <td>1</td>\n",
              "      <td>0</td>\n",
              "    </tr>\n",
              "    <tr>\n",
              "      <th>31976</th>\n",
              "      <td>0</td>\n",
              "      <td>0</td>\n",
              "      <td>3</td>\n",
              "      <td>30</td>\n",
              "      <td>2</td>\n",
              "      <td>1</td>\n",
              "    </tr>\n",
              "    <tr>\n",
              "      <th>31977</th>\n",
              "      <td>0</td>\n",
              "      <td>0</td>\n",
              "      <td>0</td>\n",
              "      <td>24</td>\n",
              "      <td>1</td>\n",
              "      <td>0</td>\n",
              "    </tr>\n",
              "    <tr>\n",
              "      <th>31978</th>\n",
              "      <td>0</td>\n",
              "      <td>0</td>\n",
              "      <td>0</td>\n",
              "      <td>25</td>\n",
              "      <td>0</td>\n",
              "      <td>0</td>\n",
              "    </tr>\n",
              "    <tr>\n",
              "      <th>...</th>\n",
              "      <th>...</th>\n",
              "      <td>...</td>\n",
              "      <td>...</td>\n",
              "      <td>...</td>\n",
              "      <td>...</td>\n",
              "      <td>...</td>\n",
              "      <td>...</td>\n",
              "    </tr>\n",
              "    <tr>\n",
              "      <th>20907</th>\n",
              "      <th>32244</th>\n",
              "      <td>0</td>\n",
              "      <td>0</td>\n",
              "      <td>0</td>\n",
              "      <td>1</td>\n",
              "      <td>0</td>\n",
              "      <td>0</td>\n",
              "    </tr>\n",
              "    <tr>\n",
              "      <th rowspan=\"2\" valign=\"top\">22419</th>\n",
              "      <th>31971</th>\n",
              "      <td>0</td>\n",
              "      <td>0</td>\n",
              "      <td>0</td>\n",
              "      <td>1</td>\n",
              "      <td>0</td>\n",
              "      <td>0</td>\n",
              "    </tr>\n",
              "    <tr>\n",
              "      <th>32031</th>\n",
              "      <td>0</td>\n",
              "      <td>0</td>\n",
              "      <td>0</td>\n",
              "      <td>1</td>\n",
              "      <td>0</td>\n",
              "      <td>0</td>\n",
              "    </tr>\n",
              "    <tr>\n",
              "      <th rowspan=\"2\" valign=\"top\">23577</th>\n",
              "      <th>31991</th>\n",
              "      <td>0</td>\n",
              "      <td>0</td>\n",
              "      <td>0</td>\n",
              "      <td>2</td>\n",
              "      <td>0</td>\n",
              "      <td>0</td>\n",
              "    </tr>\n",
              "    <tr>\n",
              "      <th>32173</th>\n",
              "      <td>0</td>\n",
              "      <td>0</td>\n",
              "      <td>0</td>\n",
              "      <td>1</td>\n",
              "      <td>0</td>\n",
              "      <td>0</td>\n",
              "    </tr>\n",
              "  </tbody>\n",
              "</table>\n",
              "<p>92 rows × 6 columns</p>\n",
              "</div>"
            ],
            "text/plain": [
              "action           discovered  passed  started_attempt  viewed  correct  wrong\n",
              "user_id step_id                                                             \n",
              "1046    31971             0       0                1      14        1      0\n",
              "        31972             0       0                1      20        1      0\n",
              "        31976             0       0                3      30        2      1\n",
              "        31977             0       0                0      24        1      0\n",
              "        31978             0       0                0      25        0      0\n",
              "...                     ...     ...              ...     ...      ...    ...\n",
              "20907   32244             0       0                0       1        0      0\n",
              "22419   31971             0       0                0       1        0      0\n",
              "        32031             0       0                0       1        0      0\n",
              "23577   31991             0       0                0       2        0      0\n",
              "        32173             0       0                0       1        0      0\n",
              "\n",
              "[92 rows x 6 columns]"
            ]
          },
          "metadata": {
            "tags": []
          },
          "execution_count": 61
        }
      ]
    },
    {
      "cell_type": "code",
      "metadata": {
        "id": "E_wYV8oZ-iWW",
        "colab": {
          "base_uri": "https://localhost:8080/"
        },
        "outputId": "f878acdc-ba19-47d5-f77e-55cde3b49900"
      },
      "source": [
        "undiscovered_viewed_problems_train.reset_index().user_id.value_counts()"
      ],
      "execution_count": 62,
      "outputs": [
        {
          "output_type": "execute_result",
          "data": {
            "text/plain": [
              "1046     28\n",
              "1078     17\n",
              "12133    12\n",
              "20907     8\n",
              "4762      8\n",
              "7383      3\n",
              "19286     3\n",
              "18619     3\n",
              "12894     2\n",
              "18906     2\n",
              "23577     2\n",
              "22419     2\n",
              "16145     1\n",
              "12036     1\n",
              "Name: user_id, dtype: int64"
            ]
          },
          "metadata": {
            "tags": []
          },
          "execution_count": 62
        }
      ]
    },
    {
      "cell_type": "code",
      "metadata": {
        "id": "hd175vPc-iWW",
        "colab": {
          "base_uri": "https://localhost:8080/"
        },
        "outputId": "b0b332c6-5a94-418d-f6ee-9b2bd6dfb851"
      },
      "source": [
        "undiscovered_viewed_problems_train.reset_index().step_id.value_counts().head(10)"
      ],
      "execution_count": 63,
      "outputs": [
        {
          "output_type": "execute_result",
          "data": {
            "text/plain": [
              "31972    7\n",
              "31977    6\n",
              "31978    5\n",
              "31976    5\n",
              "31971    5\n",
              "32206    5\n",
              "32244    4\n",
              "32031    4\n",
              "32219    4\n",
              "32202    3\n",
              "Name: step_id, dtype: int64"
            ]
          },
          "metadata": {
            "tags": []
          },
          "execution_count": 63
        }
      ]
    },
    {
      "cell_type": "markdown",
      "metadata": {
        "id": "vBKaDHQM-iWW"
      },
      "source": [
        "И что тут? Получается, опять все те же плохие юзеры и нет системы по степам.\n",
        "\n",
        "Что можно сделать с этими аномалиями? Понятно, что работай мы в степике, надо было бы чинить логгер, тем более, что видно в какие моменты он чаще ломается. Но у нас только датасет на руках, так что остается его руками поправить, что и сделаем в конце этой тетрадки. А пользователей, для которых чаще всего проявлялись аномалии выше, будем рассматривать как выбросы (и в итоге выбросим из тренировочного множества):"
      ]
    },
    {
      "cell_type": "code",
      "metadata": {
        "id": "SDAl7DGr-iWX"
      },
      "source": [
        "outlier_users += [2261, 10353, 10782, 12133, 20907, 20997]"
      ],
      "execution_count": 64,
      "outputs": []
    },
    {
      "cell_type": "markdown",
      "metadata": {
        "id": "2zyRGov2-iWX"
      },
      "source": [
        "## Аномалии с количеством действий за единицу времени"
      ]
    },
    {
      "cell_type": "markdown",
      "metadata": {
        "id": "Gc-AJOGf-iWX"
      },
      "source": [
        "Еще можно поискать аномалии по количеству действий в среднем в секунду, минуту и так далее. Посмотрим, сколько действий вообще совершают пользователи и сколько уникальных моментов времени они проводят на курсе."
      ]
    },
    {
      "cell_type": "code",
      "metadata": {
        "id": "AmpHiVCz-iWX"
      },
      "source": [
        "users_action_counts = all_actions_2d.groupby('user_id').action.count()"
      ],
      "execution_count": 65,
      "outputs": []
    },
    {
      "cell_type": "code",
      "metadata": {
        "id": "coGuu5hq-iWY",
        "colab": {
          "base_uri": "https://localhost:8080/"
        },
        "outputId": "63cb49a0-27cf-4a4b-9ed6-a9c919d504a8"
      },
      "source": [
        "users_action_counts.describe()"
      ],
      "execution_count": 66,
      "outputs": [
        {
          "output_type": "execute_result",
          "data": {
            "text/plain": [
              "count    19234.000000\n",
              "mean        53.117864\n",
              "std         83.991379\n",
              "min          1.000000\n",
              "25%          3.000000\n",
              "50%         20.000000\n",
              "75%         63.000000\n",
              "max       1050.000000\n",
              "Name: action, dtype: float64"
            ]
          },
          "metadata": {
            "tags": []
          },
          "execution_count": 66
        }
      ]
    },
    {
      "cell_type": "code",
      "metadata": {
        "id": "jIWEK1aD-iWa",
        "colab": {
          "base_uri": "https://localhost:8080/",
          "height": 280
        },
        "outputId": "80dc1621-318d-4734-f68e-3f6bead73d7e"
      },
      "source": [
        "users_action_counts.plot();"
      ],
      "execution_count": 67,
      "outputs": [
        {
          "output_type": "display_data",
          "data": {
            "image/png": "[encoded data removed]",
            "text/plain": [
              "<Figure size 432x288 with 1 Axes>"
            ]
          },
          "metadata": {
            "tags": [],
            "needs_background": "light"
          }
        }
      ]
    },
    {
      "cell_type": "code",
      "metadata": {
        "id": "eHTQwWSK-iWb"
      },
      "source": [
        "users_timestamp_counts = all_actions_2d.groupby('user_id').timestamp.nunique()"
      ],
      "execution_count": 68,
      "outputs": []
    },
    {
      "cell_type": "markdown",
      "metadata": {
        "id": "xkFzPuKk-iWb"
      },
      "source": [
        "Понятно, что это очень коррелирующие вещи должны быть."
      ]
    },
    {
      "cell_type": "code",
      "metadata": {
        "id": "nUXo020P-iWb",
        "colab": {
          "base_uri": "https://localhost:8080/"
        },
        "outputId": "822853e5-cff7-4c34-9487-24f6f8776c93"
      },
      "source": [
        "stats.pearsonr(users_action_counts, users_timestamp_counts)"
      ],
      "execution_count": 70,
      "outputs": [
        {
          "output_type": "execute_result",
          "data": {
            "text/plain": [
              "(0.9834268367667398, 0.0)"
            ]
          },
          "metadata": {
            "tags": []
          },
          "execution_count": 70
        }
      ]
    },
    {
      "cell_type": "markdown",
      "metadata": {
        "id": "z1g7zSdL-iWb"
      },
      "source": [
        "А вот отношение посмотреть интересно: оно выражает, сколько в среднем в секунду выполняется действий пользователями. В обычной ситуации должно быть 2-3(```passed```, ```viewed``` и ```discovered``` для не-задач наступают одновременно и так далее)."
      ]
    },
    {
      "cell_type": "code",
      "metadata": {
        "id": "5baatxXU-iWc",
        "colab": {
          "base_uri": "https://localhost:8080/",
          "height": 280
        },
        "outputId": "1fcdc2ca-10f4-488a-d1e4-65da173f0301"
      },
      "source": [
        "users_actions_per_second = pd.DataFrame(users_action_counts/ users_timestamp_counts).rename(columns={0:'aps'})\n",
        "del users_action_counts, users_timestamp_counts\n",
        "users_actions_per_second.plot();"
      ],
      "execution_count": 71,
      "outputs": [
        {
          "output_type": "display_data",
          "data": {
            "image/png": "[encoded data removed]",
            "text/plain": [
              "<Figure size 432x288 with 1 Axes>"
            ]
          },
          "metadata": {
            "tags": [],
            "needs_background": "light"
          }
        }
      ]
    },
    {
      "cell_type": "markdown",
      "metadata": {
        "id": "vtrIkXlD-iWc"
      },
      "source": [
        "Вот тут отчетливо видно выбросы, да."
      ]
    },
    {
      "cell_type": "code",
      "metadata": {
        "id": "TVnYj_WC-iWd",
        "colab": {
          "base_uri": "https://localhost:8080/",
          "height": 497
        },
        "outputId": "208922d4-2c16-4363-8d79-087879b9a067"
      },
      "source": [
        "_, ax = plt.subplots(1, 2, figsize=(13, 8))\n",
        "sns.distplot(users_actions_per_second.aps, ax = ax[0])\n",
        "sns.boxplot(users_actions_per_second.aps, ax = ax[1]);"
      ],
      "execution_count": 72,
      "outputs": [
        {
          "output_type": "display_data",
          "data": {
            "image/png": "[encoded data removed]",
            "text/plain": [
              "<Figure size 936x576 with 2 Axes>"
            ]
          },
          "metadata": {
            "tags": [],
            "needs_background": "light"
          }
        }
      ]
    },
    {
      "cell_type": "code",
      "metadata": {
        "id": "G8ojfB9D-iWd",
        "colab": {
          "base_uri": "https://localhost:8080/"
        },
        "outputId": "fdc691fd-4658-4589-ee16-7bcc309736fb"
      },
      "source": [
        "users_actions_per_second.quantile(q=0.99)"
      ],
      "execution_count": 73,
      "outputs": [
        {
          "output_type": "execute_result",
          "data": {
            "text/plain": [
              "aps    3.0\n",
              "Name: 0.99, dtype: float64"
            ]
          },
          "metadata": {
            "tags": []
          },
          "execution_count": 73
        }
      ]
    },
    {
      "cell_type": "code",
      "metadata": {
        "id": "dwUtHeE0-iWd",
        "colab": {
          "base_uri": "https://localhost:8080/",
          "height": 446
        },
        "outputId": "68be0d5c-4b12-401d-c8a6-7f6bbe094037"
      },
      "source": [
        "users_actions_per_second.query('aps > 3')"
      ],
      "execution_count": 74,
      "outputs": [
        {
          "output_type": "execute_result",
          "data": {
            "text/html": [
              "<div>\n",
              "<style scoped>\n",
              "    .dataframe tbody tr th:only-of-type {\n",
              "        vertical-align: middle;\n",
              "    }\n",
              "\n",
              "    .dataframe tbody tr th {\n",
              "        vertical-align: top;\n",
              "    }\n",
              "\n",
              "    .dataframe thead th {\n",
              "        text-align: right;\n",
              "    }\n",
              "</style>\n",
              "<table border=\"1\" class=\"dataframe\">\n",
              "  <thead>\n",
              "    <tr style=\"text-align: right;\">\n",
              "      <th></th>\n",
              "      <th>aps</th>\n",
              "    </tr>\n",
              "    <tr>\n",
              "      <th>user_id</th>\n",
              "      <th></th>\n",
              "    </tr>\n",
              "  </thead>\n",
              "  <tbody>\n",
              "    <tr>\n",
              "      <th>247</th>\n",
              "      <td>3.032258</td>\n",
              "    </tr>\n",
              "    <tr>\n",
              "      <th>249</th>\n",
              "      <td>3.857143</td>\n",
              "    </tr>\n",
              "    <tr>\n",
              "      <th>311</th>\n",
              "      <td>3.250000</td>\n",
              "    </tr>\n",
              "    <tr>\n",
              "      <th>537</th>\n",
              "      <td>4.000000</td>\n",
              "    </tr>\n",
              "    <tr>\n",
              "      <th>1069</th>\n",
              "      <td>4.333333</td>\n",
              "    </tr>\n",
              "    <tr>\n",
              "      <th>...</th>\n",
              "      <td>...</td>\n",
              "    </tr>\n",
              "    <tr>\n",
              "      <th>25421</th>\n",
              "      <td>3.400000</td>\n",
              "    </tr>\n",
              "    <tr>\n",
              "      <th>25469</th>\n",
              "      <td>5.600000</td>\n",
              "    </tr>\n",
              "    <tr>\n",
              "      <th>25580</th>\n",
              "      <td>4.000000</td>\n",
              "    </tr>\n",
              "    <tr>\n",
              "      <th>25895</th>\n",
              "      <td>3.307692</td>\n",
              "    </tr>\n",
              "    <tr>\n",
              "      <th>26432</th>\n",
              "      <td>3.750000</td>\n",
              "    </tr>\n",
              "  </tbody>\n",
              "</table>\n",
              "<p>104 rows × 1 columns</p>\n",
              "</div>"
            ],
            "text/plain": [
              "              aps\n",
              "user_id          \n",
              "247      3.032258\n",
              "249      3.857143\n",
              "311      3.250000\n",
              "537      4.000000\n",
              "1069     4.333333\n",
              "...           ...\n",
              "25421    3.400000\n",
              "25469    5.600000\n",
              "25580    4.000000\n",
              "25895    3.307692\n",
              "26432    3.750000\n",
              "\n",
              "[104 rows x 1 columns]"
            ]
          },
          "metadata": {
            "tags": []
          },
          "execution_count": 74
        }
      ]
    },
    {
      "cell_type": "code",
      "metadata": {
        "id": "5yi7xNcv-iWe",
        "colab": {
          "base_uri": "https://localhost:8080/"
        },
        "outputId": "5b31e10f-49d3-431d-9ca6-65b91f3dc93f"
      },
      "source": [
        "users_actions_per_second.max(), users_actions_per_second.idxmax() "
      ],
      "execution_count": 75,
      "outputs": [
        {
          "output_type": "execute_result",
          "data": {
            "text/plain": [
              "(aps    8.5\n",
              " dtype: float64, aps    2481\n",
              " dtype: int64)"
            ]
          },
          "metadata": {
            "tags": []
          },
          "execution_count": 75
        }
      ]
    },
    {
      "cell_type": "code",
      "metadata": {
        "id": "1TScEssY-iWe",
        "colab": {
          "base_uri": "https://localhost:8080/"
        },
        "outputId": "f18a6ea8-350f-4bd7-d19d-05f00c4568cf"
      },
      "source": [
        "all_actions_2d.query('user_id == 2481').shape[0],\\\n",
        "all_actions_2d.query('user_id == 2481').timestamp.nunique(),\\\n",
        "all_actions_2d.query('user_id == 2481').step_id.nunique()"
      ],
      "execution_count": 76,
      "outputs": [
        {
          "output_type": "execute_result",
          "data": {
            "text/plain": [
              "(51, 6, 20)"
            ]
          },
          "metadata": {
            "tags": []
          },
          "execution_count": 76
        }
      ]
    },
    {
      "cell_type": "markdown",
      "metadata": {
        "id": "9yWvP8Dc-iWf"
      },
      "source": [
        "Видно, что в тренировочной выборке много ошибок, когда действия логируются на одно время (можно сгруппировать действия по пользователям и таймстемпам и увидеть это еще раз). В тестовой выборке ситуация аналогичная."
      ]
    },
    {
      "cell_type": "markdown",
      "metadata": {
        "id": "Xa6uJZ3c-iWi"
      },
      "source": [
        "Было бы хорошо рассматривать действия пользователей как временной ряд, но для этого надо, чтобы хоть на каком-то масштабе нам не мешали баги в логере. Давайте попробуем группировать по разным промежуткам времени и смотреть, на каком масштабе аномальные скачки активности в одну секунду будут не так заметны (а как это замерять? на глаз — что очень сильных выбросов не очень много), и при этом чтобы промежутки были не сильно короткими, потому что иначе будет очень много периодов с нулевой активностью (так что будем измерять в часах)."
      ]
    },
    {
      "cell_type": "code",
      "metadata": {
        "id": "KyjdO27f-iWj"
      },
      "source": [
        "def show_actions_by_period(actions_df, period_len):\n",
        "    \"\"\"\n",
        "    Выдать базовые статистики активности по периодам длиной period_len часов\n",
        "    за TOTAL_DAYS дней начиная от начала активности\n",
        "    \n",
        "    Parameters\n",
        "    ----------\n",
        "    actions_df : pd.DataFrame\n",
        "        Таблица с действиями пользователей\n",
        "\n",
        "    period_len : int\n",
        "        Длина (в часах) периода, на котором агрегируем действия пользователей\n",
        "        \n",
        "    Returns\n",
        "    -------\n",
        "    actions_by_period : pd.Series\n",
        "        Таблица с количеством действий пользователей по периодам,\n",
        "        отсортированная по убыванию\n",
        "    \"\"\"\n",
        "    \n",
        "    actions_by_period, actions_with_periods = \\\n",
        "        get_action_counts_by_period(actions_df, period_len, sum_only=True, multiindex=True, drop_periods=False)\n",
        "    \n",
        "    record_num_actions = actions_by_period.max().item()\n",
        "    record_user_id, record_period = actions_by_period.idxmax().item()\n",
        "    record_period = record_period.split('_')[0] # оставляем только название самого периода\n",
        "    record_num_steps = actions_with_periods.query('user_id == @record_user_id & period == @record_period').step_id.nunique()\n",
        "    zero_activity_periods_share = actions_by_period.value_counts(normalize=True)[0].item()\n",
        "    print(f'Maximum actions by {period_len}H: {record_num_actions}')\n",
        "    print(f'Maximum number of steps visited during {period_len}H: {record_num_steps}')\n",
        "    print(f'Share of periods with zero activity: {zero_activity_periods_share:.3f}')\n",
        "    actions_by_period_values = actions_by_period.to_numpy().flatten()\n",
        "    \n",
        "    _, ax = plt.subplots(1, 2, figsize=(13, 8))\n",
        "    sns.distplot(actions_by_period, ax = ax[0])\n",
        "    sns.boxplot(actions_by_period_values, ax = ax[1]);\n",
        "    \n",
        "    q_25, q_50, q_75 = np.quantile(actions_by_period_values, [0.25, 0.5, 0.75]).tolist()\n",
        "    print(f'Median actions by {period_len}H: {q_50}')\n",
        "    \n",
        "    outliers_share = (actions_by_period_values > q_50 + 1.5 * (q_75 - q_25)).sum() / actions_by_period_values.shape[0]\n",
        "    print(f'Share of outliers: {round(outliers_share, 3)}')\n",
        "    \n",
        "    return actions_by_period.sort_values(by='action', ascending=False)"
      ],
      "execution_count": 82,
      "outputs": []
    },
    {
      "cell_type": "markdown",
      "metadata": {
        "id": "7qozA08r-iWj"
      },
      "source": [
        "Можно попробовать поставить разные значения периодов в ячейке снизу:"
      ]
    },
    {
      "cell_type": "code",
      "metadata": {
        "id": "rQB7w0gC-iWj",
        "colab": {
          "base_uri": "https://localhost:8080/",
          "height": 999
        },
        "outputId": "7d24c594-320c-4b4b-86aa-2fcf76f880be"
      },
      "source": [
        "show_actions_by_period(all_actions_2d, period_len=24)"
      ],
      "execution_count": 83,
      "outputs": [
        {
          "output_type": "stream",
          "text": [
            "Maximum actions by 24H: 1050\n",
            "Maximum number of steps visited during 24H: 198\n",
            "Share of periods with zero activity: 0.404\n",
            "Median actions by 24H: 3.0\n",
            "Share of outliers: 0.166\n"
          ],
          "name": "stdout"
        },
        {
          "output_type": "execute_result",
          "data": {
            "text/html": [
              "<div>\n",
              "<style scoped>\n",
              "    .dataframe tbody tr th:only-of-type {\n",
              "        vertical-align: middle;\n",
              "    }\n",
              "\n",
              "    .dataframe tbody tr th {\n",
              "        vertical-align: top;\n",
              "    }\n",
              "\n",
              "    .dataframe thead th {\n",
              "        text-align: right;\n",
              "    }\n",
              "</style>\n",
              "<table border=\"1\" class=\"dataframe\">\n",
              "  <thead>\n",
              "    <tr style=\"text-align: right;\">\n",
              "      <th></th>\n",
              "      <th></th>\n",
              "      <th>action</th>\n",
              "    </tr>\n",
              "    <tr>\n",
              "      <th>user_id</th>\n",
              "      <th></th>\n",
              "      <th></th>\n",
              "    </tr>\n",
              "  </thead>\n",
              "  <tbody>\n",
              "    <tr>\n",
              "      <th>9104</th>\n",
              "      <th>0-24H_actions</th>\n",
              "      <td>1050</td>\n",
              "    </tr>\n",
              "    <tr>\n",
              "      <th>1361</th>\n",
              "      <th>0-24H_actions</th>\n",
              "      <td>932</td>\n",
              "    </tr>\n",
              "    <tr>\n",
              "      <th>19805</th>\n",
              "      <th>0-24H_actions</th>\n",
              "      <td>792</td>\n",
              "    </tr>\n",
              "    <tr>\n",
              "      <th>11061</th>\n",
              "      <th>0-24H_actions</th>\n",
              "      <td>780</td>\n",
              "    </tr>\n",
              "    <tr>\n",
              "      <th>22684</th>\n",
              "      <th>0-24H_actions</th>\n",
              "      <td>752</td>\n",
              "    </tr>\n",
              "    <tr>\n",
              "      <th>...</th>\n",
              "      <th>...</th>\n",
              "      <td>...</td>\n",
              "    </tr>\n",
              "    <tr>\n",
              "      <th>19149</th>\n",
              "      <th>24-48H_actions</th>\n",
              "      <td>0</td>\n",
              "    </tr>\n",
              "    <tr>\n",
              "      <th>9883</th>\n",
              "      <th>24-48H_actions</th>\n",
              "      <td>0</td>\n",
              "    </tr>\n",
              "    <tr>\n",
              "      <th>9881</th>\n",
              "      <th>24-48H_actions</th>\n",
              "      <td>0</td>\n",
              "    </tr>\n",
              "    <tr>\n",
              "      <th>9880</th>\n",
              "      <th>24-48H_actions</th>\n",
              "      <td>0</td>\n",
              "    </tr>\n",
              "    <tr>\n",
              "      <th>26798</th>\n",
              "      <th>24-48H_actions</th>\n",
              "      <td>0</td>\n",
              "    </tr>\n",
              "  </tbody>\n",
              "</table>\n",
              "<p>38468 rows × 1 columns</p>\n",
              "</div>"
            ],
            "text/plain": [
              "                        action\n",
              "user_id                       \n",
              "9104    0-24H_actions     1050\n",
              "1361    0-24H_actions      932\n",
              "19805   0-24H_actions      792\n",
              "11061   0-24H_actions      780\n",
              "22684   0-24H_actions      752\n",
              "...                        ...\n",
              "19149   24-48H_actions       0\n",
              "9883    24-48H_actions       0\n",
              "9881    24-48H_actions       0\n",
              "9880    24-48H_actions       0\n",
              "26798   24-48H_actions       0\n",
              "\n",
              "[38468 rows x 1 columns]"
            ]
          },
          "metadata": {
            "tags": []
          },
          "execution_count": 83
        },
        {
          "output_type": "display_data",
          "data": {
            "image/png": "[encoded data removed]",
            "text/plain": [
              "<Figure size 936x576 with 2 Axes>"
            ]
          },
          "metadata": {
            "tags": [],
            "needs_background": "light"
          }
        }
      ]
    },
    {
      "cell_type": "markdown",
      "metadata": {
        "id": "8LAz-JjT-iWk"
      },
      "source": [
        "Видимо, усреднение по суткам самое адекватное. В тестовой выборке аналогичная ситуация:"
      ]
    },
    {
      "cell_type": "code",
      "metadata": {
        "id": "YzcIrZFX-iWk",
        "colab": {
          "base_uri": "https://localhost:8080/",
          "height": 999
        },
        "outputId": "c4d50830-46c8-4de1-f144-3c8edeae93c7"
      },
      "source": [
        "show_actions_by_period(all_actions_test, period_len=24)"
      ],
      "execution_count": 84,
      "outputs": [
        {
          "output_type": "stream",
          "text": [
            "Maximum actions by 24H: 745\n",
            "Maximum number of steps visited during 24H: 68\n",
            "Share of periods with zero activity: 0.414\n",
            "Median actions by 24H: 3.0\n",
            "Share of outliers: 0.195\n"
          ],
          "name": "stdout"
        },
        {
          "output_type": "execute_result",
          "data": {
            "text/html": [
              "<div>\n",
              "<style scoped>\n",
              "    .dataframe tbody tr th:only-of-type {\n",
              "        vertical-align: middle;\n",
              "    }\n",
              "\n",
              "    .dataframe tbody tr th {\n",
              "        vertical-align: top;\n",
              "    }\n",
              "\n",
              "    .dataframe thead th {\n",
              "        text-align: right;\n",
              "    }\n",
              "</style>\n",
              "<table border=\"1\" class=\"dataframe\">\n",
              "  <thead>\n",
              "    <tr style=\"text-align: right;\">\n",
              "      <th></th>\n",
              "      <th></th>\n",
              "      <th>action</th>\n",
              "    </tr>\n",
              "    <tr>\n",
              "      <th>user_id</th>\n",
              "      <th></th>\n",
              "      <th></th>\n",
              "    </tr>\n",
              "  </thead>\n",
              "  <tbody>\n",
              "    <tr>\n",
              "      <th>4593</th>\n",
              "      <th>0-24H_actions</th>\n",
              "      <td>745</td>\n",
              "    </tr>\n",
              "    <tr>\n",
              "      <th>21396</th>\n",
              "      <th>0-24H_actions</th>\n",
              "      <td>690</td>\n",
              "    </tr>\n",
              "    <tr>\n",
              "      <th>1359</th>\n",
              "      <th>0-24H_actions</th>\n",
              "      <td>662</td>\n",
              "    </tr>\n",
              "    <tr>\n",
              "      <th>26775</th>\n",
              "      <th>0-24H_actions</th>\n",
              "      <td>655</td>\n",
              "    </tr>\n",
              "    <tr>\n",
              "      <th>14978</th>\n",
              "      <th>0-24H_actions</th>\n",
              "      <td>651</td>\n",
              "    </tr>\n",
              "    <tr>\n",
              "      <th>...</th>\n",
              "      <th>...</th>\n",
              "      <td>...</td>\n",
              "    </tr>\n",
              "    <tr>\n",
              "      <th>17942</th>\n",
              "      <th>24-48H_actions</th>\n",
              "      <td>0</td>\n",
              "    </tr>\n",
              "    <tr>\n",
              "      <th>7880</th>\n",
              "      <th>24-48H_actions</th>\n",
              "      <td>0</td>\n",
              "    </tr>\n",
              "    <tr>\n",
              "      <th>17940</th>\n",
              "      <th>24-48H_actions</th>\n",
              "      <td>0</td>\n",
              "    </tr>\n",
              "    <tr>\n",
              "      <th>17938</th>\n",
              "      <th>24-48H_actions</th>\n",
              "      <td>0</td>\n",
              "    </tr>\n",
              "    <tr>\n",
              "      <th>26800</th>\n",
              "      <th>24-48H_actions</th>\n",
              "      <td>0</td>\n",
              "    </tr>\n",
              "  </tbody>\n",
              "</table>\n",
              "<p>12368 rows × 1 columns</p>\n",
              "</div>"
            ],
            "text/plain": [
              "                        action\n",
              "user_id                       \n",
              "4593    0-24H_actions      745\n",
              "21396   0-24H_actions      690\n",
              "1359    0-24H_actions      662\n",
              "26775   0-24H_actions      655\n",
              "14978   0-24H_actions      651\n",
              "...                        ...\n",
              "17942   24-48H_actions       0\n",
              "7880    24-48H_actions       0\n",
              "17940   24-48H_actions       0\n",
              "17938   24-48H_actions       0\n",
              "26800   24-48H_actions       0\n",
              "\n",
              "[12368 rows x 1 columns]"
            ]
          },
          "metadata": {
            "tags": []
          },
          "execution_count": 84
        },
        {
          "output_type": "display_data",
          "data": {
            "image/png": "[encoded data removed]",
            "text/plain": [
              "<Figure size 936x576 with 2 Axes>"
            ]
          },
          "metadata": {
            "tags": [],
            "needs_background": "light"
          }
        }
      ]
    },
    {
      "cell_type": "markdown",
      "metadata": {
        "id": "PNO7d0ku-iWk"
      },
      "source": [
        "Только здесь нет таких выраженных двух выбросов, как в тренировочной выборке. Скорей всего потому, что выборка поменьше. Но можно и выкинуть две строчки, не обеднеем сильно."
      ]
    },
    {
      "cell_type": "code",
      "metadata": {
        "id": "ZSAmU9vI-iWl"
      },
      "source": [
        "outlier_users += [9104, 1361]"
      ],
      "execution_count": 85,
      "outputs": []
    },
    {
      "cell_type": "markdown",
      "metadata": {
        "id": "a8OHg-hs-iWl"
      },
      "source": [
        "## Аномалии с общим количеством действий"
      ]
    },
    {
      "cell_type": "markdown",
      "metadata": {
        "id": "5rXLfZeS-iWl"
      },
      "source": [
        "Давайте посмотрим, какие пользователи имеют больше отметок по тем или иным действиям (если действий слишком много, то либо опять произошел баг логера, либо пользователь является модератором, которых бы лучше выкинуть, так как они явно не являются типичными пользователями). За два дня тенденции будут видны не сильно, так что можно будет посмотреть данные о действиях из всей тестовой выборки (даже если пользователь не ведет себя аномально в течение двух дней согласно простым признакам, на которые мы смотрим сейчас, то он может быть аномалией по каким-нибудь другим признакам)."
      ]
    },
    {
      "cell_type": "markdown",
      "metadata": {
        "id": "1OmHUbvH-iWl"
      },
      "source": [
        "Отсортируем пользователей по общему количеству корректных решений и посмотрим, нет ли выбросов:"
      ]
    },
    {
      "cell_type": "code",
      "metadata": {
        "id": "T0QdmAZu-iWm",
        "colab": {
          "base_uri": "https://localhost:8080/",
          "height": 386
        },
        "outputId": "b2408a85-a6fe-4c08-c230-1e72d835b244"
      },
      "source": [
        "train_df_all.sort_values(by='correct', ascending=False).head(10)"
      ],
      "execution_count": 86,
      "outputs": [
        {
          "output_type": "execute_result",
          "data": {
            "text/html": [
              "<div>\n",
              "<style scoped>\n",
              "    .dataframe tbody tr th:only-of-type {\n",
              "        vertical-align: middle;\n",
              "    }\n",
              "\n",
              "    .dataframe tbody tr th {\n",
              "        vertical-align: top;\n",
              "    }\n",
              "\n",
              "    .dataframe thead th {\n",
              "        text-align: right;\n",
              "    }\n",
              "</style>\n",
              "<table border=\"1\" class=\"dataframe\">\n",
              "  <thead>\n",
              "    <tr style=\"text-align: right;\">\n",
              "      <th></th>\n",
              "      <th>discovered</th>\n",
              "      <th>passed</th>\n",
              "      <th>started_attempt</th>\n",
              "      <th>viewed</th>\n",
              "      <th>correct</th>\n",
              "      <th>wrong</th>\n",
              "      <th>num_days</th>\n",
              "      <th>passed_course</th>\n",
              "    </tr>\n",
              "    <tr>\n",
              "      <th>user_id</th>\n",
              "      <th></th>\n",
              "      <th></th>\n",
              "      <th></th>\n",
              "      <th></th>\n",
              "      <th></th>\n",
              "      <th></th>\n",
              "      <th></th>\n",
              "      <th></th>\n",
              "    </tr>\n",
              "  </thead>\n",
              "  <tbody>\n",
              "    <tr>\n",
              "      <th>1046</th>\n",
              "      <td>128</td>\n",
              "      <td>124</td>\n",
              "      <td>721</td>\n",
              "      <td>8122</td>\n",
              "      <td>421</td>\n",
              "      <td>513</td>\n",
              "      <td>478</td>\n",
              "      <td>1</td>\n",
              "    </tr>\n",
              "    <tr>\n",
              "      <th>5552</th>\n",
              "      <td>198</td>\n",
              "      <td>198</td>\n",
              "      <td>224</td>\n",
              "      <td>1141</td>\n",
              "      <td>186</td>\n",
              "      <td>93</td>\n",
              "      <td>56</td>\n",
              "      <td>1</td>\n",
              "    </tr>\n",
              "    <tr>\n",
              "      <th>17135</th>\n",
              "      <td>196</td>\n",
              "      <td>196</td>\n",
              "      <td>190</td>\n",
              "      <td>1040</td>\n",
              "      <td>168</td>\n",
              "      <td>177</td>\n",
              "      <td>31</td>\n",
              "      <td>1</td>\n",
              "    </tr>\n",
              "    <tr>\n",
              "      <th>6183</th>\n",
              "      <td>196</td>\n",
              "      <td>196</td>\n",
              "      <td>150</td>\n",
              "      <td>758</td>\n",
              "      <td>142</td>\n",
              "      <td>65</td>\n",
              "      <td>39</td>\n",
              "      <td>1</td>\n",
              "    </tr>\n",
              "    <tr>\n",
              "      <th>8461</th>\n",
              "      <td>198</td>\n",
              "      <td>198</td>\n",
              "      <td>154</td>\n",
              "      <td>977</td>\n",
              "      <td>135</td>\n",
              "      <td>42</td>\n",
              "      <td>25</td>\n",
              "      <td>1</td>\n",
              "    </tr>\n",
              "    <tr>\n",
              "      <th>1218</th>\n",
              "      <td>198</td>\n",
              "      <td>198</td>\n",
              "      <td>162</td>\n",
              "      <td>626</td>\n",
              "      <td>130</td>\n",
              "      <td>71</td>\n",
              "      <td>24</td>\n",
              "      <td>1</td>\n",
              "    </tr>\n",
              "    <tr>\n",
              "      <th>14699</th>\n",
              "      <td>196</td>\n",
              "      <td>196</td>\n",
              "      <td>128</td>\n",
              "      <td>678</td>\n",
              "      <td>121</td>\n",
              "      <td>33</td>\n",
              "      <td>13</td>\n",
              "      <td>1</td>\n",
              "    </tr>\n",
              "    <tr>\n",
              "      <th>24022</th>\n",
              "      <td>194</td>\n",
              "      <td>194</td>\n",
              "      <td>148</td>\n",
              "      <td>621</td>\n",
              "      <td>121</td>\n",
              "      <td>118</td>\n",
              "      <td>49</td>\n",
              "      <td>1</td>\n",
              "    </tr>\n",
              "    <tr>\n",
              "      <th>30</th>\n",
              "      <td>198</td>\n",
              "      <td>198</td>\n",
              "      <td>150</td>\n",
              "      <td>512</td>\n",
              "      <td>119</td>\n",
              "      <td>79</td>\n",
              "      <td>42</td>\n",
              "      <td>1</td>\n",
              "    </tr>\n",
              "    <tr>\n",
              "      <th>22713</th>\n",
              "      <td>198</td>\n",
              "      <td>198</td>\n",
              "      <td>169</td>\n",
              "      <td>229</td>\n",
              "      <td>117</td>\n",
              "      <td>110</td>\n",
              "      <td>6</td>\n",
              "      <td>1</td>\n",
              "    </tr>\n",
              "  </tbody>\n",
              "</table>\n",
              "</div>"
            ],
            "text/plain": [
              "         discovered  passed  started_attempt  ...  wrong  num_days  passed_course\n",
              "user_id                                       ...                                \n",
              "1046            128     124              721  ...    513       478              1\n",
              "5552            198     198              224  ...     93        56              1\n",
              "17135           196     196              190  ...    177        31              1\n",
              "6183            196     196              150  ...     65        39              1\n",
              "8461            198     198              154  ...     42        25              1\n",
              "1218            198     198              162  ...     71        24              1\n",
              "14699           196     196              128  ...     33        13              1\n",
              "24022           194     194              148  ...    118        49              1\n",
              "30              198     198              150  ...     79        42              1\n",
              "22713           198     198              169  ...    110         6              1\n",
              "\n",
              "[10 rows x 8 columns]"
            ]
          },
          "metadata": {
            "tags": []
          },
          "execution_count": 86
        }
      ]
    },
    {
      "cell_type": "markdown",
      "metadata": {
        "id": "wrdZIxDh-iWn"
      },
      "source": [
        "Опять можем отсеять ```user_id = 1046```. А в данных за два дня что?"
      ]
    },
    {
      "cell_type": "code",
      "metadata": {
        "id": "YkuT9Q5D-iWn",
        "colab": {
          "base_uri": "https://localhost:8080/",
          "height": 386
        },
        "outputId": "9e438b90-b446-446e-b3bd-29249f11e092"
      },
      "source": [
        "train_df.sort_values(by='correct', ascending=False).head(10)"
      ],
      "execution_count": 87,
      "outputs": [
        {
          "output_type": "execute_result",
          "data": {
            "text/html": [
              "<div>\n",
              "<style scoped>\n",
              "    .dataframe tbody tr th:only-of-type {\n",
              "        vertical-align: middle;\n",
              "    }\n",
              "\n",
              "    .dataframe tbody tr th {\n",
              "        vertical-align: top;\n",
              "    }\n",
              "\n",
              "    .dataframe thead th {\n",
              "        text-align: right;\n",
              "    }\n",
              "</style>\n",
              "<table border=\"1\" class=\"dataframe\">\n",
              "  <thead>\n",
              "    <tr style=\"text-align: right;\">\n",
              "      <th></th>\n",
              "      <th>discovered</th>\n",
              "      <th>passed</th>\n",
              "      <th>started_attempt</th>\n",
              "      <th>viewed</th>\n",
              "      <th>correct</th>\n",
              "      <th>wrong</th>\n",
              "      <th>num_days</th>\n",
              "      <th>passed_course</th>\n",
              "    </tr>\n",
              "    <tr>\n",
              "      <th>user_id</th>\n",
              "      <th></th>\n",
              "      <th></th>\n",
              "      <th></th>\n",
              "      <th></th>\n",
              "      <th></th>\n",
              "      <th></th>\n",
              "      <th></th>\n",
              "      <th></th>\n",
              "    </tr>\n",
              "  </thead>\n",
              "  <tbody>\n",
              "    <tr>\n",
              "      <th>19805</th>\n",
              "      <td>198</td>\n",
              "      <td>198</td>\n",
              "      <td>81</td>\n",
              "      <td>230</td>\n",
              "      <td>76</td>\n",
              "      <td>9</td>\n",
              "      <td>1</td>\n",
              "      <td>1</td>\n",
              "    </tr>\n",
              "    <tr>\n",
              "      <th>17191</th>\n",
              "      <td>190</td>\n",
              "      <td>190</td>\n",
              "      <td>76</td>\n",
              "      <td>202</td>\n",
              "      <td>75</td>\n",
              "      <td>7</td>\n",
              "      <td>1</td>\n",
              "      <td>1</td>\n",
              "    </tr>\n",
              "    <tr>\n",
              "      <th>4106</th>\n",
              "      <td>186</td>\n",
              "      <td>185</td>\n",
              "      <td>86</td>\n",
              "      <td>213</td>\n",
              "      <td>74</td>\n",
              "      <td>42</td>\n",
              "      <td>3</td>\n",
              "      <td>1</td>\n",
              "    </tr>\n",
              "    <tr>\n",
              "      <th>11061</th>\n",
              "      <td>197</td>\n",
              "      <td>195</td>\n",
              "      <td>97</td>\n",
              "      <td>212</td>\n",
              "      <td>74</td>\n",
              "      <td>5</td>\n",
              "      <td>2</td>\n",
              "      <td>1</td>\n",
              "    </tr>\n",
              "    <tr>\n",
              "      <th>9104</th>\n",
              "      <td>198</td>\n",
              "      <td>195</td>\n",
              "      <td>130</td>\n",
              "      <td>361</td>\n",
              "      <td>73</td>\n",
              "      <td>93</td>\n",
              "      <td>2</td>\n",
              "      <td>1</td>\n",
              "    </tr>\n",
              "    <tr>\n",
              "      <th>22833</th>\n",
              "      <td>192</td>\n",
              "      <td>190</td>\n",
              "      <td>78</td>\n",
              "      <td>198</td>\n",
              "      <td>72</td>\n",
              "      <td>4</td>\n",
              "      <td>1</td>\n",
              "      <td>1</td>\n",
              "    </tr>\n",
              "    <tr>\n",
              "      <th>22713</th>\n",
              "      <td>118</td>\n",
              "      <td>118</td>\n",
              "      <td>100</td>\n",
              "      <td>138</td>\n",
              "      <td>69</td>\n",
              "      <td>67</td>\n",
              "      <td>2</td>\n",
              "      <td>1</td>\n",
              "    </tr>\n",
              "    <tr>\n",
              "      <th>9956</th>\n",
              "      <td>192</td>\n",
              "      <td>184</td>\n",
              "      <td>71</td>\n",
              "      <td>213</td>\n",
              "      <td>67</td>\n",
              "      <td>3</td>\n",
              "      <td>2</td>\n",
              "      <td>1</td>\n",
              "    </tr>\n",
              "    <tr>\n",
              "      <th>22684</th>\n",
              "      <td>164</td>\n",
              "      <td>163</td>\n",
              "      <td>100</td>\n",
              "      <td>217</td>\n",
              "      <td>66</td>\n",
              "      <td>42</td>\n",
              "      <td>1</td>\n",
              "      <td>1</td>\n",
              "    </tr>\n",
              "    <tr>\n",
              "      <th>21010</th>\n",
              "      <td>188</td>\n",
              "      <td>181</td>\n",
              "      <td>75</td>\n",
              "      <td>213</td>\n",
              "      <td>65</td>\n",
              "      <td>7</td>\n",
              "      <td>2</td>\n",
              "      <td>1</td>\n",
              "    </tr>\n",
              "  </tbody>\n",
              "</table>\n",
              "</div>"
            ],
            "text/plain": [
              "         discovered  passed  started_attempt  ...  wrong  num_days  passed_course\n",
              "user_id                                       ...                                \n",
              "19805           198     198               81  ...      9         1              1\n",
              "17191           190     190               76  ...      7         1              1\n",
              "4106            186     185               86  ...     42         3              1\n",
              "11061           197     195               97  ...      5         2              1\n",
              "9104            198     195              130  ...     93         2              1\n",
              "22833           192     190               78  ...      4         1              1\n",
              "22713           118     118              100  ...     67         2              1\n",
              "9956            192     184               71  ...      3         2              1\n",
              "22684           164     163              100  ...     42         1              1\n",
              "21010           188     181               75  ...      7         2              1\n",
              "\n",
              "[10 rows x 8 columns]"
            ]
          },
          "metadata": {
            "tags": []
          },
          "execution_count": 87
        }
      ]
    },
    {
      "cell_type": "code",
      "metadata": {
        "id": "TzixKR0c-iWn",
        "colab": {
          "base_uri": "https://localhost:8080/",
          "height": 279
        },
        "outputId": "5290612f-6ef4-4cf1-eb12-9a88f6214c2e"
      },
      "source": [
        "sns.boxplot(train_df.correct);"
      ],
      "execution_count": 88,
      "outputs": [
        {
          "output_type": "display_data",
          "data": {
            "image/png": "[encoded data removed]",
            "text/plain": [
              "<Figure size 432x288 with 1 Axes>"
            ]
          },
          "metadata": {
            "tags": [],
            "needs_background": "light"
          }
        }
      ]
    },
    {
      "cell_type": "code",
      "metadata": {
        "id": "okFschIg-iWo",
        "colab": {
          "base_uri": "https://localhost:8080/",
          "height": 386
        },
        "outputId": "7debdcbb-2c67-4625-83a1-6b590650c7e3"
      },
      "source": [
        "test_df.sort_values(by='correct', ascending=False).head(10)"
      ],
      "execution_count": 89,
      "outputs": [
        {
          "output_type": "execute_result",
          "data": {
            "text/html": [
              "<div>\n",
              "<style scoped>\n",
              "    .dataframe tbody tr th:only-of-type {\n",
              "        vertical-align: middle;\n",
              "    }\n",
              "\n",
              "    .dataframe tbody tr th {\n",
              "        vertical-align: top;\n",
              "    }\n",
              "\n",
              "    .dataframe thead th {\n",
              "        text-align: right;\n",
              "    }\n",
              "</style>\n",
              "<table border=\"1\" class=\"dataframe\">\n",
              "  <thead>\n",
              "    <tr style=\"text-align: right;\">\n",
              "      <th></th>\n",
              "      <th>discovered</th>\n",
              "      <th>passed</th>\n",
              "      <th>started_attempt</th>\n",
              "      <th>viewed</th>\n",
              "      <th>correct</th>\n",
              "      <th>wrong</th>\n",
              "      <th>num_days</th>\n",
              "    </tr>\n",
              "    <tr>\n",
              "      <th>user_id</th>\n",
              "      <th></th>\n",
              "      <th></th>\n",
              "      <th></th>\n",
              "      <th></th>\n",
              "      <th></th>\n",
              "      <th></th>\n",
              "      <th></th>\n",
              "    </tr>\n",
              "  </thead>\n",
              "  <tbody>\n",
              "    <tr>\n",
              "      <th>26775</th>\n",
              "      <td>113</td>\n",
              "      <td>103</td>\n",
              "      <td>84</td>\n",
              "      <td>455</td>\n",
              "      <td>46</td>\n",
              "      <td>160</td>\n",
              "      <td>3</td>\n",
              "    </tr>\n",
              "    <tr>\n",
              "      <th>18602</th>\n",
              "      <td>73</td>\n",
              "      <td>72</td>\n",
              "      <td>57</td>\n",
              "      <td>215</td>\n",
              "      <td>43</td>\n",
              "      <td>68</td>\n",
              "      <td>3</td>\n",
              "    </tr>\n",
              "    <tr>\n",
              "      <th>9788</th>\n",
              "      <td>121</td>\n",
              "      <td>113</td>\n",
              "      <td>74</td>\n",
              "      <td>437</td>\n",
              "      <td>42</td>\n",
              "      <td>128</td>\n",
              "      <td>2</td>\n",
              "    </tr>\n",
              "    <tr>\n",
              "      <th>11619</th>\n",
              "      <td>121</td>\n",
              "      <td>111</td>\n",
              "      <td>64</td>\n",
              "      <td>543</td>\n",
              "      <td>42</td>\n",
              "      <td>62</td>\n",
              "      <td>3</td>\n",
              "    </tr>\n",
              "    <tr>\n",
              "      <th>13550</th>\n",
              "      <td>121</td>\n",
              "      <td>108</td>\n",
              "      <td>66</td>\n",
              "      <td>391</td>\n",
              "      <td>41</td>\n",
              "      <td>92</td>\n",
              "      <td>2</td>\n",
              "    </tr>\n",
              "    <tr>\n",
              "      <th>21685</th>\n",
              "      <td>151</td>\n",
              "      <td>135</td>\n",
              "      <td>56</td>\n",
              "      <td>151</td>\n",
              "      <td>40</td>\n",
              "      <td>0</td>\n",
              "      <td>1</td>\n",
              "    </tr>\n",
              "    <tr>\n",
              "      <th>21444</th>\n",
              "      <td>123</td>\n",
              "      <td>117</td>\n",
              "      <td>71</td>\n",
              "      <td>129</td>\n",
              "      <td>40</td>\n",
              "      <td>1</td>\n",
              "      <td>1</td>\n",
              "    </tr>\n",
              "    <tr>\n",
              "      <th>4254</th>\n",
              "      <td>102</td>\n",
              "      <td>99</td>\n",
              "      <td>52</td>\n",
              "      <td>388</td>\n",
              "      <td>40</td>\n",
              "      <td>88</td>\n",
              "      <td>3</td>\n",
              "    </tr>\n",
              "    <tr>\n",
              "      <th>19796</th>\n",
              "      <td>105</td>\n",
              "      <td>103</td>\n",
              "      <td>51</td>\n",
              "      <td>292</td>\n",
              "      <td>40</td>\n",
              "      <td>17</td>\n",
              "      <td>3</td>\n",
              "    </tr>\n",
              "    <tr>\n",
              "      <th>20193</th>\n",
              "      <td>97</td>\n",
              "      <td>97</td>\n",
              "      <td>43</td>\n",
              "      <td>309</td>\n",
              "      <td>39</td>\n",
              "      <td>50</td>\n",
              "      <td>3</td>\n",
              "    </tr>\n",
              "  </tbody>\n",
              "</table>\n",
              "</div>"
            ],
            "text/plain": [
              "         discovered  passed  started_attempt  viewed  correct  wrong  num_days\n",
              "user_id                                                                       \n",
              "26775           113     103               84     455       46    160         3\n",
              "18602            73      72               57     215       43     68         3\n",
              "9788            121     113               74     437       42    128         2\n",
              "11619           121     111               64     543       42     62         3\n",
              "13550           121     108               66     391       41     92         2\n",
              "21685           151     135               56     151       40      0         1\n",
              "21444           123     117               71     129       40      1         1\n",
              "4254            102      99               52     388       40     88         3\n",
              "19796           105     103               51     292       40     17         3\n",
              "20193            97      97               43     309       39     50         3"
            ]
          },
          "metadata": {
            "tags": []
          },
          "execution_count": 89
        }
      ]
    },
    {
      "cell_type": "code",
      "metadata": {
        "id": "EMs3Z0Pp-iWo",
        "colab": {
          "base_uri": "https://localhost:8080/",
          "height": 279
        },
        "outputId": "ec83730d-30e4-4ac9-db7a-ceef7b19fc5c"
      },
      "source": [
        "sns.boxplot(test_df.correct);"
      ],
      "execution_count": 90,
      "outputs": [
        {
          "output_type": "display_data",
          "data": {
            "image/png": "[encoded data removed]",
            "text/plain": [
              "<Figure size 432x288 with 1 Axes>"
            ]
          },
          "metadata": {
            "tags": [],
            "needs_background": "light"
          }
        }
      ]
    },
    {
      "cell_type": "markdown",
      "metadata": {
        "id": "0Jkrmf3p-iWr"
      },
      "source": [
        "Здесь очевидных выбросов не видно (а как это проверять не на глаз?). Опять видим, что распределения показателей ```correct``` в тренировочной и тестовой выборках отличаются (скорее всего потому, что тренировочная выборка просто больше)."
      ]
    },
    {
      "cell_type": "markdown",
      "metadata": {
        "id": "lyCxpWCk-iWs"
      },
      "source": [
        "Отсортируем по значению ```viewed```:"
      ]
    },
    {
      "cell_type": "code",
      "metadata": {
        "id": "HYek8tef-iWt",
        "colab": {
          "base_uri": "https://localhost:8080/",
          "height": 386
        },
        "outputId": "caa11c07-6cf6-48f7-c209-4f0dbbb61d21"
      },
      "source": [
        "train_df_all.sort_values(by='viewed', ascending=False).head(10)"
      ],
      "execution_count": 91,
      "outputs": [
        {
          "output_type": "execute_result",
          "data": {
            "text/html": [
              "<div>\n",
              "<style scoped>\n",
              "    .dataframe tbody tr th:only-of-type {\n",
              "        vertical-align: middle;\n",
              "    }\n",
              "\n",
              "    .dataframe tbody tr th {\n",
              "        vertical-align: top;\n",
              "    }\n",
              "\n",
              "    .dataframe thead th {\n",
              "        text-align: right;\n",
              "    }\n",
              "</style>\n",
              "<table border=\"1\" class=\"dataframe\">\n",
              "  <thead>\n",
              "    <tr style=\"text-align: right;\">\n",
              "      <th></th>\n",
              "      <th>discovered</th>\n",
              "      <th>passed</th>\n",
              "      <th>started_attempt</th>\n",
              "      <th>viewed</th>\n",
              "      <th>correct</th>\n",
              "      <th>wrong</th>\n",
              "      <th>num_days</th>\n",
              "      <th>passed_course</th>\n",
              "    </tr>\n",
              "    <tr>\n",
              "      <th>user_id</th>\n",
              "      <th></th>\n",
              "      <th></th>\n",
              "      <th></th>\n",
              "      <th></th>\n",
              "      <th></th>\n",
              "      <th></th>\n",
              "      <th></th>\n",
              "      <th></th>\n",
              "    </tr>\n",
              "  </thead>\n",
              "  <tbody>\n",
              "    <tr>\n",
              "      <th>20907</th>\n",
              "      <td>163</td>\n",
              "      <td>102</td>\n",
              "      <td>0</td>\n",
              "      <td>32778</td>\n",
              "      <td>0</td>\n",
              "      <td>0</td>\n",
              "      <td>221</td>\n",
              "      <td>0</td>\n",
              "    </tr>\n",
              "    <tr>\n",
              "      <th>10794</th>\n",
              "      <td>198</td>\n",
              "      <td>122</td>\n",
              "      <td>27</td>\n",
              "      <td>16089</td>\n",
              "      <td>0</td>\n",
              "      <td>0</td>\n",
              "      <td>281</td>\n",
              "      <td>0</td>\n",
              "    </tr>\n",
              "    <tr>\n",
              "      <th>25279</th>\n",
              "      <td>198</td>\n",
              "      <td>122</td>\n",
              "      <td>166</td>\n",
              "      <td>9693</td>\n",
              "      <td>0</td>\n",
              "      <td>0</td>\n",
              "      <td>75</td>\n",
              "      <td>0</td>\n",
              "    </tr>\n",
              "    <tr>\n",
              "      <th>1046</th>\n",
              "      <td>128</td>\n",
              "      <td>124</td>\n",
              "      <td>721</td>\n",
              "      <td>8122</td>\n",
              "      <td>421</td>\n",
              "      <td>513</td>\n",
              "      <td>478</td>\n",
              "      <td>1</td>\n",
              "    </tr>\n",
              "    <tr>\n",
              "      <th>3572</th>\n",
              "      <td>194</td>\n",
              "      <td>193</td>\n",
              "      <td>550</td>\n",
              "      <td>6968</td>\n",
              "      <td>113</td>\n",
              "      <td>398</td>\n",
              "      <td>236</td>\n",
              "      <td>1</td>\n",
              "    </tr>\n",
              "    <tr>\n",
              "      <th>11770</th>\n",
              "      <td>193</td>\n",
              "      <td>118</td>\n",
              "      <td>0</td>\n",
              "      <td>6330</td>\n",
              "      <td>0</td>\n",
              "      <td>0</td>\n",
              "      <td>57</td>\n",
              "      <td>0</td>\n",
              "    </tr>\n",
              "    <tr>\n",
              "      <th>9546</th>\n",
              "      <td>192</td>\n",
              "      <td>119</td>\n",
              "      <td>161</td>\n",
              "      <td>5915</td>\n",
              "      <td>0</td>\n",
              "      <td>0</td>\n",
              "      <td>108</td>\n",
              "      <td>0</td>\n",
              "    </tr>\n",
              "    <tr>\n",
              "      <th>761</th>\n",
              "      <td>193</td>\n",
              "      <td>118</td>\n",
              "      <td>0</td>\n",
              "      <td>4281</td>\n",
              "      <td>0</td>\n",
              "      <td>0</td>\n",
              "      <td>43</td>\n",
              "      <td>0</td>\n",
              "    </tr>\n",
              "    <tr>\n",
              "      <th>8363</th>\n",
              "      <td>194</td>\n",
              "      <td>119</td>\n",
              "      <td>113</td>\n",
              "      <td>3492</td>\n",
              "      <td>0</td>\n",
              "      <td>0</td>\n",
              "      <td>48</td>\n",
              "      <td>0</td>\n",
              "    </tr>\n",
              "    <tr>\n",
              "      <th>6764</th>\n",
              "      <td>193</td>\n",
              "      <td>118</td>\n",
              "      <td>0</td>\n",
              "      <td>2960</td>\n",
              "      <td>0</td>\n",
              "      <td>0</td>\n",
              "      <td>33</td>\n",
              "      <td>0</td>\n",
              "    </tr>\n",
              "  </tbody>\n",
              "</table>\n",
              "</div>"
            ],
            "text/plain": [
              "         discovered  passed  started_attempt  ...  wrong  num_days  passed_course\n",
              "user_id                                       ...                                \n",
              "20907           163     102                0  ...      0       221              0\n",
              "10794           198     122               27  ...      0       281              0\n",
              "25279           198     122              166  ...      0        75              0\n",
              "1046            128     124              721  ...    513       478              1\n",
              "3572            194     193              550  ...    398       236              1\n",
              "11770           193     118                0  ...      0        57              0\n",
              "9546            192     119              161  ...      0       108              0\n",
              "761             193     118                0  ...      0        43              0\n",
              "8363            194     119              113  ...      0        48              0\n",
              "6764            193     118                0  ...      0        33              0\n",
              "\n",
              "[10 rows x 8 columns]"
            ]
          },
          "metadata": {
            "tags": []
          },
          "execution_count": 91
        }
      ]
    },
    {
      "cell_type": "markdown",
      "metadata": {
        "id": "AUz_X8D2-iWt"
      },
      "source": [
        "Странные юзеры, у которых много ```viewed```, но при этом ни одного сабмита... "
      ]
    },
    {
      "cell_type": "code",
      "metadata": {
        "id": "MrVgUhHq-iWt",
        "colab": {
          "base_uri": "https://localhost:8080/",
          "height": 386
        },
        "outputId": "fcacde70-455d-4850-dcfa-98e2c5244d44"
      },
      "source": [
        "train_df_all.query('correct + wrong == 0').sort_values(by='viewed', ascending=False).head(10)"
      ],
      "execution_count": 92,
      "outputs": [
        {
          "output_type": "execute_result",
          "data": {
            "text/html": [
              "<div>\n",
              "<style scoped>\n",
              "    .dataframe tbody tr th:only-of-type {\n",
              "        vertical-align: middle;\n",
              "    }\n",
              "\n",
              "    .dataframe tbody tr th {\n",
              "        vertical-align: top;\n",
              "    }\n",
              "\n",
              "    .dataframe thead th {\n",
              "        text-align: right;\n",
              "    }\n",
              "</style>\n",
              "<table border=\"1\" class=\"dataframe\">\n",
              "  <thead>\n",
              "    <tr style=\"text-align: right;\">\n",
              "      <th></th>\n",
              "      <th>discovered</th>\n",
              "      <th>passed</th>\n",
              "      <th>started_attempt</th>\n",
              "      <th>viewed</th>\n",
              "      <th>correct</th>\n",
              "      <th>wrong</th>\n",
              "      <th>num_days</th>\n",
              "      <th>passed_course</th>\n",
              "    </tr>\n",
              "    <tr>\n",
              "      <th>user_id</th>\n",
              "      <th></th>\n",
              "      <th></th>\n",
              "      <th></th>\n",
              "      <th></th>\n",
              "      <th></th>\n",
              "      <th></th>\n",
              "      <th></th>\n",
              "      <th></th>\n",
              "    </tr>\n",
              "  </thead>\n",
              "  <tbody>\n",
              "    <tr>\n",
              "      <th>20907</th>\n",
              "      <td>163</td>\n",
              "      <td>102</td>\n",
              "      <td>0</td>\n",
              "      <td>32778</td>\n",
              "      <td>0</td>\n",
              "      <td>0</td>\n",
              "      <td>221</td>\n",
              "      <td>0</td>\n",
              "    </tr>\n",
              "    <tr>\n",
              "      <th>10794</th>\n",
              "      <td>198</td>\n",
              "      <td>122</td>\n",
              "      <td>27</td>\n",
              "      <td>16089</td>\n",
              "      <td>0</td>\n",
              "      <td>0</td>\n",
              "      <td>281</td>\n",
              "      <td>0</td>\n",
              "    </tr>\n",
              "    <tr>\n",
              "      <th>25279</th>\n",
              "      <td>198</td>\n",
              "      <td>122</td>\n",
              "      <td>166</td>\n",
              "      <td>9693</td>\n",
              "      <td>0</td>\n",
              "      <td>0</td>\n",
              "      <td>75</td>\n",
              "      <td>0</td>\n",
              "    </tr>\n",
              "    <tr>\n",
              "      <th>11770</th>\n",
              "      <td>193</td>\n",
              "      <td>118</td>\n",
              "      <td>0</td>\n",
              "      <td>6330</td>\n",
              "      <td>0</td>\n",
              "      <td>0</td>\n",
              "      <td>57</td>\n",
              "      <td>0</td>\n",
              "    </tr>\n",
              "    <tr>\n",
              "      <th>9546</th>\n",
              "      <td>192</td>\n",
              "      <td>119</td>\n",
              "      <td>161</td>\n",
              "      <td>5915</td>\n",
              "      <td>0</td>\n",
              "      <td>0</td>\n",
              "      <td>108</td>\n",
              "      <td>0</td>\n",
              "    </tr>\n",
              "    <tr>\n",
              "      <th>761</th>\n",
              "      <td>193</td>\n",
              "      <td>118</td>\n",
              "      <td>0</td>\n",
              "      <td>4281</td>\n",
              "      <td>0</td>\n",
              "      <td>0</td>\n",
              "      <td>43</td>\n",
              "      <td>0</td>\n",
              "    </tr>\n",
              "    <tr>\n",
              "      <th>8363</th>\n",
              "      <td>194</td>\n",
              "      <td>119</td>\n",
              "      <td>113</td>\n",
              "      <td>3492</td>\n",
              "      <td>0</td>\n",
              "      <td>0</td>\n",
              "      <td>48</td>\n",
              "      <td>0</td>\n",
              "    </tr>\n",
              "    <tr>\n",
              "      <th>6764</th>\n",
              "      <td>193</td>\n",
              "      <td>118</td>\n",
              "      <td>0</td>\n",
              "      <td>2960</td>\n",
              "      <td>0</td>\n",
              "      <td>0</td>\n",
              "      <td>33</td>\n",
              "      <td>0</td>\n",
              "    </tr>\n",
              "    <tr>\n",
              "      <th>19472</th>\n",
              "      <td>194</td>\n",
              "      <td>119</td>\n",
              "      <td>0</td>\n",
              "      <td>2738</td>\n",
              "      <td>0</td>\n",
              "      <td>0</td>\n",
              "      <td>73</td>\n",
              "      <td>0</td>\n",
              "    </tr>\n",
              "    <tr>\n",
              "      <th>26654</th>\n",
              "      <td>194</td>\n",
              "      <td>120</td>\n",
              "      <td>101</td>\n",
              "      <td>2454</td>\n",
              "      <td>0</td>\n",
              "      <td>0</td>\n",
              "      <td>44</td>\n",
              "      <td>0</td>\n",
              "    </tr>\n",
              "  </tbody>\n",
              "</table>\n",
              "</div>"
            ],
            "text/plain": [
              "         discovered  passed  started_attempt  ...  wrong  num_days  passed_course\n",
              "user_id                                       ...                                \n",
              "20907           163     102                0  ...      0       221              0\n",
              "10794           198     122               27  ...      0       281              0\n",
              "25279           198     122              166  ...      0        75              0\n",
              "11770           193     118                0  ...      0        57              0\n",
              "9546            192     119              161  ...      0       108              0\n",
              "761             193     118                0  ...      0        43              0\n",
              "8363            194     119              113  ...      0        48              0\n",
              "6764            193     118                0  ...      0        33              0\n",
              "19472           194     119                0  ...      0        73              0\n",
              "26654           194     120              101  ...      0        44              0\n",
              "\n",
              "[10 rows x 8 columns]"
            ]
          },
          "metadata": {
            "tags": []
          },
          "execution_count": 92
        }
      ]
    },
    {
      "cell_type": "markdown",
      "metadata": {
        "id": "cOQGJTZ--iWu"
      },
      "source": [
        "И в данных за два дня такого поведения тоже много:"
      ]
    },
    {
      "cell_type": "code",
      "metadata": {
        "id": "eMrIYoxx-iWu",
        "colab": {
          "base_uri": "https://localhost:8080/",
          "height": 386
        },
        "outputId": "02cdf2b6-6a72-4d33-daa5-9255ab961cfb"
      },
      "source": [
        "train_df.sort_values(by='viewed', ascending=False).head(10)"
      ],
      "execution_count": 93,
      "outputs": [
        {
          "output_type": "execute_result",
          "data": {
            "text/html": [
              "<div>\n",
              "<style scoped>\n",
              "    .dataframe tbody tr th:only-of-type {\n",
              "        vertical-align: middle;\n",
              "    }\n",
              "\n",
              "    .dataframe tbody tr th {\n",
              "        vertical-align: top;\n",
              "    }\n",
              "\n",
              "    .dataframe thead th {\n",
              "        text-align: right;\n",
              "    }\n",
              "</style>\n",
              "<table border=\"1\" class=\"dataframe\">\n",
              "  <thead>\n",
              "    <tr style=\"text-align: right;\">\n",
              "      <th></th>\n",
              "      <th>discovered</th>\n",
              "      <th>passed</th>\n",
              "      <th>started_attempt</th>\n",
              "      <th>viewed</th>\n",
              "      <th>correct</th>\n",
              "      <th>wrong</th>\n",
              "      <th>num_days</th>\n",
              "      <th>passed_course</th>\n",
              "    </tr>\n",
              "    <tr>\n",
              "      <th>user_id</th>\n",
              "      <th></th>\n",
              "      <th></th>\n",
              "      <th></th>\n",
              "      <th></th>\n",
              "      <th></th>\n",
              "      <th></th>\n",
              "      <th></th>\n",
              "      <th></th>\n",
              "    </tr>\n",
              "  </thead>\n",
              "  <tbody>\n",
              "    <tr>\n",
              "      <th>1046</th>\n",
              "      <td>7</td>\n",
              "      <td>8</td>\n",
              "      <td>23</td>\n",
              "      <td>568</td>\n",
              "      <td>17</td>\n",
              "      <td>8</td>\n",
              "      <td>3</td>\n",
              "      <td>1</td>\n",
              "    </tr>\n",
              "    <tr>\n",
              "      <th>9880</th>\n",
              "      <td>115</td>\n",
              "      <td>67</td>\n",
              "      <td>2</td>\n",
              "      <td>524</td>\n",
              "      <td>0</td>\n",
              "      <td>0</td>\n",
              "      <td>2</td>\n",
              "      <td>0</td>\n",
              "    </tr>\n",
              "    <tr>\n",
              "      <th>25279</th>\n",
              "      <td>124</td>\n",
              "      <td>83</td>\n",
              "      <td>0</td>\n",
              "      <td>473</td>\n",
              "      <td>0</td>\n",
              "      <td>0</td>\n",
              "      <td>3</td>\n",
              "      <td>0</td>\n",
              "    </tr>\n",
              "    <tr>\n",
              "      <th>2514</th>\n",
              "      <td>50</td>\n",
              "      <td>31</td>\n",
              "      <td>0</td>\n",
              "      <td>458</td>\n",
              "      <td>0</td>\n",
              "      <td>0</td>\n",
              "      <td>2</td>\n",
              "      <td>0</td>\n",
              "    </tr>\n",
              "    <tr>\n",
              "      <th>13678</th>\n",
              "      <td>136</td>\n",
              "      <td>114</td>\n",
              "      <td>116</td>\n",
              "      <td>397</td>\n",
              "      <td>36</td>\n",
              "      <td>183</td>\n",
              "      <td>2</td>\n",
              "      <td>0</td>\n",
              "    </tr>\n",
              "    <tr>\n",
              "      <th>9104</th>\n",
              "      <td>198</td>\n",
              "      <td>195</td>\n",
              "      <td>130</td>\n",
              "      <td>361</td>\n",
              "      <td>73</td>\n",
              "      <td>93</td>\n",
              "      <td>2</td>\n",
              "      <td>1</td>\n",
              "    </tr>\n",
              "    <tr>\n",
              "      <th>8242</th>\n",
              "      <td>61</td>\n",
              "      <td>61</td>\n",
              "      <td>28</td>\n",
              "      <td>359</td>\n",
              "      <td>27</td>\n",
              "      <td>83</td>\n",
              "      <td>3</td>\n",
              "      <td>0</td>\n",
              "    </tr>\n",
              "    <tr>\n",
              "      <th>11792</th>\n",
              "      <td>167</td>\n",
              "      <td>102</td>\n",
              "      <td>26</td>\n",
              "      <td>335</td>\n",
              "      <td>1</td>\n",
              "      <td>7</td>\n",
              "      <td>2</td>\n",
              "      <td>0</td>\n",
              "    </tr>\n",
              "    <tr>\n",
              "      <th>3807</th>\n",
              "      <td>81</td>\n",
              "      <td>80</td>\n",
              "      <td>31</td>\n",
              "      <td>323</td>\n",
              "      <td>31</td>\n",
              "      <td>13</td>\n",
              "      <td>3</td>\n",
              "      <td>1</td>\n",
              "    </tr>\n",
              "    <tr>\n",
              "      <th>20447</th>\n",
              "      <td>83</td>\n",
              "      <td>82</td>\n",
              "      <td>35</td>\n",
              "      <td>306</td>\n",
              "      <td>29</td>\n",
              "      <td>14</td>\n",
              "      <td>2</td>\n",
              "      <td>1</td>\n",
              "    </tr>\n",
              "  </tbody>\n",
              "</table>\n",
              "</div>"
            ],
            "text/plain": [
              "         discovered  passed  started_attempt  ...  wrong  num_days  passed_course\n",
              "user_id                                       ...                                \n",
              "1046              7       8               23  ...      8         3              1\n",
              "9880            115      67                2  ...      0         2              0\n",
              "25279           124      83                0  ...      0         3              0\n",
              "2514             50      31                0  ...      0         2              0\n",
              "13678           136     114              116  ...    183         2              0\n",
              "9104            198     195              130  ...     93         2              1\n",
              "8242             61      61               28  ...     83         3              0\n",
              "11792           167     102               26  ...      7         2              0\n",
              "3807             81      80               31  ...     13         3              1\n",
              "20447            83      82               35  ...     14         2              1\n",
              "\n",
              "[10 rows x 8 columns]"
            ]
          },
          "metadata": {
            "tags": []
          },
          "execution_count": 93
        }
      ]
    },
    {
      "cell_type": "code",
      "metadata": {
        "id": "E9vO9K3o-iWv",
        "colab": {
          "base_uri": "https://localhost:8080/",
          "height": 386
        },
        "outputId": "8659411e-1125-49d2-86e8-f132831be537"
      },
      "source": [
        "train_df.query('correct + wrong == 0').sort_values(by='viewed', ascending=False).head(10)"
      ],
      "execution_count": 94,
      "outputs": [
        {
          "output_type": "execute_result",
          "data": {
            "text/html": [
              "<div>\n",
              "<style scoped>\n",
              "    .dataframe tbody tr th:only-of-type {\n",
              "        vertical-align: middle;\n",
              "    }\n",
              "\n",
              "    .dataframe tbody tr th {\n",
              "        vertical-align: top;\n",
              "    }\n",
              "\n",
              "    .dataframe thead th {\n",
              "        text-align: right;\n",
              "    }\n",
              "</style>\n",
              "<table border=\"1\" class=\"dataframe\">\n",
              "  <thead>\n",
              "    <tr style=\"text-align: right;\">\n",
              "      <th></th>\n",
              "      <th>discovered</th>\n",
              "      <th>passed</th>\n",
              "      <th>started_attempt</th>\n",
              "      <th>viewed</th>\n",
              "      <th>correct</th>\n",
              "      <th>wrong</th>\n",
              "      <th>num_days</th>\n",
              "      <th>passed_course</th>\n",
              "    </tr>\n",
              "    <tr>\n",
              "      <th>user_id</th>\n",
              "      <th></th>\n",
              "      <th></th>\n",
              "      <th></th>\n",
              "      <th></th>\n",
              "      <th></th>\n",
              "      <th></th>\n",
              "      <th></th>\n",
              "      <th></th>\n",
              "    </tr>\n",
              "  </thead>\n",
              "  <tbody>\n",
              "    <tr>\n",
              "      <th>9880</th>\n",
              "      <td>115</td>\n",
              "      <td>67</td>\n",
              "      <td>2</td>\n",
              "      <td>524</td>\n",
              "      <td>0</td>\n",
              "      <td>0</td>\n",
              "      <td>2</td>\n",
              "      <td>0</td>\n",
              "    </tr>\n",
              "    <tr>\n",
              "      <th>25279</th>\n",
              "      <td>124</td>\n",
              "      <td>83</td>\n",
              "      <td>0</td>\n",
              "      <td>473</td>\n",
              "      <td>0</td>\n",
              "      <td>0</td>\n",
              "      <td>3</td>\n",
              "      <td>0</td>\n",
              "    </tr>\n",
              "    <tr>\n",
              "      <th>2514</th>\n",
              "      <td>50</td>\n",
              "      <td>31</td>\n",
              "      <td>0</td>\n",
              "      <td>458</td>\n",
              "      <td>0</td>\n",
              "      <td>0</td>\n",
              "      <td>2</td>\n",
              "      <td>0</td>\n",
              "    </tr>\n",
              "    <tr>\n",
              "      <th>19813</th>\n",
              "      <td>97</td>\n",
              "      <td>67</td>\n",
              "      <td>0</td>\n",
              "      <td>305</td>\n",
              "      <td>0</td>\n",
              "      <td>0</td>\n",
              "      <td>2</td>\n",
              "      <td>0</td>\n",
              "    </tr>\n",
              "    <tr>\n",
              "      <th>11770</th>\n",
              "      <td>138</td>\n",
              "      <td>80</td>\n",
              "      <td>0</td>\n",
              "      <td>303</td>\n",
              "      <td>0</td>\n",
              "      <td>0</td>\n",
              "      <td>3</td>\n",
              "      <td>0</td>\n",
              "    </tr>\n",
              "    <tr>\n",
              "      <th>8363</th>\n",
              "      <td>133</td>\n",
              "      <td>97</td>\n",
              "      <td>35</td>\n",
              "      <td>269</td>\n",
              "      <td>0</td>\n",
              "      <td>0</td>\n",
              "      <td>3</td>\n",
              "      <td>0</td>\n",
              "    </tr>\n",
              "    <tr>\n",
              "      <th>22730</th>\n",
              "      <td>130</td>\n",
              "      <td>108</td>\n",
              "      <td>0</td>\n",
              "      <td>262</td>\n",
              "      <td>0</td>\n",
              "      <td>0</td>\n",
              "      <td>1</td>\n",
              "      <td>0</td>\n",
              "    </tr>\n",
              "    <tr>\n",
              "      <th>12213</th>\n",
              "      <td>67</td>\n",
              "      <td>41</td>\n",
              "      <td>26</td>\n",
              "      <td>241</td>\n",
              "      <td>0</td>\n",
              "      <td>0</td>\n",
              "      <td>3</td>\n",
              "      <td>0</td>\n",
              "    </tr>\n",
              "    <tr>\n",
              "      <th>281</th>\n",
              "      <td>118</td>\n",
              "      <td>108</td>\n",
              "      <td>0</td>\n",
              "      <td>206</td>\n",
              "      <td>0</td>\n",
              "      <td>0</td>\n",
              "      <td>1</td>\n",
              "      <td>0</td>\n",
              "    </tr>\n",
              "    <tr>\n",
              "      <th>338</th>\n",
              "      <td>123</td>\n",
              "      <td>109</td>\n",
              "      <td>0</td>\n",
              "      <td>176</td>\n",
              "      <td>0</td>\n",
              "      <td>0</td>\n",
              "      <td>2</td>\n",
              "      <td>0</td>\n",
              "    </tr>\n",
              "  </tbody>\n",
              "</table>\n",
              "</div>"
            ],
            "text/plain": [
              "         discovered  passed  started_attempt  ...  wrong  num_days  passed_course\n",
              "user_id                                       ...                                \n",
              "9880            115      67                2  ...      0         2              0\n",
              "25279           124      83                0  ...      0         3              0\n",
              "2514             50      31                0  ...      0         2              0\n",
              "19813            97      67                0  ...      0         2              0\n",
              "11770           138      80                0  ...      0         3              0\n",
              "8363            133      97               35  ...      0         3              0\n",
              "22730           130     108                0  ...      0         1              0\n",
              "12213            67      41               26  ...      0         3              0\n",
              "281             118     108                0  ...      0         1              0\n",
              "338             123     109                0  ...      0         2              0\n",
              "\n",
              "[10 rows x 8 columns]"
            ]
          },
          "metadata": {
            "tags": []
          },
          "execution_count": 94
        }
      ]
    },
    {
      "cell_type": "markdown",
      "metadata": {
        "id": "sai4IcPa-iWv"
      },
      "source": [
        "А в тестовой выборке?"
      ]
    },
    {
      "cell_type": "code",
      "metadata": {
        "id": "ladQdtTu-iWv",
        "colab": {
          "base_uri": "https://localhost:8080/",
          "height": 386
        },
        "outputId": "477dfd4c-9192-4e2c-fd89-6dd205345eb8"
      },
      "source": [
        "test_df.sort_values(by='viewed', ascending=False).head(10)"
      ],
      "execution_count": 95,
      "outputs": [
        {
          "output_type": "execute_result",
          "data": {
            "text/html": [
              "<div>\n",
              "<style scoped>\n",
              "    .dataframe tbody tr th:only-of-type {\n",
              "        vertical-align: middle;\n",
              "    }\n",
              "\n",
              "    .dataframe tbody tr th {\n",
              "        vertical-align: top;\n",
              "    }\n",
              "\n",
              "    .dataframe thead th {\n",
              "        text-align: right;\n",
              "    }\n",
              "</style>\n",
              "<table border=\"1\" class=\"dataframe\">\n",
              "  <thead>\n",
              "    <tr style=\"text-align: right;\">\n",
              "      <th></th>\n",
              "      <th>discovered</th>\n",
              "      <th>passed</th>\n",
              "      <th>started_attempt</th>\n",
              "      <th>viewed</th>\n",
              "      <th>correct</th>\n",
              "      <th>wrong</th>\n",
              "      <th>num_days</th>\n",
              "    </tr>\n",
              "    <tr>\n",
              "      <th>user_id</th>\n",
              "      <th></th>\n",
              "      <th></th>\n",
              "      <th></th>\n",
              "      <th></th>\n",
              "      <th></th>\n",
              "      <th></th>\n",
              "      <th></th>\n",
              "    </tr>\n",
              "  </thead>\n",
              "  <tbody>\n",
              "    <tr>\n",
              "      <th>11619</th>\n",
              "      <td>121</td>\n",
              "      <td>111</td>\n",
              "      <td>64</td>\n",
              "      <td>543</td>\n",
              "      <td>42</td>\n",
              "      <td>62</td>\n",
              "      <td>3</td>\n",
              "    </tr>\n",
              "    <tr>\n",
              "      <th>11037</th>\n",
              "      <td>96</td>\n",
              "      <td>90</td>\n",
              "      <td>76</td>\n",
              "      <td>524</td>\n",
              "      <td>35</td>\n",
              "      <td>50</td>\n",
              "      <td>3</td>\n",
              "    </tr>\n",
              "    <tr>\n",
              "      <th>25415</th>\n",
              "      <td>102</td>\n",
              "      <td>97</td>\n",
              "      <td>45</td>\n",
              "      <td>473</td>\n",
              "      <td>37</td>\n",
              "      <td>106</td>\n",
              "      <td>3</td>\n",
              "    </tr>\n",
              "    <tr>\n",
              "      <th>13385</th>\n",
              "      <td>103</td>\n",
              "      <td>101</td>\n",
              "      <td>64</td>\n",
              "      <td>471</td>\n",
              "      <td>39</td>\n",
              "      <td>56</td>\n",
              "      <td>3</td>\n",
              "    </tr>\n",
              "    <tr>\n",
              "      <th>26775</th>\n",
              "      <td>113</td>\n",
              "      <td>103</td>\n",
              "      <td>84</td>\n",
              "      <td>455</td>\n",
              "      <td>46</td>\n",
              "      <td>160</td>\n",
              "      <td>3</td>\n",
              "    </tr>\n",
              "    <tr>\n",
              "      <th>9788</th>\n",
              "      <td>121</td>\n",
              "      <td>113</td>\n",
              "      <td>74</td>\n",
              "      <td>437</td>\n",
              "      <td>42</td>\n",
              "      <td>128</td>\n",
              "      <td>2</td>\n",
              "    </tr>\n",
              "    <tr>\n",
              "      <th>17982</th>\n",
              "      <td>99</td>\n",
              "      <td>99</td>\n",
              "      <td>49</td>\n",
              "      <td>431</td>\n",
              "      <td>39</td>\n",
              "      <td>35</td>\n",
              "      <td>2</td>\n",
              "    </tr>\n",
              "    <tr>\n",
              "      <th>14978</th>\n",
              "      <td>90</td>\n",
              "      <td>89</td>\n",
              "      <td>58</td>\n",
              "      <td>431</td>\n",
              "      <td>36</td>\n",
              "      <td>166</td>\n",
              "      <td>3</td>\n",
              "    </tr>\n",
              "    <tr>\n",
              "      <th>7792</th>\n",
              "      <td>105</td>\n",
              "      <td>94</td>\n",
              "      <td>56</td>\n",
              "      <td>416</td>\n",
              "      <td>30</td>\n",
              "      <td>42</td>\n",
              "      <td>3</td>\n",
              "    </tr>\n",
              "    <tr>\n",
              "      <th>4593</th>\n",
              "      <td>70</td>\n",
              "      <td>70</td>\n",
              "      <td>95</td>\n",
              "      <td>413</td>\n",
              "      <td>29</td>\n",
              "      <td>113</td>\n",
              "      <td>3</td>\n",
              "    </tr>\n",
              "  </tbody>\n",
              "</table>\n",
              "</div>"
            ],
            "text/plain": [
              "         discovered  passed  started_attempt  viewed  correct  wrong  num_days\n",
              "user_id                                                                       \n",
              "11619           121     111               64     543       42     62         3\n",
              "11037            96      90               76     524       35     50         3\n",
              "25415           102      97               45     473       37    106         3\n",
              "13385           103     101               64     471       39     56         3\n",
              "26775           113     103               84     455       46    160         3\n",
              "9788            121     113               74     437       42    128         2\n",
              "17982            99      99               49     431       39     35         2\n",
              "14978            90      89               58     431       36    166         3\n",
              "7792            105      94               56     416       30     42         3\n",
              "4593             70      70               95     413       29    113         3"
            ]
          },
          "metadata": {
            "tags": []
          },
          "execution_count": 95
        }
      ]
    },
    {
      "cell_type": "code",
      "metadata": {
        "id": "GmgkvVl9-iWw",
        "colab": {
          "base_uri": "https://localhost:8080/",
          "height": 386
        },
        "outputId": "38176821-ad22-48f4-b2b2-e5ad66840e2c"
      },
      "source": [
        "test_df.query('correct + wrong == 0').sort_values(by='viewed', ascending=False).head(10)"
      ],
      "execution_count": 96,
      "outputs": [
        {
          "output_type": "execute_result",
          "data": {
            "text/html": [
              "<div>\n",
              "<style scoped>\n",
              "    .dataframe tbody tr th:only-of-type {\n",
              "        vertical-align: middle;\n",
              "    }\n",
              "\n",
              "    .dataframe tbody tr th {\n",
              "        vertical-align: top;\n",
              "    }\n",
              "\n",
              "    .dataframe thead th {\n",
              "        text-align: right;\n",
              "    }\n",
              "</style>\n",
              "<table border=\"1\" class=\"dataframe\">\n",
              "  <thead>\n",
              "    <tr style=\"text-align: right;\">\n",
              "      <th></th>\n",
              "      <th>discovered</th>\n",
              "      <th>passed</th>\n",
              "      <th>started_attempt</th>\n",
              "      <th>viewed</th>\n",
              "      <th>correct</th>\n",
              "      <th>wrong</th>\n",
              "      <th>num_days</th>\n",
              "    </tr>\n",
              "    <tr>\n",
              "      <th>user_id</th>\n",
              "      <th></th>\n",
              "      <th></th>\n",
              "      <th></th>\n",
              "      <th></th>\n",
              "      <th></th>\n",
              "      <th></th>\n",
              "      <th></th>\n",
              "    </tr>\n",
              "  </thead>\n",
              "  <tbody>\n",
              "    <tr>\n",
              "      <th>12684</th>\n",
              "      <td>103</td>\n",
              "      <td>75</td>\n",
              "      <td>25</td>\n",
              "      <td>336</td>\n",
              "      <td>0</td>\n",
              "      <td>0</td>\n",
              "      <td>2</td>\n",
              "    </tr>\n",
              "    <tr>\n",
              "      <th>13746</th>\n",
              "      <td>51</td>\n",
              "      <td>38</td>\n",
              "      <td>12</td>\n",
              "      <td>145</td>\n",
              "      <td>0</td>\n",
              "      <td>0</td>\n",
              "      <td>2</td>\n",
              "    </tr>\n",
              "    <tr>\n",
              "      <th>19732</th>\n",
              "      <td>67</td>\n",
              "      <td>59</td>\n",
              "      <td>8</td>\n",
              "      <td>121</td>\n",
              "      <td>0</td>\n",
              "      <td>0</td>\n",
              "      <td>1</td>\n",
              "    </tr>\n",
              "    <tr>\n",
              "      <th>15877</th>\n",
              "      <td>97</td>\n",
              "      <td>21</td>\n",
              "      <td>73</td>\n",
              "      <td>121</td>\n",
              "      <td>0</td>\n",
              "      <td>0</td>\n",
              "      <td>1</td>\n",
              "    </tr>\n",
              "    <tr>\n",
              "      <th>1831</th>\n",
              "      <td>83</td>\n",
              "      <td>61</td>\n",
              "      <td>22</td>\n",
              "      <td>120</td>\n",
              "      <td>0</td>\n",
              "      <td>0</td>\n",
              "      <td>2</td>\n",
              "    </tr>\n",
              "    <tr>\n",
              "      <th>11326</th>\n",
              "      <td>101</td>\n",
              "      <td>101</td>\n",
              "      <td>0</td>\n",
              "      <td>106</td>\n",
              "      <td>0</td>\n",
              "      <td>0</td>\n",
              "      <td>1</td>\n",
              "    </tr>\n",
              "    <tr>\n",
              "      <th>10983</th>\n",
              "      <td>46</td>\n",
              "      <td>29</td>\n",
              "      <td>19</td>\n",
              "      <td>84</td>\n",
              "      <td>0</td>\n",
              "      <td>0</td>\n",
              "      <td>1</td>\n",
              "    </tr>\n",
              "    <tr>\n",
              "      <th>25271</th>\n",
              "      <td>41</td>\n",
              "      <td>35</td>\n",
              "      <td>6</td>\n",
              "      <td>80</td>\n",
              "      <td>0</td>\n",
              "      <td>0</td>\n",
              "      <td>1</td>\n",
              "    </tr>\n",
              "    <tr>\n",
              "      <th>1083</th>\n",
              "      <td>34</td>\n",
              "      <td>27</td>\n",
              "      <td>7</td>\n",
              "      <td>75</td>\n",
              "      <td>0</td>\n",
              "      <td>0</td>\n",
              "      <td>3</td>\n",
              "    </tr>\n",
              "    <tr>\n",
              "      <th>11717</th>\n",
              "      <td>36</td>\n",
              "      <td>32</td>\n",
              "      <td>4</td>\n",
              "      <td>69</td>\n",
              "      <td>0</td>\n",
              "      <td>0</td>\n",
              "      <td>3</td>\n",
              "    </tr>\n",
              "  </tbody>\n",
              "</table>\n",
              "</div>"
            ],
            "text/plain": [
              "         discovered  passed  started_attempt  viewed  correct  wrong  num_days\n",
              "user_id                                                                       \n",
              "12684           103      75               25     336        0      0         2\n",
              "13746            51      38               12     145        0      0         2\n",
              "19732            67      59                8     121        0      0         1\n",
              "15877            97      21               73     121        0      0         1\n",
              "1831             83      61               22     120        0      0         2\n",
              "11326           101     101                0     106        0      0         1\n",
              "10983            46      29               19      84        0      0         1\n",
              "25271            41      35                6      80        0      0         1\n",
              "1083             34      27                7      75        0      0         3\n",
              "11717            36      32                4      69        0      0         3"
            ]
          },
          "metadata": {
            "tags": []
          },
          "execution_count": 96
        }
      ]
    },
    {
      "cell_type": "markdown",
      "metadata": {
        "id": "2lfukO8n-iWw"
      },
      "source": [
        "Ну по крайней мере не так ярко выражен аналогичный феномен, только один потенциальный \"выброс\" виден. Сходу не ясно, что делать с такими юзерами. Скажем, что если такое поведение наблюдается только в таблице с данными за первых два дня активности, то такие пользователи только посмотрели теоретический материал и ушли (если показатели ```viewed``` не чересчур велики — опять же, определяем на глаз). А если оно наблюдается и в таблице с полными данными об активности, то это уже не типичные пользователи (хотя опять же, кто-то может использовать курс просто как методичку — у таких, наверно, и ```started_attempt``` должны быть маленькими)."
      ]
    },
    {
      "cell_type": "code",
      "metadata": {
        "id": "tW_BnH1c-iWx",
        "colab": {
          "base_uri": "https://localhost:8080/",
          "height": 386
        },
        "outputId": "618355e0-be54-41ec-980d-5374a1053a98"
      },
      "source": [
        "train_df_all.sort_values(by='started_attempt', ascending=False).head(10)"
      ],
      "execution_count": 97,
      "outputs": [
        {
          "output_type": "execute_result",
          "data": {
            "text/html": [
              "<div>\n",
              "<style scoped>\n",
              "    .dataframe tbody tr th:only-of-type {\n",
              "        vertical-align: middle;\n",
              "    }\n",
              "\n",
              "    .dataframe tbody tr th {\n",
              "        vertical-align: top;\n",
              "    }\n",
              "\n",
              "    .dataframe thead th {\n",
              "        text-align: right;\n",
              "    }\n",
              "</style>\n",
              "<table border=\"1\" class=\"dataframe\">\n",
              "  <thead>\n",
              "    <tr style=\"text-align: right;\">\n",
              "      <th></th>\n",
              "      <th>discovered</th>\n",
              "      <th>passed</th>\n",
              "      <th>started_attempt</th>\n",
              "      <th>viewed</th>\n",
              "      <th>correct</th>\n",
              "      <th>wrong</th>\n",
              "      <th>num_days</th>\n",
              "      <th>passed_course</th>\n",
              "    </tr>\n",
              "    <tr>\n",
              "      <th>user_id</th>\n",
              "      <th></th>\n",
              "      <th></th>\n",
              "      <th></th>\n",
              "      <th></th>\n",
              "      <th></th>\n",
              "      <th></th>\n",
              "      <th></th>\n",
              "      <th></th>\n",
              "    </tr>\n",
              "  </thead>\n",
              "  <tbody>\n",
              "    <tr>\n",
              "      <th>1046</th>\n",
              "      <td>128</td>\n",
              "      <td>124</td>\n",
              "      <td>721</td>\n",
              "      <td>8122</td>\n",
              "      <td>421</td>\n",
              "      <td>513</td>\n",
              "      <td>478</td>\n",
              "      <td>1</td>\n",
              "    </tr>\n",
              "    <tr>\n",
              "      <th>3572</th>\n",
              "      <td>194</td>\n",
              "      <td>193</td>\n",
              "      <td>550</td>\n",
              "      <td>6968</td>\n",
              "      <td>113</td>\n",
              "      <td>398</td>\n",
              "      <td>236</td>\n",
              "      <td>1</td>\n",
              "    </tr>\n",
              "    <tr>\n",
              "      <th>8394</th>\n",
              "      <td>131</td>\n",
              "      <td>94</td>\n",
              "      <td>337</td>\n",
              "      <td>1070</td>\n",
              "      <td>38</td>\n",
              "      <td>410</td>\n",
              "      <td>7</td>\n",
              "      <td>0</td>\n",
              "    </tr>\n",
              "    <tr>\n",
              "      <th>6662</th>\n",
              "      <td>198</td>\n",
              "      <td>197</td>\n",
              "      <td>285</td>\n",
              "      <td>1054</td>\n",
              "      <td>76</td>\n",
              "      <td>220</td>\n",
              "      <td>75</td>\n",
              "      <td>1</td>\n",
              "    </tr>\n",
              "    <tr>\n",
              "      <th>1649</th>\n",
              "      <td>194</td>\n",
              "      <td>194</td>\n",
              "      <td>281</td>\n",
              "      <td>807</td>\n",
              "      <td>77</td>\n",
              "      <td>266</td>\n",
              "      <td>23</td>\n",
              "      <td>1</td>\n",
              "    </tr>\n",
              "    <tr>\n",
              "      <th>7702</th>\n",
              "      <td>187</td>\n",
              "      <td>115</td>\n",
              "      <td>276</td>\n",
              "      <td>1328</td>\n",
              "      <td>0</td>\n",
              "      <td>0</td>\n",
              "      <td>40</td>\n",
              "      <td>0</td>\n",
              "    </tr>\n",
              "    <tr>\n",
              "      <th>5454</th>\n",
              "      <td>195</td>\n",
              "      <td>195</td>\n",
              "      <td>265</td>\n",
              "      <td>1167</td>\n",
              "      <td>87</td>\n",
              "      <td>247</td>\n",
              "      <td>33</td>\n",
              "      <td>1</td>\n",
              "    </tr>\n",
              "    <tr>\n",
              "      <th>5096</th>\n",
              "      <td>184</td>\n",
              "      <td>178</td>\n",
              "      <td>232</td>\n",
              "      <td>1608</td>\n",
              "      <td>69</td>\n",
              "      <td>155</td>\n",
              "      <td>33</td>\n",
              "      <td>1</td>\n",
              "    </tr>\n",
              "    <tr>\n",
              "      <th>21602</th>\n",
              "      <td>191</td>\n",
              "      <td>191</td>\n",
              "      <td>227</td>\n",
              "      <td>408</td>\n",
              "      <td>76</td>\n",
              "      <td>191</td>\n",
              "      <td>14</td>\n",
              "      <td>1</td>\n",
              "    </tr>\n",
              "    <tr>\n",
              "      <th>5552</th>\n",
              "      <td>198</td>\n",
              "      <td>198</td>\n",
              "      <td>224</td>\n",
              "      <td>1141</td>\n",
              "      <td>186</td>\n",
              "      <td>93</td>\n",
              "      <td>56</td>\n",
              "      <td>1</td>\n",
              "    </tr>\n",
              "  </tbody>\n",
              "</table>\n",
              "</div>"
            ],
            "text/plain": [
              "         discovered  passed  started_attempt  ...  wrong  num_days  passed_course\n",
              "user_id                                       ...                                \n",
              "1046            128     124              721  ...    513       478              1\n",
              "3572            194     193              550  ...    398       236              1\n",
              "8394            131      94              337  ...    410         7              0\n",
              "6662            198     197              285  ...    220        75              1\n",
              "1649            194     194              281  ...    266        23              1\n",
              "7702            187     115              276  ...      0        40              0\n",
              "5454            195     195              265  ...    247        33              1\n",
              "5096            184     178              232  ...    155        33              1\n",
              "21602           191     191              227  ...    191        14              1\n",
              "5552            198     198              224  ...     93        56              1\n",
              "\n",
              "[10 rows x 8 columns]"
            ]
          },
          "metadata": {
            "tags": []
          },
          "execution_count": 97
        }
      ]
    },
    {
      "cell_type": "code",
      "metadata": {
        "id": "DiM7LfUm-iWx",
        "colab": {
          "base_uri": "https://localhost:8080/",
          "height": 386
        },
        "outputId": "9566ab8a-6d19-4f3b-9772-035a86750883"
      },
      "source": [
        "train_df.sort_values(by='started_attempt', ascending=False).head(10)"
      ],
      "execution_count": 98,
      "outputs": [
        {
          "output_type": "execute_result",
          "data": {
            "text/html": [
              "<div>\n",
              "<style scoped>\n",
              "    .dataframe tbody tr th:only-of-type {\n",
              "        vertical-align: middle;\n",
              "    }\n",
              "\n",
              "    .dataframe tbody tr th {\n",
              "        vertical-align: top;\n",
              "    }\n",
              "\n",
              "    .dataframe thead th {\n",
              "        text-align: right;\n",
              "    }\n",
              "</style>\n",
              "<table border=\"1\" class=\"dataframe\">\n",
              "  <thead>\n",
              "    <tr style=\"text-align: right;\">\n",
              "      <th></th>\n",
              "      <th>discovered</th>\n",
              "      <th>passed</th>\n",
              "      <th>started_attempt</th>\n",
              "      <th>viewed</th>\n",
              "      <th>correct</th>\n",
              "      <th>wrong</th>\n",
              "      <th>num_days</th>\n",
              "      <th>passed_course</th>\n",
              "    </tr>\n",
              "    <tr>\n",
              "      <th>user_id</th>\n",
              "      <th></th>\n",
              "      <th></th>\n",
              "      <th></th>\n",
              "      <th></th>\n",
              "      <th></th>\n",
              "      <th></th>\n",
              "      <th></th>\n",
              "      <th></th>\n",
              "    </tr>\n",
              "  </thead>\n",
              "  <tbody>\n",
              "    <tr>\n",
              "      <th>1361</th>\n",
              "      <td>173</td>\n",
              "      <td>161</td>\n",
              "      <td>135</td>\n",
              "      <td>285</td>\n",
              "      <td>60</td>\n",
              "      <td>118</td>\n",
              "      <td>1</td>\n",
              "      <td>1</td>\n",
              "    </tr>\n",
              "    <tr>\n",
              "      <th>9104</th>\n",
              "      <td>198</td>\n",
              "      <td>195</td>\n",
              "      <td>130</td>\n",
              "      <td>361</td>\n",
              "      <td>73</td>\n",
              "      <td>93</td>\n",
              "      <td>2</td>\n",
              "      <td>1</td>\n",
              "    </tr>\n",
              "    <tr>\n",
              "      <th>13678</th>\n",
              "      <td>136</td>\n",
              "      <td>114</td>\n",
              "      <td>116</td>\n",
              "      <td>397</td>\n",
              "      <td>36</td>\n",
              "      <td>183</td>\n",
              "      <td>2</td>\n",
              "      <td>0</td>\n",
              "    </tr>\n",
              "    <tr>\n",
              "      <th>15597</th>\n",
              "      <td>123</td>\n",
              "      <td>116</td>\n",
              "      <td>113</td>\n",
              "      <td>283</td>\n",
              "      <td>40</td>\n",
              "      <td>90</td>\n",
              "      <td>2</td>\n",
              "      <td>1</td>\n",
              "    </tr>\n",
              "    <tr>\n",
              "      <th>11453</th>\n",
              "      <td>64</td>\n",
              "      <td>64</td>\n",
              "      <td>102</td>\n",
              "      <td>82</td>\n",
              "      <td>28</td>\n",
              "      <td>101</td>\n",
              "      <td>2</td>\n",
              "      <td>1</td>\n",
              "    </tr>\n",
              "    <tr>\n",
              "      <th>22684</th>\n",
              "      <td>164</td>\n",
              "      <td>163</td>\n",
              "      <td>100</td>\n",
              "      <td>217</td>\n",
              "      <td>66</td>\n",
              "      <td>42</td>\n",
              "      <td>1</td>\n",
              "      <td>1</td>\n",
              "    </tr>\n",
              "    <tr>\n",
              "      <th>22713</th>\n",
              "      <td>118</td>\n",
              "      <td>118</td>\n",
              "      <td>100</td>\n",
              "      <td>138</td>\n",
              "      <td>69</td>\n",
              "      <td>67</td>\n",
              "      <td>2</td>\n",
              "      <td>1</td>\n",
              "    </tr>\n",
              "    <tr>\n",
              "      <th>11061</th>\n",
              "      <td>197</td>\n",
              "      <td>195</td>\n",
              "      <td>97</td>\n",
              "      <td>212</td>\n",
              "      <td>74</td>\n",
              "      <td>5</td>\n",
              "      <td>2</td>\n",
              "      <td>1</td>\n",
              "    </tr>\n",
              "    <tr>\n",
              "      <th>11239</th>\n",
              "      <td>127</td>\n",
              "      <td>127</td>\n",
              "      <td>97</td>\n",
              "      <td>210</td>\n",
              "      <td>51</td>\n",
              "      <td>97</td>\n",
              "      <td>2</td>\n",
              "      <td>1</td>\n",
              "    </tr>\n",
              "    <tr>\n",
              "      <th>1130</th>\n",
              "      <td>198</td>\n",
              "      <td>132</td>\n",
              "      <td>89</td>\n",
              "      <td>239</td>\n",
              "      <td>10</td>\n",
              "      <td>15</td>\n",
              "      <td>2</td>\n",
              "      <td>0</td>\n",
              "    </tr>\n",
              "  </tbody>\n",
              "</table>\n",
              "</div>"
            ],
            "text/plain": [
              "         discovered  passed  started_attempt  ...  wrong  num_days  passed_course\n",
              "user_id                                       ...                                \n",
              "1361            173     161              135  ...    118         1              1\n",
              "9104            198     195              130  ...     93         2              1\n",
              "13678           136     114              116  ...    183         2              0\n",
              "15597           123     116              113  ...     90         2              1\n",
              "11453            64      64              102  ...    101         2              1\n",
              "22684           164     163              100  ...     42         1              1\n",
              "22713           118     118              100  ...     67         2              1\n",
              "11061           197     195               97  ...      5         2              1\n",
              "11239           127     127               97  ...     97         2              1\n",
              "1130            198     132               89  ...     15         2              0\n",
              "\n",
              "[10 rows x 8 columns]"
            ]
          },
          "metadata": {
            "tags": []
          },
          "execution_count": 98
        }
      ]
    },
    {
      "cell_type": "code",
      "metadata": {
        "id": "uGeouHkW-iWx",
        "colab": {
          "base_uri": "https://localhost:8080/",
          "height": 386
        },
        "outputId": "fa36dab2-9725-4559-cfbc-75662035efb1"
      },
      "source": [
        "test_df.sort_values(by='started_attempt', ascending=False).head(10)"
      ],
      "execution_count": 99,
      "outputs": [
        {
          "output_type": "execute_result",
          "data": {
            "text/html": [
              "<div>\n",
              "<style scoped>\n",
              "    .dataframe tbody tr th:only-of-type {\n",
              "        vertical-align: middle;\n",
              "    }\n",
              "\n",
              "    .dataframe tbody tr th {\n",
              "        vertical-align: top;\n",
              "    }\n",
              "\n",
              "    .dataframe thead th {\n",
              "        text-align: right;\n",
              "    }\n",
              "</style>\n",
              "<table border=\"1\" class=\"dataframe\">\n",
              "  <thead>\n",
              "    <tr style=\"text-align: right;\">\n",
              "      <th></th>\n",
              "      <th>discovered</th>\n",
              "      <th>passed</th>\n",
              "      <th>started_attempt</th>\n",
              "      <th>viewed</th>\n",
              "      <th>correct</th>\n",
              "      <th>wrong</th>\n",
              "      <th>num_days</th>\n",
              "    </tr>\n",
              "    <tr>\n",
              "      <th>user_id</th>\n",
              "      <th></th>\n",
              "      <th></th>\n",
              "      <th></th>\n",
              "      <th></th>\n",
              "      <th></th>\n",
              "      <th></th>\n",
              "      <th></th>\n",
              "    </tr>\n",
              "  </thead>\n",
              "  <tbody>\n",
              "    <tr>\n",
              "      <th>8187</th>\n",
              "      <td>53</td>\n",
              "      <td>45</td>\n",
              "      <td>113</td>\n",
              "      <td>215</td>\n",
              "      <td>11</td>\n",
              "      <td>146</td>\n",
              "      <td>2</td>\n",
              "    </tr>\n",
              "    <tr>\n",
              "      <th>11569</th>\n",
              "      <td>114</td>\n",
              "      <td>102</td>\n",
              "      <td>100</td>\n",
              "      <td>405</td>\n",
              "      <td>39</td>\n",
              "      <td>131</td>\n",
              "      <td>3</td>\n",
              "    </tr>\n",
              "    <tr>\n",
              "      <th>4593</th>\n",
              "      <td>70</td>\n",
              "      <td>70</td>\n",
              "      <td>95</td>\n",
              "      <td>413</td>\n",
              "      <td>29</td>\n",
              "      <td>113</td>\n",
              "      <td>3</td>\n",
              "    </tr>\n",
              "    <tr>\n",
              "      <th>15165</th>\n",
              "      <td>117</td>\n",
              "      <td>101</td>\n",
              "      <td>93</td>\n",
              "      <td>198</td>\n",
              "      <td>32</td>\n",
              "      <td>126</td>\n",
              "      <td>2</td>\n",
              "    </tr>\n",
              "    <tr>\n",
              "      <th>5320</th>\n",
              "      <td>51</td>\n",
              "      <td>27</td>\n",
              "      <td>90</td>\n",
              "      <td>69</td>\n",
              "      <td>6</td>\n",
              "      <td>92</td>\n",
              "      <td>2</td>\n",
              "    </tr>\n",
              "    <tr>\n",
              "      <th>26775</th>\n",
              "      <td>113</td>\n",
              "      <td>103</td>\n",
              "      <td>84</td>\n",
              "      <td>455</td>\n",
              "      <td>46</td>\n",
              "      <td>160</td>\n",
              "      <td>3</td>\n",
              "    </tr>\n",
              "    <tr>\n",
              "      <th>11037</th>\n",
              "      <td>96</td>\n",
              "      <td>90</td>\n",
              "      <td>76</td>\n",
              "      <td>524</td>\n",
              "      <td>35</td>\n",
              "      <td>50</td>\n",
              "      <td>3</td>\n",
              "    </tr>\n",
              "    <tr>\n",
              "      <th>5173</th>\n",
              "      <td>101</td>\n",
              "      <td>99</td>\n",
              "      <td>74</td>\n",
              "      <td>184</td>\n",
              "      <td>37</td>\n",
              "      <td>109</td>\n",
              "      <td>3</td>\n",
              "    </tr>\n",
              "    <tr>\n",
              "      <th>9788</th>\n",
              "      <td>121</td>\n",
              "      <td>113</td>\n",
              "      <td>74</td>\n",
              "      <td>437</td>\n",
              "      <td>42</td>\n",
              "      <td>128</td>\n",
              "      <td>2</td>\n",
              "    </tr>\n",
              "    <tr>\n",
              "      <th>15877</th>\n",
              "      <td>97</td>\n",
              "      <td>21</td>\n",
              "      <td>73</td>\n",
              "      <td>121</td>\n",
              "      <td>0</td>\n",
              "      <td>0</td>\n",
              "      <td>1</td>\n",
              "    </tr>\n",
              "  </tbody>\n",
              "</table>\n",
              "</div>"
            ],
            "text/plain": [
              "         discovered  passed  started_attempt  viewed  correct  wrong  num_days\n",
              "user_id                                                                       \n",
              "8187             53      45              113     215       11    146         2\n",
              "11569           114     102              100     405       39    131         3\n",
              "4593             70      70               95     413       29    113         3\n",
              "15165           117     101               93     198       32    126         2\n",
              "5320             51      27               90      69        6     92         2\n",
              "26775           113     103               84     455       46    160         3\n",
              "11037            96      90               76     524       35     50         3\n",
              "5173            101      99               74     184       37    109         3\n",
              "9788            121     113               74     437       42    128         2\n",
              "15877            97      21               73     121        0      0         1"
            ]
          },
          "metadata": {
            "tags": []
          },
          "execution_count": 99
        }
      ]
    },
    {
      "cell_type": "markdown",
      "metadata": {
        "id": "RoZi_BJF-iWy"
      },
      "source": [
        "А по дням на курсе?"
      ]
    },
    {
      "cell_type": "code",
      "metadata": {
        "id": "B6SRCPB6-iWy",
        "colab": {
          "base_uri": "https://localhost:8080/",
          "height": 693
        },
        "outputId": "c34bc2b1-3115-4e6e-ec39-c3416ba2aa8c"
      },
      "source": [
        "train_df_all.sort_values(by='num_days', ascending=False).head(20)"
      ],
      "execution_count": 100,
      "outputs": [
        {
          "output_type": "execute_result",
          "data": {
            "text/html": [
              "<div>\n",
              "<style scoped>\n",
              "    .dataframe tbody tr th:only-of-type {\n",
              "        vertical-align: middle;\n",
              "    }\n",
              "\n",
              "    .dataframe tbody tr th {\n",
              "        vertical-align: top;\n",
              "    }\n",
              "\n",
              "    .dataframe thead th {\n",
              "        text-align: right;\n",
              "    }\n",
              "</style>\n",
              "<table border=\"1\" class=\"dataframe\">\n",
              "  <thead>\n",
              "    <tr style=\"text-align: right;\">\n",
              "      <th></th>\n",
              "      <th>discovered</th>\n",
              "      <th>passed</th>\n",
              "      <th>started_attempt</th>\n",
              "      <th>viewed</th>\n",
              "      <th>correct</th>\n",
              "      <th>wrong</th>\n",
              "      <th>num_days</th>\n",
              "      <th>passed_course</th>\n",
              "    </tr>\n",
              "    <tr>\n",
              "      <th>user_id</th>\n",
              "      <th></th>\n",
              "      <th></th>\n",
              "      <th></th>\n",
              "      <th></th>\n",
              "      <th></th>\n",
              "      <th></th>\n",
              "      <th></th>\n",
              "      <th></th>\n",
              "    </tr>\n",
              "  </thead>\n",
              "  <tbody>\n",
              "    <tr>\n",
              "      <th>1046</th>\n",
              "      <td>128</td>\n",
              "      <td>124</td>\n",
              "      <td>721</td>\n",
              "      <td>8122</td>\n",
              "      <td>421</td>\n",
              "      <td>513</td>\n",
              "      <td>478</td>\n",
              "      <td>1</td>\n",
              "    </tr>\n",
              "    <tr>\n",
              "      <th>13268</th>\n",
              "      <td>15</td>\n",
              "      <td>15</td>\n",
              "      <td>5</td>\n",
              "      <td>607</td>\n",
              "      <td>5</td>\n",
              "      <td>0</td>\n",
              "      <td>385</td>\n",
              "      <td>0</td>\n",
              "    </tr>\n",
              "    <tr>\n",
              "      <th>4374</th>\n",
              "      <td>181</td>\n",
              "      <td>175</td>\n",
              "      <td>78</td>\n",
              "      <td>916</td>\n",
              "      <td>66</td>\n",
              "      <td>197</td>\n",
              "      <td>327</td>\n",
              "      <td>1</td>\n",
              "    </tr>\n",
              "    <tr>\n",
              "      <th>10794</th>\n",
              "      <td>198</td>\n",
              "      <td>122</td>\n",
              "      <td>27</td>\n",
              "      <td>16089</td>\n",
              "      <td>0</td>\n",
              "      <td>0</td>\n",
              "      <td>281</td>\n",
              "      <td>0</td>\n",
              "    </tr>\n",
              "    <tr>\n",
              "      <th>3572</th>\n",
              "      <td>194</td>\n",
              "      <td>193</td>\n",
              "      <td>550</td>\n",
              "      <td>6968</td>\n",
              "      <td>113</td>\n",
              "      <td>398</td>\n",
              "      <td>236</td>\n",
              "      <td>1</td>\n",
              "    </tr>\n",
              "    <tr>\n",
              "      <th>20907</th>\n",
              "      <td>163</td>\n",
              "      <td>102</td>\n",
              "      <td>0</td>\n",
              "      <td>32778</td>\n",
              "      <td>0</td>\n",
              "      <td>0</td>\n",
              "      <td>221</td>\n",
              "      <td>0</td>\n",
              "    </tr>\n",
              "    <tr>\n",
              "      <th>2054</th>\n",
              "      <td>198</td>\n",
              "      <td>198</td>\n",
              "      <td>151</td>\n",
              "      <td>1757</td>\n",
              "      <td>76</td>\n",
              "      <td>163</td>\n",
              "      <td>184</td>\n",
              "      <td>1</td>\n",
              "    </tr>\n",
              "    <tr>\n",
              "      <th>23342</th>\n",
              "      <td>194</td>\n",
              "      <td>186</td>\n",
              "      <td>104</td>\n",
              "      <td>1259</td>\n",
              "      <td>68</td>\n",
              "      <td>166</td>\n",
              "      <td>179</td>\n",
              "      <td>1</td>\n",
              "    </tr>\n",
              "    <tr>\n",
              "      <th>39</th>\n",
              "      <td>198</td>\n",
              "      <td>198</td>\n",
              "      <td>88</td>\n",
              "      <td>1160</td>\n",
              "      <td>77</td>\n",
              "      <td>29</td>\n",
              "      <td>170</td>\n",
              "      <td>1</td>\n",
              "    </tr>\n",
              "    <tr>\n",
              "      <th>1078</th>\n",
              "      <td>159</td>\n",
              "      <td>174</td>\n",
              "      <td>112</td>\n",
              "      <td>2467</td>\n",
              "      <td>87</td>\n",
              "      <td>61</td>\n",
              "      <td>164</td>\n",
              "      <td>1</td>\n",
              "    </tr>\n",
              "    <tr>\n",
              "      <th>10616</th>\n",
              "      <td>89</td>\n",
              "      <td>89</td>\n",
              "      <td>41</td>\n",
              "      <td>504</td>\n",
              "      <td>37</td>\n",
              "      <td>28</td>\n",
              "      <td>158</td>\n",
              "      <td>0</td>\n",
              "    </tr>\n",
              "    <tr>\n",
              "      <th>2534</th>\n",
              "      <td>37</td>\n",
              "      <td>32</td>\n",
              "      <td>20</td>\n",
              "      <td>711</td>\n",
              "      <td>9</td>\n",
              "      <td>116</td>\n",
              "      <td>141</td>\n",
              "      <td>0</td>\n",
              "    </tr>\n",
              "    <tr>\n",
              "      <th>26291</th>\n",
              "      <td>25</td>\n",
              "      <td>24</td>\n",
              "      <td>8</td>\n",
              "      <td>202</td>\n",
              "      <td>7</td>\n",
              "      <td>1</td>\n",
              "      <td>129</td>\n",
              "      <td>0</td>\n",
              "    </tr>\n",
              "    <tr>\n",
              "      <th>9107</th>\n",
              "      <td>198</td>\n",
              "      <td>198</td>\n",
              "      <td>97</td>\n",
              "      <td>1204</td>\n",
              "      <td>78</td>\n",
              "      <td>103</td>\n",
              "      <td>127</td>\n",
              "      <td>1</td>\n",
              "    </tr>\n",
              "    <tr>\n",
              "      <th>6976</th>\n",
              "      <td>43</td>\n",
              "      <td>39</td>\n",
              "      <td>23</td>\n",
              "      <td>347</td>\n",
              "      <td>14</td>\n",
              "      <td>20</td>\n",
              "      <td>127</td>\n",
              "      <td>0</td>\n",
              "    </tr>\n",
              "    <tr>\n",
              "      <th>17301</th>\n",
              "      <td>189</td>\n",
              "      <td>187</td>\n",
              "      <td>111</td>\n",
              "      <td>756</td>\n",
              "      <td>74</td>\n",
              "      <td>170</td>\n",
              "      <td>126</td>\n",
              "      <td>1</td>\n",
              "    </tr>\n",
              "    <tr>\n",
              "      <th>23762</th>\n",
              "      <td>198</td>\n",
              "      <td>198</td>\n",
              "      <td>99</td>\n",
              "      <td>1467</td>\n",
              "      <td>82</td>\n",
              "      <td>63</td>\n",
              "      <td>123</td>\n",
              "      <td>1</td>\n",
              "    </tr>\n",
              "    <tr>\n",
              "      <th>11026</th>\n",
              "      <td>198</td>\n",
              "      <td>190</td>\n",
              "      <td>139</td>\n",
              "      <td>1383</td>\n",
              "      <td>73</td>\n",
              "      <td>91</td>\n",
              "      <td>120</td>\n",
              "      <td>1</td>\n",
              "    </tr>\n",
              "    <tr>\n",
              "      <th>12635</th>\n",
              "      <td>112</td>\n",
              "      <td>90</td>\n",
              "      <td>44</td>\n",
              "      <td>708</td>\n",
              "      <td>19</td>\n",
              "      <td>14</td>\n",
              "      <td>118</td>\n",
              "      <td>0</td>\n",
              "    </tr>\n",
              "    <tr>\n",
              "      <th>11651</th>\n",
              "      <td>198</td>\n",
              "      <td>196</td>\n",
              "      <td>147</td>\n",
              "      <td>1720</td>\n",
              "      <td>75</td>\n",
              "      <td>73</td>\n",
              "      <td>117</td>\n",
              "      <td>1</td>\n",
              "    </tr>\n",
              "  </tbody>\n",
              "</table>\n",
              "</div>"
            ],
            "text/plain": [
              "         discovered  passed  started_attempt  ...  wrong  num_days  passed_course\n",
              "user_id                                       ...                                \n",
              "1046            128     124              721  ...    513       478              1\n",
              "13268            15      15                5  ...      0       385              0\n",
              "4374            181     175               78  ...    197       327              1\n",
              "10794           198     122               27  ...      0       281              0\n",
              "3572            194     193              550  ...    398       236              1\n",
              "20907           163     102                0  ...      0       221              0\n",
              "2054            198     198              151  ...    163       184              1\n",
              "23342           194     186              104  ...    166       179              1\n",
              "39              198     198               88  ...     29       170              1\n",
              "1078            159     174              112  ...     61       164              1\n",
              "10616            89      89               41  ...     28       158              0\n",
              "2534             37      32               20  ...    116       141              0\n",
              "26291            25      24                8  ...      1       129              0\n",
              "9107            198     198               97  ...    103       127              1\n",
              "6976             43      39               23  ...     20       127              0\n",
              "17301           189     187              111  ...    170       126              1\n",
              "23762           198     198               99  ...     63       123              1\n",
              "11026           198     190              139  ...     91       120              1\n",
              "12635           112      90               44  ...     14       118              0\n",
              "11651           198     196              147  ...     73       117              1\n",
              "\n",
              "[20 rows x 8 columns]"
            ]
          },
          "metadata": {
            "tags": []
          },
          "execution_count": 100
        }
      ]
    },
    {
      "cell_type": "markdown",
      "metadata": {
        "id": "Bn6G1DOt-iWy"
      },
      "source": [
        "И по общей сумме действий:"
      ]
    },
    {
      "cell_type": "code",
      "metadata": {
        "id": "lyb_9yAa-iWy",
        "colab": {
          "base_uri": "https://localhost:8080/",
          "height": 693
        },
        "outputId": "3b1a4eba-c12d-4684-ab8d-17a1a2b63412"
      },
      "source": [
        "num_users_actions = all_actions.groupby('user_id').action.count().sort_values(ascending=False).to_frame().\\\n",
        "    rename(columns={'action':'num_actions'})\n",
        "num_users_actions.head(20)"
      ],
      "execution_count": 101,
      "outputs": [
        {
          "output_type": "execute_result",
          "data": {
            "text/html": [
              "<div>\n",
              "<style scoped>\n",
              "    .dataframe tbody tr th:only-of-type {\n",
              "        vertical-align: middle;\n",
              "    }\n",
              "\n",
              "    .dataframe tbody tr th {\n",
              "        vertical-align: top;\n",
              "    }\n",
              "\n",
              "    .dataframe thead th {\n",
              "        text-align: right;\n",
              "    }\n",
              "</style>\n",
              "<table border=\"1\" class=\"dataframe\">\n",
              "  <thead>\n",
              "    <tr style=\"text-align: right;\">\n",
              "      <th></th>\n",
              "      <th>num_actions</th>\n",
              "    </tr>\n",
              "    <tr>\n",
              "      <th>user_id</th>\n",
              "      <th></th>\n",
              "    </tr>\n",
              "  </thead>\n",
              "  <tbody>\n",
              "    <tr>\n",
              "      <th>20907</th>\n",
              "      <td>33043</td>\n",
              "    </tr>\n",
              "    <tr>\n",
              "      <th>10794</th>\n",
              "      <td>16436</td>\n",
              "    </tr>\n",
              "    <tr>\n",
              "      <th>25279</th>\n",
              "      <td>10179</td>\n",
              "    </tr>\n",
              "    <tr>\n",
              "      <th>1046</th>\n",
              "      <td>10029</td>\n",
              "    </tr>\n",
              "    <tr>\n",
              "      <th>3572</th>\n",
              "      <td>8416</td>\n",
              "    </tr>\n",
              "    <tr>\n",
              "      <th>11770</th>\n",
              "      <td>6641</td>\n",
              "    </tr>\n",
              "    <tr>\n",
              "      <th>9546</th>\n",
              "      <td>6387</td>\n",
              "    </tr>\n",
              "    <tr>\n",
              "      <th>761</th>\n",
              "      <td>4592</td>\n",
              "    </tr>\n",
              "    <tr>\n",
              "      <th>8363</th>\n",
              "      <td>3918</td>\n",
              "    </tr>\n",
              "    <tr>\n",
              "      <th>13602</th>\n",
              "      <td>3708</td>\n",
              "    </tr>\n",
              "    <tr>\n",
              "      <th>635</th>\n",
              "      <td>3360</td>\n",
              "    </tr>\n",
              "    <tr>\n",
              "      <th>6764</th>\n",
              "      <td>3271</td>\n",
              "    </tr>\n",
              "    <tr>\n",
              "      <th>5301</th>\n",
              "      <td>3246</td>\n",
              "    </tr>\n",
              "    <tr>\n",
              "      <th>24995</th>\n",
              "      <td>3205</td>\n",
              "    </tr>\n",
              "    <tr>\n",
              "      <th>1078</th>\n",
              "      <td>3060</td>\n",
              "    </tr>\n",
              "    <tr>\n",
              "      <th>16948</th>\n",
              "      <td>3059</td>\n",
              "    </tr>\n",
              "    <tr>\n",
              "      <th>19472</th>\n",
              "      <td>3051</td>\n",
              "    </tr>\n",
              "    <tr>\n",
              "      <th>12737</th>\n",
              "      <td>3029</td>\n",
              "    </tr>\n",
              "    <tr>\n",
              "      <th>14567</th>\n",
              "      <td>3016</td>\n",
              "    </tr>\n",
              "    <tr>\n",
              "      <th>15735</th>\n",
              "      <td>2991</td>\n",
              "    </tr>\n",
              "  </tbody>\n",
              "</table>\n",
              "</div>"
            ],
            "text/plain": [
              "         num_actions\n",
              "user_id             \n",
              "20907          33043\n",
              "10794          16436\n",
              "25279          10179\n",
              "1046           10029\n",
              "3572            8416\n",
              "11770           6641\n",
              "9546            6387\n",
              "761             4592\n",
              "8363            3918\n",
              "13602           3708\n",
              "635             3360\n",
              "6764            3271\n",
              "5301            3246\n",
              "24995           3205\n",
              "1078            3060\n",
              "16948           3059\n",
              "19472           3051\n",
              "12737           3029\n",
              "14567           3016\n",
              "15735           2991"
            ]
          },
          "metadata": {
            "tags": []
          },
          "execution_count": 101
        }
      ]
    },
    {
      "cell_type": "code",
      "metadata": {
        "id": "_mEA2MWK-iWz",
        "colab": {
          "base_uri": "https://localhost:8080/"
        },
        "outputId": "97ca5b2f-832e-45d4-8e76-0a7ccee089ef"
      },
      "source": [
        "num_users_actions.quantile(0.99)"
      ],
      "execution_count": 102,
      "outputs": [
        {
          "output_type": "execute_result",
          "data": {
            "text/plain": [
              "num_actions    1612.34\n",
              "Name: 0.99, dtype: float64"
            ]
          },
          "metadata": {
            "tags": []
          },
          "execution_count": 102
        }
      ]
    },
    {
      "cell_type": "markdown",
      "metadata": {
        "id": "iI2MpoyX-iWz"
      },
      "source": [
        "В данных за два дня таких резких скачков не видно, в принципе."
      ]
    },
    {
      "cell_type": "code",
      "metadata": {
        "id": "gvDFdH04-iWz",
        "colab": {
          "base_uri": "https://localhost:8080/",
          "height": 386
        },
        "outputId": "0793a7fa-f2a4-470a-ed11-342b03f46063"
      },
      "source": [
        "num_users_actions_2d = all_actions_2d.groupby('user_id').action.count().sort_values(ascending=False).to_frame().\\\n",
        "    rename(columns={'action':'num_actions'})\n",
        "num_users_actions_2d.head(10)"
      ],
      "execution_count": 103,
      "outputs": [
        {
          "output_type": "execute_result",
          "data": {
            "text/html": [
              "<div>\n",
              "<style scoped>\n",
              "    .dataframe tbody tr th:only-of-type {\n",
              "        vertical-align: middle;\n",
              "    }\n",
              "\n",
              "    .dataframe tbody tr th {\n",
              "        vertical-align: top;\n",
              "    }\n",
              "\n",
              "    .dataframe thead th {\n",
              "        text-align: right;\n",
              "    }\n",
              "</style>\n",
              "<table border=\"1\" class=\"dataframe\">\n",
              "  <thead>\n",
              "    <tr style=\"text-align: right;\">\n",
              "      <th></th>\n",
              "      <th>num_actions</th>\n",
              "    </tr>\n",
              "    <tr>\n",
              "      <th>user_id</th>\n",
              "      <th></th>\n",
              "    </tr>\n",
              "  </thead>\n",
              "  <tbody>\n",
              "    <tr>\n",
              "      <th>9104</th>\n",
              "      <td>1050</td>\n",
              "    </tr>\n",
              "    <tr>\n",
              "      <th>13678</th>\n",
              "      <td>982</td>\n",
              "    </tr>\n",
              "    <tr>\n",
              "      <th>1361</th>\n",
              "      <td>932</td>\n",
              "    </tr>\n",
              "    <tr>\n",
              "      <th>19805</th>\n",
              "      <td>792</td>\n",
              "    </tr>\n",
              "    <tr>\n",
              "      <th>4106</th>\n",
              "      <td>786</td>\n",
              "    </tr>\n",
              "    <tr>\n",
              "      <th>11061</th>\n",
              "      <td>780</td>\n",
              "    </tr>\n",
              "    <tr>\n",
              "      <th>18065</th>\n",
              "      <td>771</td>\n",
              "    </tr>\n",
              "    <tr>\n",
              "      <th>15597</th>\n",
              "      <td>765</td>\n",
              "    </tr>\n",
              "    <tr>\n",
              "      <th>22684</th>\n",
              "      <td>752</td>\n",
              "    </tr>\n",
              "    <tr>\n",
              "      <th>21321</th>\n",
              "      <td>743</td>\n",
              "    </tr>\n",
              "  </tbody>\n",
              "</table>\n",
              "</div>"
            ],
            "text/plain": [
              "         num_actions\n",
              "user_id             \n",
              "9104            1050\n",
              "13678            982\n",
              "1361             932\n",
              "19805            792\n",
              "4106             786\n",
              "11061            780\n",
              "18065            771\n",
              "15597            765\n",
              "22684            752\n",
              "21321            743"
            ]
          },
          "metadata": {
            "tags": []
          },
          "execution_count": 103
        }
      ]
    },
    {
      "cell_type": "code",
      "metadata": {
        "id": "Mtaa7Owf-iW0",
        "colab": {
          "base_uri": "https://localhost:8080/"
        },
        "outputId": "0bc16a98-482c-4b88-9e23-226f8c4c42c4"
      },
      "source": [
        "num_users_actions_2d.quantile(0.99)"
      ],
      "execution_count": 104,
      "outputs": [
        {
          "output_type": "execute_result",
          "data": {
            "text/plain": [
              "num_actions    387.67\n",
              "Name: 0.99, dtype: float64"
            ]
          },
          "metadata": {
            "tags": []
          },
          "execution_count": 104
        }
      ]
    },
    {
      "cell_type": "code",
      "metadata": {
        "id": "Top7f68P-iW0",
        "colab": {
          "base_uri": "https://localhost:8080/",
          "height": 386
        },
        "outputId": "73e246c3-cfdc-421c-b074-c90540e61a6a"
      },
      "source": [
        "num_users_actions_test = all_actions_test.groupby('user_id').action.count().sort_values(ascending=False).to_frame().\\\n",
        "    rename(columns={'action':'num_actions'})\n",
        "num_users_actions_test.head(10)"
      ],
      "execution_count": 105,
      "outputs": [
        {
          "output_type": "execute_result",
          "data": {
            "text/html": [
              "<div>\n",
              "<style scoped>\n",
              "    .dataframe tbody tr th:only-of-type {\n",
              "        vertical-align: middle;\n",
              "    }\n",
              "\n",
              "    .dataframe tbody tr th {\n",
              "        vertical-align: top;\n",
              "    }\n",
              "\n",
              "    .dataframe thead th {\n",
              "        text-align: right;\n",
              "    }\n",
              "</style>\n",
              "<table border=\"1\" class=\"dataframe\">\n",
              "  <thead>\n",
              "    <tr style=\"text-align: right;\">\n",
              "      <th></th>\n",
              "      <th>num_actions</th>\n",
              "    </tr>\n",
              "    <tr>\n",
              "      <th>user_id</th>\n",
              "      <th></th>\n",
              "    </tr>\n",
              "  </thead>\n",
              "  <tbody>\n",
              "    <tr>\n",
              "      <th>26775</th>\n",
              "      <td>961</td>\n",
              "    </tr>\n",
              "    <tr>\n",
              "      <th>11619</th>\n",
              "      <td>943</td>\n",
              "    </tr>\n",
              "    <tr>\n",
              "      <th>9788</th>\n",
              "      <td>915</td>\n",
              "    </tr>\n",
              "    <tr>\n",
              "      <th>11569</th>\n",
              "      <td>891</td>\n",
              "    </tr>\n",
              "    <tr>\n",
              "      <th>11037</th>\n",
              "      <td>871</td>\n",
              "    </tr>\n",
              "    <tr>\n",
              "      <th>14978</th>\n",
              "      <td>870</td>\n",
              "    </tr>\n",
              "    <tr>\n",
              "      <th>25415</th>\n",
              "      <td>860</td>\n",
              "    </tr>\n",
              "    <tr>\n",
              "      <th>13385</th>\n",
              "      <td>834</td>\n",
              "    </tr>\n",
              "    <tr>\n",
              "      <th>1359</th>\n",
              "      <td>834</td>\n",
              "    </tr>\n",
              "    <tr>\n",
              "      <th>13550</th>\n",
              "      <td>819</td>\n",
              "    </tr>\n",
              "  </tbody>\n",
              "</table>\n",
              "</div>"
            ],
            "text/plain": [
              "         num_actions\n",
              "user_id             \n",
              "26775            961\n",
              "11619            943\n",
              "9788             915\n",
              "11569            891\n",
              "11037            871\n",
              "14978            870\n",
              "25415            860\n",
              "13385            834\n",
              "1359             834\n",
              "13550            819"
            ]
          },
          "metadata": {
            "tags": []
          },
          "execution_count": 105
        }
      ]
    },
    {
      "cell_type": "code",
      "metadata": {
        "id": "P0-E4roy-iW1",
        "colab": {
          "base_uri": "https://localhost:8080/"
        },
        "outputId": "c9272e96-745e-4333-e04a-b10b32a1a09f"
      },
      "source": [
        "num_users_actions_test.quantile(0.99)"
      ],
      "execution_count": 106,
      "outputs": [
        {
          "output_type": "execute_result",
          "data": {
            "text/plain": [
              "num_actions    462.85\n",
              "Name: 0.99, dtype: float64"
            ]
          },
          "metadata": {
            "tags": []
          },
          "execution_count": 106
        }
      ]
    },
    {
      "cell_type": "markdown",
      "metadata": {
        "id": "9BGkMGD5-iW1"
      },
      "source": [
        "Запишем руками еще пользователей-выбросов на основании того, что в этом параграфе рассмотрели."
      ]
    },
    {
      "cell_type": "code",
      "metadata": {
        "id": "J6LPBbZt-iW1"
      },
      "source": [
        "outlier_users += [2514, 3572, 4374, 7702, 8363, 8394, 9546, 9880, 10794, 11770, 13268, 25279, 26291, 26554]\n",
        "outlier_users.sort()\n",
        "np.savetxt(os.path.join(PATH_TO_DATA, 'handpicked_outlier_users.txt'), outlier_users, fmt='%d')"
      ],
      "execution_count": 107,
      "outputs": []
    },
    {
      "cell_type": "markdown",
      "metadata": {
        "id": "GH4xpC3Y-iW2"
      },
      "source": [
        "## Аномальные пользователи и отсечение по датам"
      ]
    },
    {
      "cell_type": "markdown",
      "metadata": {
        "id": "eid-phAj-iW4"
      },
      "source": [
        "Рассмотрим, как будет себя вести выборка, если выкинуть из нее пользователей, которых записали в выбросы выше."
      ]
    },
    {
      "cell_type": "code",
      "metadata": {
        "id": "xQdbL2T_-iW5",
        "colab": {
          "base_uri": "https://localhost:8080/",
          "height": 294
        },
        "outputId": "125f60de-1b61-485e-b787-f40d8e6eb172"
      },
      "source": [
        "train_df.drop(index=outlier_users).iloc[:, :-1].describe()"
      ],
      "execution_count": 108,
      "outputs": [
        {
          "output_type": "execute_result",
          "data": {
            "text/html": [
              "<div>\n",
              "<style scoped>\n",
              "    .dataframe tbody tr th:only-of-type {\n",
              "        vertical-align: middle;\n",
              "    }\n",
              "\n",
              "    .dataframe tbody tr th {\n",
              "        vertical-align: top;\n",
              "    }\n",
              "\n",
              "    .dataframe thead th {\n",
              "        text-align: right;\n",
              "    }\n",
              "</style>\n",
              "<table border=\"1\" class=\"dataframe\">\n",
              "  <thead>\n",
              "    <tr style=\"text-align: right;\">\n",
              "      <th></th>\n",
              "      <th>discovered</th>\n",
              "      <th>passed</th>\n",
              "      <th>started_attempt</th>\n",
              "      <th>viewed</th>\n",
              "      <th>correct</th>\n",
              "      <th>wrong</th>\n",
              "      <th>num_days</th>\n",
              "    </tr>\n",
              "  </thead>\n",
              "  <tbody>\n",
              "    <tr>\n",
              "      <th>count</th>\n",
              "      <td>19209.000000</td>\n",
              "      <td>19209.000000</td>\n",
              "      <td>19209.000000</td>\n",
              "      <td>19209.000000</td>\n",
              "      <td>19209.000000</td>\n",
              "      <td>19209.000000</td>\n",
              "      <td>19209.000000</td>\n",
              "    </tr>\n",
              "    <tr>\n",
              "      <th>mean</th>\n",
              "      <td>12.305690</td>\n",
              "      <td>11.361914</td>\n",
              "      <td>4.088813</td>\n",
              "      <td>19.026446</td>\n",
              "      <td>3.155812</td>\n",
              "      <td>2.827321</td>\n",
              "      <td>1.342183</td>\n",
              "    </tr>\n",
              "    <tr>\n",
              "      <th>std</th>\n",
              "      <td>17.862657</td>\n",
              "      <td>16.690288</td>\n",
              "      <td>7.918507</td>\n",
              "      <td>30.937450</td>\n",
              "      <td>6.272858</td>\n",
              "      <td>9.022117</td>\n",
              "      <td>0.624112</td>\n",
              "    </tr>\n",
              "    <tr>\n",
              "      <th>min</th>\n",
              "      <td>0.000000</td>\n",
              "      <td>0.000000</td>\n",
              "      <td>0.000000</td>\n",
              "      <td>0.000000</td>\n",
              "      <td>0.000000</td>\n",
              "      <td>0.000000</td>\n",
              "      <td>1.000000</td>\n",
              "    </tr>\n",
              "    <tr>\n",
              "      <th>25%</th>\n",
              "      <td>1.000000</td>\n",
              "      <td>1.000000</td>\n",
              "      <td>0.000000</td>\n",
              "      <td>1.000000</td>\n",
              "      <td>0.000000</td>\n",
              "      <td>0.000000</td>\n",
              "      <td>1.000000</td>\n",
              "    </tr>\n",
              "    <tr>\n",
              "      <th>50%</th>\n",
              "      <td>6.000000</td>\n",
              "      <td>5.000000</td>\n",
              "      <td>1.000000</td>\n",
              "      <td>7.000000</td>\n",
              "      <td>0.000000</td>\n",
              "      <td>0.000000</td>\n",
              "      <td>1.000000</td>\n",
              "    </tr>\n",
              "    <tr>\n",
              "      <th>75%</th>\n",
              "      <td>16.000000</td>\n",
              "      <td>14.000000</td>\n",
              "      <td>5.000000</td>\n",
              "      <td>23.000000</td>\n",
              "      <td>2.000000</td>\n",
              "      <td>1.000000</td>\n",
              "      <td>2.000000</td>\n",
              "    </tr>\n",
              "    <tr>\n",
              "      <th>max</th>\n",
              "      <td>198.000000</td>\n",
              "      <td>198.000000</td>\n",
              "      <td>116.000000</td>\n",
              "      <td>397.000000</td>\n",
              "      <td>76.000000</td>\n",
              "      <td>184.000000</td>\n",
              "      <td>3.000000</td>\n",
              "    </tr>\n",
              "  </tbody>\n",
              "</table>\n",
              "</div>"
            ],
            "text/plain": [
              "         discovered        passed  ...         wrong      num_days\n",
              "count  19209.000000  19209.000000  ...  19209.000000  19209.000000\n",
              "mean      12.305690     11.361914  ...      2.827321      1.342183\n",
              "std       17.862657     16.690288  ...      9.022117      0.624112\n",
              "min        0.000000      0.000000  ...      0.000000      1.000000\n",
              "25%        1.000000      1.000000  ...      0.000000      1.000000\n",
              "50%        6.000000      5.000000  ...      0.000000      1.000000\n",
              "75%       16.000000     14.000000  ...      1.000000      2.000000\n",
              "max      198.000000    198.000000  ...    184.000000      3.000000\n",
              "\n",
              "[8 rows x 7 columns]"
            ]
          },
          "metadata": {
            "tags": []
          },
          "execution_count": 108
        }
      ]
    },
    {
      "cell_type": "markdown",
      "metadata": {
        "id": "rA6ZUTj0-iW5"
      },
      "source": [
        "Ну, немного побольше похоже на тестовую выборку. Давайте проверим, как у нас данные по времени распределены вообще:"
      ]
    },
    {
      "cell_type": "code",
      "metadata": {
        "colab": {
          "base_uri": "https://localhost:8080/",
          "height": 403
        },
        "id": "_4lXHsojOsRj",
        "outputId": "7a2dcfda-2c94-4d8b-a81d-51fd4fda7718"
      },
      "source": [
        "for action in all_actions.action.unique():\n",
        "    action_by_month = pd.concat([all_actions_2d, all_actions_test])\\\n",
        "        .query('action == @action').resample('2W', on='time').action.count()\n",
        "    action_by_month.plot(figsize=(8, 6), legend=True)\n",
        "\n",
        "plt.axvline(all_actions_2d.time.max(), ymax=0.65, linestyle='--')\n",
        "plt.axvline('2015-08-01',  linestyle='--', color='black')\n",
        "plt.ylabel('activities count')\n",
        "plt.legend(all_actions.action.unique().tolist() + ['end of train period', 'end of initial activity'], loc='upper right');"
      ],
      "execution_count": 109,
      "outputs": [
        {
          "output_type": "display_data",
          "data": {
            "image/png": "[encoded data removed]",
            "text/plain": [
              "<Figure size 576x432 with 1 Axes>"
            ]
          },
          "metadata": {
            "tags": [],
            "needs_background": "light"
          }
        }
      ]
    },
    {
      "cell_type": "markdown",
      "metadata": {
        "id": "ZM7grS5Y-iW6"
      },
      "source": [
        "Видно, что в начале тренировочного периода (как только курс открылся, примерно до 1 августа 2016) активность зашкаливала по сравнению с остальным временем. Наверное, можно считать, что такая активность нетипична для среднего посетителя курса (как минимум, для предсказания было бы хорошо, чтобы тренировочная выборка была похожа на тестовую) и постараться ее обрезать.\n",
        "\n",
        "Но и в начале тестовой выборки есть похожий скачок активности, как его объяснить? По идее, мы в начале тестового периода наоборот перестали регистрировать данные от пользователей из тренировочного периода (если разделение по юзерам было настоящим), то есть, активности должно стать меньше..\n",
        "\n",
        "Проще посмотреть как будет себя модель вести при отсечении по временному порогу снизу."
      ]
    },
    {
      "cell_type": "code",
      "metadata": {
        "colab": {
          "base_uri": "https://localhost:8080/",
          "height": 528
        },
        "id": "spISIHdkAEPl",
        "outputId": "94e7cafa-cc06-4015-eb39-24cd01846314"
      },
      "source": [
        "from sklearn.ensemble import RandomForestClassifier\n",
        "\n",
        "min_timestamps = get_min_timestamps(all_actions, as_datetime=True).min_timestamp\n",
        "early_users = train_df[min_timestamps < '2015-08-01'].index.unique()\n",
        "train_df.drop(index=np.union1d(outlier_users, early_users)).iloc[:, :-1].describe()\n",
        "\n",
        "rf = RandomForestClassifier(\n",
        "    n_estimators=100,\n",
        "    max_depth=4,\n",
        "    min_samples_leaf=30,\n",
        "    min_samples_split=70,\n",
        "    class_weight='balanced',\n",
        "    n_jobs=-1\n",
        ")\n",
        "\n",
        "early_users = train_df[min_timestamps < '2015-08-01'].index.unique()\n",
        "test_model(rf,\n",
        "    train_df.iloc[:, :-1].drop(index=early_users),\n",
        "    targets.drop(index=early_users),\n",
        "    cv=10, figsize=(10, 6)\n",
        "    )"
      ],
      "execution_count": 121,
      "outputs": [
        {
          "output_type": "stream",
          "text": [
            "ROC-AUC на тренировочной выборке:\t 0.843139718937137\n",
            "ROC-AUC на валидационной выборке:\t 0.8144807982534541\n",
            "\n",
            "Mean CV score: 0.8347901993652511\n",
            "Std of CV scores: 0.020214163135849835\n"
          ],
          "name": "stdout"
        },
        {
          "output_type": "display_data",
          "data": {
            "image/png": "[encoded data removed]",
            "text/plain": [
              "<Figure size 720x432 with 1 Axes>"
            ]
          },
          "metadata": {
            "tags": [],
            "needs_background": "light"
          }
        }
      ]
    },
    {
      "cell_type": "markdown",
      "metadata": {
        "id": "SWJqHjLZyKZL"
      },
      "source": [
        "Получается сильный разброс качества в зависимости от даты отсечения, и дисперсии оценок на кросс-валидации тоже большие. То есть, скорей всего никакой осмысленной зависимости от даты отсечения нет и мы будем настраиваться на случайный шум, лучше этого не делать."
      ]
    },
    {
      "cell_type": "markdown",
      "metadata": {
        "id": "fT6oo6ng-iW7"
      },
      "source": [
        "Можно автоматизированно попробовать поискать выбросы, хотя бы в самом простом признаковом пространстве. Попробуем сделать это с помощью ```IsolationForest``` из scikit-learn."
      ]
    },
    {
      "cell_type": "code",
      "metadata": {
        "id": "BKL_nnt7-iW7",
        "colab": {
          "base_uri": "https://localhost:8080/"
        },
        "outputId": "3ea98dc9-1477-4dad-dd92-027dc4282a40"
      },
      "source": [
        "outliers_clf = IsolationForest(random_state=RANDOM_STATE)\n",
        "forest_outliers = pd.Series(outliers_clf.fit_predict(train_df.iloc[:, :-1]), index=train_df.index)\n",
        "forest_outliers.value_counts()"
      ],
      "execution_count": 130,
      "outputs": [
        {
          "output_type": "execute_result",
          "data": {
            "text/plain": [
              " 1    15931\n",
              "-1     3303\n",
              "dtype: int64"
            ]
          },
          "metadata": {
            "tags": []
          },
          "execution_count": 130
        }
      ]
    },
    {
      "cell_type": "markdown",
      "metadata": {
        "id": "D4UuJwvJ-iW8"
      },
      "source": [
        "По-хорошему, нам бы нужно сделать так, чтобы в тестовой выборке пользователей-выбросов не было или было мало? Ведь их-то мы не можем выкинуть."
      ]
    },
    {
      "cell_type": "code",
      "metadata": {
        "id": "JlgDIB4x-iW8",
        "colab": {
          "base_uri": "https://localhost:8080/"
        },
        "outputId": "ad762999-3143-4583-b5dc-c42790fa8632"
      },
      "source": [
        "pd.Series(outliers_clf.predict(test_df)).value_counts()"
      ],
      "execution_count": 131,
      "outputs": [
        {
          "output_type": "execute_result",
          "data": {
            "text/plain": [
              " 1    5204\n",
              "-1     980\n",
              "dtype: int64"
            ]
          },
          "metadata": {
            "tags": []
          },
          "execution_count": 131
        }
      ]
    },
    {
      "cell_type": "markdown",
      "metadata": {
        "id": "tAKYlEPT-iW9"
      },
      "source": [
        "А тут выбросы есть. Можно, наверно, обучить ```LocalOutliersFactor``` на тестовой выборке и сделать novelty detection на тренировочной. Но это же читерство в чистом виде. "
      ]
    },
    {
      "cell_type": "code",
      "metadata": {
        "id": "y2SzanbD-iW-",
        "colab": {
          "base_uri": "https://localhost:8080/"
        },
        "outputId": "2732461a-b374-4932-eabc-6ee7b0a2ad6b"
      },
      "source": [
        "pd.Series(forest_outliers, index=train_df.index)[outlier_users]"
      ],
      "execution_count": 132,
      "outputs": [
        {
          "output_type": "execute_result",
          "data": {
            "text/plain": [
              "user_id\n",
              "1046    -1\n",
              "1078    -1\n",
              "1361    -1\n",
              "2261    -1\n",
              "2514    -1\n",
              "3572     1\n",
              "4374     1\n",
              "4762    -1\n",
              "7702    -1\n",
              "8363    -1\n",
              "8394    -1\n",
              "9104    -1\n",
              "9546    -1\n",
              "9880    -1\n",
              "10353   -1\n",
              "10782   -1\n",
              "10794   -1\n",
              "11770   -1\n",
              "12133   -1\n",
              "13268    1\n",
              "20907   -1\n",
              "20997   -1\n",
              "25279   -1\n",
              "26291   -1\n",
              "26554    1\n",
              "dtype: int64"
            ]
          },
          "metadata": {
            "tags": []
          },
          "execution_count": 132
        }
      ]
    },
    {
      "cell_type": "markdown",
      "metadata": {
        "id": "3ZqvwBVk-iW-"
      },
      "source": [
        "Хотя бы отобранных руками юзеров он показывает как выбросы, кроме тех, которых явно только на основании выборки с полным объемом действий выловили. Качество модели, если убрать таким образом пользователей, получается так себе, так что, наверное, не будем развивать эту идею."
      ]
    },
    {
      "cell_type": "code",
      "metadata": {
        "colab": {
          "base_uri": "https://localhost:8080/",
          "height": 528
        },
        "id": "-3IAt8kUTPbx",
        "outputId": "36412b42-3aad-4bb1-c8bf-eef36a455e0a"
      },
      "source": [
        "test_model(rf,\n",
        "    train_df.iloc[:, :-1][forest_outliers == 1],\n",
        "    targets[forest_outliers == 1],\n",
        "    cv=10, figsize=(10, 6)\n",
        "    )"
      ],
      "execution_count": 135,
      "outputs": [
        {
          "output_type": "stream",
          "text": [
            "ROC-AUC на тренировочной выборке:\t 0.8031152339562687\n",
            "ROC-AUC на валидационной выборке:\t 0.807182061579652\n",
            "\n",
            "Mean CV score: 0.7935518087898896\n",
            "Std of CV scores: 0.023145402850452888\n"
          ],
          "name": "stdout"
        },
        {
          "output_type": "display_data",
          "data": {
            "image/png": "[encoded data removed]",
            "text/plain": [
              "<Figure size 720x432 with 1 Axes>"
            ]
          },
          "metadata": {
            "tags": [],
            "needs_background": "light"
          }
        }
      ]
    },
    {
      "cell_type": "markdown",
      "metadata": {
        "id": "3QedJEz6-iW_"
      },
      "source": [
        "## Исправление датасетов"
      ]
    },
    {
      "cell_type": "markdown",
      "metadata": {
        "id": "1oB6vJLe-iW_"
      },
      "source": [
        "Исправим аномалии с ```discovered``` и ```viewed```, которые видели раньше. Прибавим по единичке к ```discovered``` каждому юзеру столько раз, сколько у него было степов с ```discovered = 0``` (так как ```discovered``` для каждого степа бывает только 1 раз), и для не задачных степов прибавим то же число в ```passed```, так как ```discovered = passed``` для не задачных степов."
      ]
    },
    {
      "cell_type": "code",
      "metadata": {
        "id": "PBPyGiVo-iW_"
      },
      "source": [
        "train_df_fixed = train_df.copy()\n",
        "test_df_fixed = test_df.copy()"
      ],
      "execution_count": 136,
      "outputs": []
    },
    {
      "cell_type": "code",
      "metadata": {
        "id": "zrJcHMPd-iW_"
      },
      "source": [
        "train_df_fixed[train_df.index.isin(undiscovered_non_problems_train.reset_index().user_id.unique())].discovered +=\\\n",
        "    undiscovered_non_problems_train.reset_index().user_id.value_counts().values\n",
        "train_df_fixed[train_df.index.isin(undiscovered_non_problems_train.reset_index().user_id.unique())].passed +=\\\n",
        "    undiscovered_non_problems_train.reset_index().user_id.value_counts().values\n",
        "\n",
        "train_df_fixed[train_df.index.isin(undiscovered_problems_train.reset_index().user_id.unique())].discovered +=\\\n",
        "    undiscovered_problems_train.reset_index().user_id.value_counts().values\n",
        "\n",
        "test_df_fixed[test_df.index.isin(undiscovered_problems_test.reset_index().user_id.unique())].discovered +=\\\n",
        "    undiscovered_problems_test.reset_index().user_id.value_counts().values"
      ],
      "execution_count": 137,
      "outputs": []
    },
    {
      "cell_type": "markdown",
      "metadata": {
        "id": "w30DtKK3-iXA"
      },
      "source": [
        "Давайте попробуем также исправить тренировочный датасет для задачных степов с ```viewed = 0```. В отличие от ```passed``` и ```discovered```, пользователь может посмотреть степ неограниченное число раз, но медианное значение просмотров почти всех задачных степов по пользователям равно 1: "
      ]
    },
    {
      "cell_type": "code",
      "metadata": {
        "id": "z4z8cIt6-iXA",
        "colab": {
          "base_uri": "https://localhost:8080/"
        },
        "outputId": "904a91d8-dd81-41da-a9af-dc5b65b327b9"
      },
      "source": [
        "all_actions_2d[(all_actions_2d.action == 'viewed') & (all_actions_2d.step_id.isin(problem_steps))].\\\n",
        "    groupby(['step_id', 'user_id'])[['timestamp']].count().rename(columns={'timestamp': 'num_viewed'}).\\\n",
        "    groupby('step_id').num_viewed.median().value_counts()"
      ],
      "execution_count": 138,
      "outputs": [
        {
          "output_type": "execute_result",
          "data": {
            "text/plain": [
              "1    75\n",
              "2     1\n",
              "Name: num_viewed, dtype: int64"
            ]
          },
          "metadata": {
            "tags": []
          },
          "execution_count": 138
        }
      ]
    },
    {
      "cell_type": "markdown",
      "metadata": {
        "id": "ida2FJGs-iXA"
      },
      "source": [
        "Так что можно просто прибавить по к графе ```viewed``` соответствующих юзеров в датасете число раз, которые они появились в ```unviewed_problems_train```, аналогично тому, что делали раньше (вспомним, что для тестовой выборки множества пар (юзер, степ) для задачных степов с ```discovered = 0``` и ```viewed = 0``` совпадают)."
      ]
    },
    {
      "cell_type": "code",
      "metadata": {
        "id": "ZT7Xvfsf-iXB"
      },
      "source": [
        "train_df_fixed[train_df.index.isin(unviewed_problems_train.reset_index().user_id.unique())].viewed +=\\\n",
        "    unviewed_problems_train.reset_index().user_id.value_counts().values\n",
        "\n",
        "test_df_fixed[test_df.index.isin(undiscovered_problems_test.reset_index().user_id.unique())].viewed +=\\\n",
        "    undiscovered_problems_test.reset_index().user_id.value_counts().values"
      ],
      "execution_count": 139,
      "outputs": []
    },
    {
      "cell_type": "markdown",
      "metadata": {
        "id": "4l4-OxTn-iXB"
      },
      "source": [
        "На исходном датасете качество модели почти не меняется, если поправить данные. Тем не менее, сохраним то, что получилось для использования в соседней тетрадке, где происходит основное построение модели."
      ]
    },
    {
      "cell_type": "code",
      "metadata": {
        "colab": {
          "base_uri": "https://localhost:8080/",
          "height": 528
        },
        "id": "kiWVQDNfZwtT",
        "outputId": "69c793c7-419f-42c5-cebf-d0d8762837ec"
      },
      "source": [
        "test_model(rf,\n",
        "    train_df_fixed.iloc[:, :-1],\n",
        "    targets,\n",
        "    cv=10, figsize=(10, 6)\n",
        "    )"
      ],
      "execution_count": 142,
      "outputs": [
        {
          "output_type": "stream",
          "text": [
            "ROC-AUC на тренировочной выборке:\t 0.8493139266189238\n",
            "ROC-AUC на валидационной выборке:\t 0.8210579068188432\n",
            "\n",
            "Mean CV score: 0.8417574911016498\n",
            "Std of CV scores: 0.014632329165169194\n"
          ],
          "name": "stdout"
        },
        {
          "output_type": "display_data",
          "data": {
            "image/png": "[encoded data removed]",
            "text/plain": [
              "<Figure size 720x432 with 1 Axes>"
            ]
          },
          "metadata": {
            "tags": [],
            "needs_background": "light"
          }
        }
      ]
    },
    {
      "cell_type": "code",
      "metadata": {
        "id": "k_26PXhw-iXB"
      },
      "source": [
        "train_df_fixed.to_csv(os.path.join(PATH_TO_DATA, 'train_data_fixed.csv'))\n",
        "test_df_fixed.to_csv(os.path.join(PATH_TO_DATA, 'test_data_fixed.csv'))"
      ],
      "execution_count": 141,
      "outputs": []
    }
  ]
}