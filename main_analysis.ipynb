{
  "nbformat": 4,
  "nbformat_minor": 0,
  "metadata": {
    "kernelspec": {
      "display_name": "Python 3",
      "language": "python",
      "name": "python3"
    },
    "language_info": {
      "codemirror_mode": {
        "name": "ipython",
        "version": 3
      },
      "file_extension": ".py",
      "mimetype": "text/x-python",
      "name": "python",
      "nbconvert_exporter": "python",
      "pygments_lexer": "ipython3",
      "version": "3.7.7"
    },
    "colab": {
      "name": "main_analysis.ipynb",
      "provenance": [],
      "collapsed_sections": [],
      "include_colab_link": true
    }
  },
  "cells": [
    {
      "cell_type": "markdown",
      "metadata": {
        "id": "view-in-github",
        "colab_type": "text"
      },
      "source": [
        "<a href=\"https://colab.research.google.com/github/yupopov/stepik_ml_contest/blob/master/main_analysis.ipynb\" target=\"_parent\"><img src=\"https://colab.research.google.com/assets/colab-badge.svg\" alt=\"Open In Colab\"/></a>"
      ]
    },
    {
      "cell_type": "markdown",
      "metadata": {
        "id": "hjzNSgY4BacL"
      },
      "source": [
        "# Тренировка модели"
      ]
    },
    {
      "cell_type": "code",
      "metadata": {
        "id": "K4yrZ1hqBjeW",
        "colab": {
          "base_uri": "https://localhost:8080/"
        },
        "outputId": "badd0fea-a342-4748-cca8-f28732b63d8b"
      },
      "source": [
        "# Для запуска на github\n",
        "!git clone https://github.com/yupopov/stepik_ml_contest\n",
        "import os\n",
        "os.chdir('stepik_ml_contest')"
      ],
      "execution_count": null,
      "outputs": [
        {
          "output_type": "stream",
          "text": [
            "Cloning into 'stepik_ml_contest'...\n",
            "remote: Enumerating objects: 37, done.\u001b[K\n",
            "remote: Counting objects: 100% (37/37), done.\u001b[K\n",
            "remote: Compressing objects: 100% (26/26), done.\u001b[K\n",
            "remote: Total 37 (delta 9), reused 36 (delta 8), pack-reused 0\u001b[K\n",
            "Unpacking objects: 100% (37/37), done.\n"
          ],
          "name": "stdout"
        }
      ]
    },
    {
      "cell_type": "code",
      "metadata": {
        "id": "fhgBMC7cBaca",
        "colab": {
          "base_uri": "https://localhost:8080/"
        },
        "outputId": "3527dd89-a6ef-4e04-df85-93234a59ea69"
      },
      "source": [
        "import warnings\n",
        "warnings.filterwarnings('ignore')\n",
        "%load_ext autoreload\n",
        "%autoreload 2\n",
        "\n",
        "import numpy as np\n",
        "import pandas as pd\n",
        "import matplotlib.pyplot as plt\n",
        "import seaborn as sns\n",
        "import scipy.stats as stats\n",
        "\n",
        "from sklearn.base import clone\n",
        "from sklearn.model_selection import train_test_split, cross_val_score, learning_curve, cross_validate\n",
        "from sklearn.ensemble import RandomForestClassifier\n",
        "from sklearn.metrics import roc_auc_score\n",
        "\n",
        "from config.config import TOTAL_DAYS, PATH_TO_DATA\n",
        "# рассматриваем данные за первые TOTAL_DAYS дней активности\n",
        "from utils.df_creation import get_users, create_interaction, get_target, get_min_timestamps,\\\n",
        "    cut_df_by_time, cut_dfs_by_time, get_action_counts_by_period, get_base_features"
      ],
      "execution_count": null,
      "outputs": [
        {
          "output_type": "stream",
          "text": [
            "The autoreload extension is already loaded. To reload it, use:\n",
            "  %reload_ext autoreload\n"
          ],
          "name": "stdout"
        }
      ]
    },
    {
      "cell_type": "code",
      "metadata": {
        "id": "_WTCm-g61xsy"
      },
      "source": [
        "RANDOM_STATE = 42"
      ],
      "execution_count": null,
      "outputs": []
    },
    {
      "cell_type": "code",
      "metadata": {
        "id": "GvzZIK7VCDyO"
      },
      "source": [
        "def test_model(model, X, y, test_size=0.1, cv=5, random_state=RANDOM_STATE):\n",
        "  X_train, X_test, y_train, y_test = train_test_split(X, y, test_size=test_size, stratify=y, random_state=random_state)\n",
        "\n",
        "  model_ = clone(model)\n",
        "  model_.random_state = random_state\n",
        "  model_.fit(X_train, y_train)\n",
        "\n",
        "  roc_train = roc_auc_score(y_train, model_.predict_proba(X_train)[:, 1])\n",
        "  roc_test = roc_auc_score(y_test, model_.predict_proba(X_test)[:, 1])\n",
        "\n",
        "  print(f'ROC-AUC на тренировочной выборке:\\t {roc_train}')\n",
        "  print(f'ROC-AUC на тестовой выборке:\\t {roc_test}\\n')\n",
        "\n",
        "  cv_results = cross_validate(model_, X, y, scoring='roc_auc', cv=cv, n_jobs=-1, return_estimator=True)\n",
        "\n",
        "  cv_scores = cv_results['test_score']\n",
        "  cv_mean = cv_scores.mean()\n",
        "  cv_std = cv_scores.std()\n",
        "\n",
        "  print(f'Mean CV score: {cv_mean}')\n",
        "  print(f'Std of CV scores: {cv_std}')\n",
        "\n",
        "  if hasattr(model, 'feature_importances_'):\n",
        "    estimators = cv_results['estimator']\n",
        "    feature_importances = feature_importances = pd.DataFrame(\n",
        "        np.vstack([estimator.feature_importances_ for estimator in estimators]),\n",
        "        columns=X_train.columns\n",
        "        ).T\n",
        "\n",
        "    sorted_idx = feature_importances.mean(axis=1).sort_values().index\n",
        "    feature_importances = feature_importances.loc[sorted_idx, :]\n",
        "\n",
        "    fig, ax = plt.subplots()\n",
        "    ax.boxplot(feature_importances,\n",
        "            vert=False, labels=feature_importances.index)\n",
        "    ax.set_title(\"Feature importances on CV\")\n",
        "    fig.tight_layout()\n"
      ],
      "execution_count": null,
      "outputs": []
    },
    {
      "cell_type": "code",
      "metadata": {
        "id": "tGAnBUIllj49"
      },
      "source": [
        "def plot_learning_curve(estimator, title, X, y, scoring=None, axes=None, ylim=None, cv=None,\n",
        "                        n_jobs=None, train_sizes=np.linspace(.1, 1.0, 5)):\n",
        "    \"\"\"\n",
        "    Generate 3 plots: the test and training learning curve, the training\n",
        "    samples vs fit times curve, the fit times vs score curve.\n",
        "\n",
        "    Parameters\n",
        "    ----------\n",
        "    estimator : estimator instance\n",
        "        An estimator instance implementing `fit` and `predict` methods which\n",
        "        will be cloned for each validation.\n",
        "\n",
        "    title : str\n",
        "        Title for the chart.\n",
        "\n",
        "    X : array-like of shape (n_samples, n_features)\n",
        "        Training vector, where ``n_samples`` is the number of samples and\n",
        "        ``n_features`` is the number of features.\n",
        "\n",
        "    y : array-like of shape (n_samples) or (n_samples, n_features)\n",
        "        Target relative to ``X`` for classification or regression;\n",
        "        None for unsupervised learning.\n",
        "\n",
        "    scoring : str or callable, default=None\n",
        "        A str (see model evaluation documentation) or a scorer callable\n",
        "        object / function with signature scorer(estimator, X, y).\n",
        "\n",
        "    axes : array-like of shape (3,), default=None\n",
        "        Axes to use for plotting the curves.\n",
        "\n",
        "    ylim : tuple of shape (2,), default=None\n",
        "        Defines minimum and maximum y-values plotted, e.g. (ymin, ymax).\n",
        "\n",
        "    cv : int, cross-validation generator or an iterable, default=None\n",
        "        Determines the cross-validation splitting strategy.\n",
        "        Possible inputs for cv are:\n",
        "\n",
        "          - None, to use the default 5-fold cross-validation,\n",
        "          - integer, to specify the number of folds.\n",
        "          - :term:`CV splitter`,\n",
        "          - An iterable yielding (train, test) splits as arrays of indices.\n",
        "\n",
        "        For integer/None inputs, if ``y`` is binary or multiclass,\n",
        "        :class:`StratifiedKFold` used. If the estimator is not a classifier\n",
        "        or if ``y`` is neither binary nor multiclass, :class:`KFold` is used.\n",
        "\n",
        "        Refer :ref:`User Guide <cross_validation>` for the various\n",
        "        cross-validators that can be used here.\n",
        "\n",
        "    n_jobs : int or None, default=None\n",
        "        Number of jobs to run in parallel.\n",
        "        ``None`` means 1 unless in a :obj:`joblib.parallel_backend` context.\n",
        "        ``-1`` means using all processors. See :term:`Glossary <n_jobs>`\n",
        "        for more details.\n",
        "\n",
        "    train_sizes : array-like of shape (n_ticks,)\n",
        "        Relative or absolute numbers of training examples that will be used to\n",
        "        generate the learning curve. If the ``dtype`` is float, it is regarded\n",
        "        as a fraction of the maximum size of the training set (that is\n",
        "        determined by the selected validation method), i.e. it has to be within\n",
        "        (0, 1]. Otherwise it is interpreted as absolute sizes of the training\n",
        "        sets. Note that for classification the number of samples usually have\n",
        "        to be big enough to contain at least one sample from each class.\n",
        "        (default: np.linspace(0.1, 1.0, 5))\n",
        "    \"\"\"\n",
        "    if axes is None:\n",
        "        _, axes = plt.subplots(1, 3, figsize=(20, 5))\n",
        "\n",
        "    axes[0].set_title(title)\n",
        "    if ylim is not None:\n",
        "        axes[0].set_ylim(*ylim)\n",
        "    axes[0].set_xlabel(\"Training examples\")\n",
        "    axes[0].set_ylabel(\"Score\")\n",
        "\n",
        "    train_sizes, train_scores, test_scores, fit_times, _ = \\\n",
        "        learning_curve(estimator, X, y, scoring=scoring, cv=cv, n_jobs=n_jobs,\n",
        "                       train_sizes=train_sizes,\n",
        "                       return_times=True)\n",
        "    train_scores_mean = np.mean(train_scores, axis=1)\n",
        "    train_scores_std = np.std(train_scores, axis=1)\n",
        "    test_scores_mean = np.mean(test_scores, axis=1)\n",
        "    test_scores_std = np.std(test_scores, axis=1)\n",
        "    fit_times_mean = np.mean(fit_times, axis=1)\n",
        "    fit_times_std = np.std(fit_times, axis=1)\n",
        "\n",
        "    # Plot learning curve\n",
        "    axes[0].grid()\n",
        "    axes[0].fill_between(train_sizes, train_scores_mean - train_scores_std,\n",
        "                         train_scores_mean + train_scores_std, alpha=0.1,\n",
        "                         color=\"r\")\n",
        "    axes[0].fill_between(train_sizes, test_scores_mean - test_scores_std,\n",
        "                         test_scores_mean + test_scores_std, alpha=0.1,\n",
        "                         color=\"g\")\n",
        "    axes[0].plot(train_sizes, train_scores_mean, 'o-', color=\"r\",\n",
        "                 label=\"Training score\")\n",
        "    axes[0].plot(train_sizes, test_scores_mean, 'o-', color=\"g\",\n",
        "                 label=\"Cross-validation score\")\n",
        "    axes[0].legend(loc=\"best\")\n",
        "\n",
        "    # Plot n_samples vs fit_times\n",
        "    axes[1].grid()\n",
        "    axes[1].plot(train_sizes, fit_times_mean, 'o-')\n",
        "    axes[1].fill_between(train_sizes, fit_times_mean - fit_times_std,\n",
        "                         fit_times_mean + fit_times_std, alpha=0.1)\n",
        "    axes[1].set_xlabel(\"Training examples\")\n",
        "    axes[1].set_ylabel(\"fit_times\")\n",
        "    axes[1].set_title(\"Scalability of the model\")\n",
        "\n",
        "    # Plot fit_time vs score\n",
        "    axes[2].grid()\n",
        "    axes[2].plot(fit_times_mean, test_scores_mean, 'o-')\n",
        "    axes[2].fill_between(fit_times_mean, test_scores_mean - test_scores_std,\n",
        "                         test_scores_mean + test_scores_std, alpha=0.1)\n",
        "    axes[2].set_xlabel(\"fit_times\")\n",
        "    axes[2].set_ylabel(\"Score\")\n",
        "    axes[2].set_title(\"Performance of the model\")"
      ],
      "execution_count": null,
      "outputs": []
    },
    {
      "cell_type": "markdown",
      "metadata": {
        "id": "yo6XP6Lzk62u"
      },
      "source": [
        "## Проверка базового датасета"
      ]
    },
    {
      "cell_type": "markdown",
      "metadata": {
        "id": "1AeCGarUBacf"
      },
      "source": [
        "Получим бейзлайн решение на базовых признаках, полученных в прошлой тетрадке.\n",
        "\n",
        "Будем использовать древесные модели, потому что как мы видели в прошлой тетрадке, признаки сильно между собой коррелируют, так что использовать линейную модель было бы совсем плохо.\n",
        "\n",
        "Как метрику качества будем использовать ROC-AUC, потому что она и указана на степике, ну и датасет не сильно несбалансированный."
      ]
    },
    {
      "cell_type": "code",
      "metadata": {
        "id": "-novEKKUBach"
      },
      "source": [
        "train_df_base = pd.read_csv(os.path.join(PATH_TO_DATA, 'train_data_base.csv'), index_col='user_id')\n",
        "targets = pd.read_csv(os.path.join(PATH_TO_DATA, 'targets.csv'), index_col='user_id')\n",
        "test_df_base = pd.read_csv(os.path.join(PATH_TO_DATA, 'test_data_base.csv'), index_col='user_id')"
      ],
      "execution_count": null,
      "outputs": []
    },
    {
      "cell_type": "code",
      "metadata": {
        "colab": {
          "base_uri": "https://localhost:8080/",
          "height": 233
        },
        "id": "yKzs_FneBacj",
        "outputId": "9fe29ab3-5256-491f-e5e4-ac94fd5b11bb"
      },
      "source": [
        "train_df_base.head()"
      ],
      "execution_count": null,
      "outputs": [
        {
          "output_type": "execute_result",
          "data": {
            "text/html": [
              "<div>\n",
              "<style scoped>\n",
              "    .dataframe tbody tr th:only-of-type {\n",
              "        vertical-align: middle;\n",
              "    }\n",
              "\n",
              "    .dataframe tbody tr th {\n",
              "        vertical-align: top;\n",
              "    }\n",
              "\n",
              "    .dataframe thead th {\n",
              "        text-align: right;\n",
              "    }\n",
              "</style>\n",
              "<table border=\"1\" class=\"dataframe\">\n",
              "  <thead>\n",
              "    <tr style=\"text-align: right;\">\n",
              "      <th></th>\n",
              "      <th>discovered</th>\n",
              "      <th>passed</th>\n",
              "      <th>started_attempt</th>\n",
              "      <th>viewed</th>\n",
              "      <th>correct</th>\n",
              "      <th>wrong</th>\n",
              "      <th>num_days</th>\n",
              "    </tr>\n",
              "    <tr>\n",
              "      <th>user_id</th>\n",
              "      <th></th>\n",
              "      <th></th>\n",
              "      <th></th>\n",
              "      <th></th>\n",
              "      <th></th>\n",
              "      <th></th>\n",
              "      <th></th>\n",
              "    </tr>\n",
              "  </thead>\n",
              "  <tbody>\n",
              "    <tr>\n",
              "      <th>1</th>\n",
              "      <td>1</td>\n",
              "      <td>0</td>\n",
              "      <td>0</td>\n",
              "      <td>1</td>\n",
              "      <td>0</td>\n",
              "      <td>0</td>\n",
              "      <td>1</td>\n",
              "    </tr>\n",
              "    <tr>\n",
              "      <th>2</th>\n",
              "      <td>9</td>\n",
              "      <td>9</td>\n",
              "      <td>2</td>\n",
              "      <td>9</td>\n",
              "      <td>2</td>\n",
              "      <td>0</td>\n",
              "      <td>1</td>\n",
              "    </tr>\n",
              "    <tr>\n",
              "      <th>3</th>\n",
              "      <td>15</td>\n",
              "      <td>15</td>\n",
              "      <td>4</td>\n",
              "      <td>20</td>\n",
              "      <td>4</td>\n",
              "      <td>4</td>\n",
              "      <td>1</td>\n",
              "    </tr>\n",
              "    <tr>\n",
              "      <th>5</th>\n",
              "      <td>1</td>\n",
              "      <td>1</td>\n",
              "      <td>0</td>\n",
              "      <td>1</td>\n",
              "      <td>0</td>\n",
              "      <td>0</td>\n",
              "      <td>1</td>\n",
              "    </tr>\n",
              "    <tr>\n",
              "      <th>7</th>\n",
              "      <td>1</td>\n",
              "      <td>1</td>\n",
              "      <td>0</td>\n",
              "      <td>1</td>\n",
              "      <td>0</td>\n",
              "      <td>0</td>\n",
              "      <td>1</td>\n",
              "    </tr>\n",
              "  </tbody>\n",
              "</table>\n",
              "</div>"
            ],
            "text/plain": [
              "         discovered  passed  started_attempt  viewed  correct  wrong  num_days\n",
              "user_id                                                                       \n",
              "1                 1       0                0       1        0      0         1\n",
              "2                 9       9                2       9        2      0         1\n",
              "3                15      15                4      20        4      4         1\n",
              "5                 1       1                0       1        0      0         1\n",
              "7                 1       1                0       1        0      0         1"
            ]
          },
          "metadata": {
            "tags": []
          },
          "execution_count": 8
        }
      ]
    },
    {
      "cell_type": "code",
      "metadata": {
        "id": "zZask5HsKKV5"
      },
      "source": [
        "X_train_base, X_test_base, y_train, y_test =\\\n",
        " train_test_split(train_df_base, targets, test_size=0.1, stratify=targets)"
      ],
      "execution_count": null,
      "outputs": []
    },
    {
      "cell_type": "code",
      "metadata": {
        "colab": {
          "base_uri": "https://localhost:8080/"
        },
        "id": "717ELJddBacm",
        "outputId": "6f9b9ef2-7860-49c4-eed4-15231c71edac"
      },
      "source": [
        "rf = RandomForestClassifier(\n",
        "    n_estimators=100,\n",
        "    min_samples_leaf=10,\n",
        "    min_samples_split=10,\n",
        "    class_weight='balanced',\n",
        "    n_jobs=-1\n",
        ")\n",
        "\n",
        "rf.fit(X_train_base, y_train)\n",
        "roc_train = roc_auc_score(y_train, rf.predict_proba(X_train_base)[:, 1])\n",
        "roc_test = roc_auc_score(y_test, rf.predict_proba(X_test_base)[:, 1])\n",
        "\n",
        "print(f'ROC-AUC на тренировочной выборке: {roc_train}')\n",
        "print(f'ROC-AUC на тестовой выборке: {roc_test}')\n",
        "\n",
        "print('Feature importances of the model:')\n",
        "print(pd.Series(rf.feature_importances_, index=X_train_base.columns).sort_values(ascending=False))\n"
      ],
      "execution_count": null,
      "outputs": [
        {
          "output_type": "stream",
          "text": [
            "ROC-AUC на тренировочной выборке: 0.8960858906038287\n",
            "ROC-AUC на тестовой выборке: 0.8177953024375477\n",
            "Feature importances of the model:\n",
            "passed             0.267386\n",
            "correct            0.224604\n",
            "discovered         0.150033\n",
            "viewed             0.149821\n",
            "started_attempt    0.125136\n",
            "wrong              0.059659\n",
            "num_days           0.023361\n",
            "dtype: float64\n"
          ],
          "name": "stdout"
        }
      ]
    },
    {
      "cell_type": "code",
      "metadata": {
        "colab": {
          "base_uri": "https://localhost:8080/"
        },
        "id": "BvRFpd_q6szQ",
        "outputId": "cb653834-bd40-4f17-9f56-b839332ccbc1"
      },
      "source": [
        "rf.get_params()"
      ],
      "execution_count": null,
      "outputs": [
        {
          "output_type": "execute_result",
          "data": {
            "text/plain": [
              "{'bootstrap': True,\n",
              " 'ccp_alpha': 0.0,\n",
              " 'class_weight': 'balanced',\n",
              " 'criterion': 'gini',\n",
              " 'max_depth': None,\n",
              " 'max_features': 'auto',\n",
              " 'max_leaf_nodes': None,\n",
              " 'max_samples': None,\n",
              " 'min_impurity_decrease': 0.0,\n",
              " 'min_impurity_split': None,\n",
              " 'min_samples_leaf': 10,\n",
              " 'min_samples_split': 10,\n",
              " 'min_weight_fraction_leaf': 0.0,\n",
              " 'n_estimators': 100,\n",
              " 'n_jobs': -1,\n",
              " 'oob_score': False,\n",
              " 'random_state': None,\n",
              " 'verbose': 0,\n",
              " 'warm_start': False}"
            ]
          },
          "metadata": {
            "tags": []
          },
          "execution_count": 21
        }
      ]
    },
    {
      "cell_type": "code",
      "metadata": {
        "colab": {
          "base_uri": "https://localhost:8080/",
          "height": 384
        },
        "id": "AO1K9OQq6mRM",
        "outputId": "29682ba5-4961-44c8-c6b1-e3138aee4ea3"
      },
      "source": [
        "test_model(rf, train_df_base, targets, random_state=None, cv=10)"
      ],
      "execution_count": null,
      "outputs": [
        {
          "output_type": "stream",
          "text": [
            "ROC-AUC на тренировочной выборке:\t 0.8927060363656266\n",
            "ROC-AUC на тестовой выборке:\t 0.8538573683421562\n",
            "\n",
            "Mean CV score: 0.8319259928686306\n",
            "Std of CV scores: 0.01451775735022143\n"
          ],
          "name": "stdout"
        },
        {
          "output_type": "display_data",
          "data": {
            "image/png": "[encoded data removed]",
            "text/plain": [
              "<Figure size 432x288 with 1 Axes>"
            ]
          },
          "metadata": {
            "tags": [],
            "needs_background": "light"
          }
        }
      ]
    },
    {
      "cell_type": "code",
      "metadata": {
        "colab": {
          "base_uri": "https://localhost:8080/"
        },
        "id": "3lTHomDn9yAy",
        "outputId": "ab4617c7-07ac-4154-e9de-18e717b4348d"
      },
      "source": [
        "train_df_base.columns"
      ],
      "execution_count": null,
      "outputs": [
        {
          "output_type": "execute_result",
          "data": {
            "text/plain": [
              "Index(['discovered', 'passed', 'started_attempt', 'viewed', 'correct', 'wrong',\n",
              "       'num_days'],\n",
              "      dtype='object')"
            ]
          },
          "metadata": {
            "tags": []
          },
          "execution_count": 11
        }
      ]
    },
    {
      "cell_type": "code",
      "metadata": {
        "colab": {
          "base_uri": "https://localhost:8080/",
          "height": 384
        },
        "id": "BtPfcNDh73G9",
        "outputId": "d8425f75-7d7a-43cb-9154-c7e5a3b0289d"
      },
      "source": [
        "test_model(rf, train_df_base[['passed', 'discovered']], targets, cv=20)"
      ],
      "execution_count": null,
      "outputs": [
        {
          "output_type": "stream",
          "text": [
            "ROC-AUC на тренировочной выборке:\t 0.8541005295241445\n",
            "ROC-AUC на тестовой выборке:\t 0.8125178194045599\n",
            "\n",
            "Mean CV score: 0.8266580891789104\n",
            "Std of CV scores: 0.025365319760703487\n"
          ],
          "name": "stdout"
        },
        {
          "output_type": "display_data",
          "data": {
            "image/png": "[encoded data removed]",
            "text/plain": [
              "<Figure size 432x288 with 1 Axes>"
            ]
          },
          "metadata": {
            "tags": [],
            "needs_background": "light"
          }
        }
      ]
    },
    {
      "cell_type": "code",
      "metadata": {
        "colab": {
          "base_uri": "https://localhost:8080/",
          "height": 384
        },
        "id": "fELFyu2CGbg5",
        "outputId": "e996d5d3-5164-4e55-9a9c-604921111cf5"
      },
      "source": [
        "cor_pas = pd.DataFrame()\n",
        "cor_pas['cor+pas'] = train_df_base.correct + train_df_base.passed\n",
        "cor_pas['cor-pas'] = train_df_base.correct - train_df_base.passed\n",
        "test_model(rf, cor_pas, targets, cv=10)"
      ],
      "execution_count": null,
      "outputs": [
        {
          "output_type": "stream",
          "text": [
            "ROC-AUC на тренировочной выборке:\t 0.8594604584803344\n",
            "ROC-AUC на тестовой выборке:\t 0.8238134848435861\n",
            "\n",
            "Mean CV score: 0.8382105062704136\n",
            "Std of CV scores: 0.01653118398316747\n"
          ],
          "name": "stdout"
        },
        {
          "output_type": "display_data",
          "data": {
            "image/png": "[encoded data removed]",
            "text/plain": [
              "<Figure size 432x288 with 1 Axes>"
            ]
          },
          "metadata": {
            "tags": [],
            "needs_background": "light"
          }
        }
      ]
    },
    {
      "cell_type": "code",
      "metadata": {
        "colab": {
          "base_uri": "https://localhost:8080/",
          "height": 347
        },
        "id": "AlafUlLSi65x",
        "outputId": "ffc21de4-e3cd-4d72-8324-5d174fa7cf6a"
      },
      "source": [
        "plot_learning_curve(rf, 'Learning curve (rf)', train_df_base, targets, scoring='roc_auc', train_sizes=np.linspace(0.1, 1, 10), n_jobs=-1)"
      ],
      "execution_count": null,
      "outputs": [
        {
          "output_type": "display_data",
          "data": {
            "image/png": "[encoded data removed]",
            "text/plain": [
              "<Figure size 1440x360 with 3 Axes>"
            ]
          },
          "metadata": {
            "tags": [],
            "needs_background": "light"
          }
        }
      ]
    },
    {
      "cell_type": "markdown",
      "metadata": {
        "id": "C0sq3gxq2ETz"
      },
      "source": [
        "Вот тут очень хорошо видно переобучение."
      ]
    },
    {
      "cell_type": "markdown",
      "metadata": {
        "id": "5uszkJoR-aSb"
      },
      "source": [
        "Можно увидеть, что метрика качества модели сильно отличается на тренировочной и тестовой выборках, а также сильно зависит от изначального разбиения. Скорее всего, датасет сильно разнородный, поэтому получаются такие разные результаты. Помимо этого, базовые признаки сильно коррелируют между собой, что тоже должно сказываться на устойчивости модели:"
      ]
    },
    {
      "cell_type": "code",
      "metadata": {
        "colab": {
          "base_uri": "https://localhost:8080/",
          "height": 596
        },
        "id": "GRC18zYAJWDv",
        "outputId": "6b41aa31-f81d-4cb2-c7a8-06fc681805e6"
      },
      "source": [
        "plt.figure(figsize = (16, 10)) \n",
        "sns.heatmap(train_df_base.corr('pearson'), annot=True, fmt='.2f', cmap='Blues');"
      ],
      "execution_count": null,
      "outputs": [
        {
          "output_type": "display_data",
          "data": {
            "image/png": "[encoded data removed]",
            "text/plain": [
              "<Figure size 1152x720 with 2 Axes>"
            ]
          },
          "metadata": {
            "tags": [],
            "needs_background": "light"
          }
        }
      ]
    },
    {
      "cell_type": "markdown",
      "metadata": {
        "id": "W6jlqrJ9KRD0"
      },
      "source": [
        "Так что гиперпараметры лучше подбирать на кросс-валидации, сильнее регуляризовать модель и сделать какой-нибудь отбор признаков. "
      ]
    },
    {
      "cell_type": "markdown",
      "metadata": {
        "id": "-bj1XHGpjTh2"
      },
      "source": [
        "## Исправленные данные"
      ]
    },
    {
      "cell_type": "code",
      "metadata": {
        "id": "l5rVLuE1jZYY"
      },
      "source": [
        "train_df_fixed = pd.read_csv(os.path.join(PATH_TO_DATA, 'train_data_fixed.csv'), index_col='user_id').iloc[:, :-1]"
      ],
      "execution_count": null,
      "outputs": []
    },
    {
      "cell_type": "code",
      "metadata": {
        "colab": {
          "base_uri": "https://localhost:8080/"
        },
        "id": "wLOGToqGjjAS",
        "outputId": "5ef9aeb4-0341-400b-ee40-ab3a1885dbfe"
      },
      "source": [
        "test_model(rf, train_df_fixed, targets)"
      ],
      "execution_count": null,
      "outputs": [
        {
          "output_type": "stream",
          "text": [
            "ROC-AUC на тренировочной выборке:\t 0.8950593880484992\n",
            "ROC-AUC на тестовой выборке:\t 0.8255990994036195\n",
            "\n",
            "Feature importances of the model:\n",
            "correct            0.248533\n",
            "passed             0.205811\n",
            "discovered         0.160892\n",
            "started_attempt    0.154090\n",
            "viewed             0.152554\n",
            "wrong              0.056051\n",
            "num_days           0.022069\n",
            "dtype: float64\n",
            "\n",
            "\n",
            "Mean CV score: 0.8314164722749735\n",
            "Std of CV scores: 0.011955331196729948\n"
          ],
          "name": "stdout"
        }
      ]
    },
    {
      "cell_type": "code",
      "metadata": {
        "colab": {
          "base_uri": "https://localhost:8080/",
          "height": 347
        },
        "id": "WCpZ8naw9C-k",
        "outputId": "786c5793-995b-40e5-d380-4ef9c65088aa"
      },
      "source": [
        "plot_learning_curve(rf, 'Learning curve (rf)', train_df_fixed, targets, scoring='roc_auc', train_sizes=np.linspace(0.1, 1, 10), n_jobs=-1)"
      ],
      "execution_count": null,
      "outputs": [
        {
          "output_type": "display_data",
          "data": {
            "image/png": "[encoded data removed]",
            "text/plain": [
              "<Figure size 1440x360 with 3 Axes>"
            ]
          },
          "metadata": {
            "tags": [],
            "needs_background": "light"
          }
        }
      ]
    },
    {
      "cell_type": "markdown",
      "metadata": {
        "id": "t8j7kNoc0PJs"
      },
      "source": [
        "## Неправильно подготовленные данные\n",
        "\n",
        "Попробуем также обучить модель на неправильно подготовленных данных (см. прошлую тетрадку)"
      ]
    },
    {
      "cell_type": "code",
      "metadata": {
        "id": "BpzSXVSTB6_u"
      },
      "source": [
        "train_df_wrong = pd.read_csv(os.path.join(PATH_TO_DATA, 'train_data_wrong.csv'), index_col='user_id')"
      ],
      "execution_count": null,
      "outputs": []
    },
    {
      "cell_type": "code",
      "metadata": {
        "colab": {
          "base_uri": "https://localhost:8080/"
        },
        "id": "ljVPZ0e4ziFz",
        "outputId": "6cc1fb59-f06d-4c2e-afca-1d05248ffcd1"
      },
      "source": [
        "test_model(rf, train_df_wrong, targets)"
      ],
      "execution_count": null,
      "outputs": [
        {
          "output_type": "stream",
          "text": [
            "ROC-AUC на тренировочной выборке:\t 0.9357149340191023\n",
            "ROC-AUC на тестовой выборке:\t 0.8794188449204776\n",
            "\n",
            "Feature importances of the model:\n",
            "correct            0.358772\n",
            "passed             0.163924\n",
            "started_attempt    0.121322\n",
            "discovered         0.109931\n",
            "wrong              0.107266\n",
            "viewed             0.082481\n",
            "num_days           0.056304\n",
            "dtype: float64\n",
            "\n",
            "\n",
            "Mean CV score: 0.8855648894273331\n",
            "Std of CV scores: 0.005418325979621504\n"
          ],
          "name": "stdout"
        }
      ]
    },
    {
      "cell_type": "code",
      "metadata": {
        "colab": {
          "base_uri": "https://localhost:8080/"
        },
        "id": "bnf1t7OEHQAE",
        "outputId": "6da383e6-26ef-41bf-b42c-362a41a44d2b"
      },
      "source": [
        "test_model(rf, train_df_wrong[['correct', 'discovered', 'passed', 'viewed', 'wrong', 'started_attempt']], targets)"
      ],
      "execution_count": null,
      "outputs": [
        {
          "output_type": "stream",
          "text": [
            "ROC-AUC на тренировочной выборке:\t 0.933435549912629\n",
            "ROC-AUC на тестовой выборке:\t 0.8674559621890606\n",
            "\n",
            "Feature importances of the model:\n",
            "correct            0.419533\n",
            "passed             0.173663\n",
            "wrong              0.128900\n",
            "started_attempt    0.118259\n",
            "discovered         0.092120\n",
            "viewed             0.067525\n",
            "dtype: float64\n",
            "\n",
            "\n",
            "Mean CV score: 0.8819040079348245\n",
            "Std of CV scores: 0.006052523500850674\n"
          ],
          "name": "stdout"
        }
      ]
    },
    {
      "cell_type": "code",
      "metadata": {
        "id": "F4PJPIe8XUNZ"
      },
      "source": [
        "rf.random_state = 42"
      ],
      "execution_count": null,
      "outputs": []
    },
    {
      "cell_type": "code",
      "metadata": {
        "colab": {
          "base_uri": "https://localhost:8080/",
          "height": 347
        },
        "id": "TewotPa02NFW",
        "outputId": "89bfdf56-3567-4024-8fd7-e737cfea6b88"
      },
      "source": [
        "plot_learning_curve(rf, 'Learning curve (rf)', train_df_wrong, targets, scoring='roc_auc', train_sizes=np.linspace(0.1, 1, 10), n_jobs=-1)"
      ],
      "execution_count": null,
      "outputs": [
        {
          "output_type": "display_data",
          "data": {
            "image/png": "[encoded data removed]",
            "text/plain": [
              "<Figure size 1440x360 with 3 Axes>"
            ]
          },
          "metadata": {
            "tags": [],
            "needs_background": "light"
          }
        }
      ]
    },
    {
      "cell_type": "markdown",
      "metadata": {
        "id": "f9VM57dwXYaq"
      },
      "source": [
        "У модели, обученной на неправильно построенных признаках, метрики выше. Но это и понятно, та модель прямо берет данные из будущего."
      ]
    },
    {
      "cell_type": "markdown",
      "metadata": {
        "id": "sXfOJ5xNi8xz"
      },
      "source": [
        "\n",
        "Отбор юзеров?"
      ]
    },
    {
      "cell_type": "code",
      "metadata": {
        "id": "l_aSuagBlp2z"
      },
      "source": [
        "handpicked_outlier_users = np.loadtxt(os.path.join(PATH_TO_DATA, 'handpicked_outlier_users.txt'), dtype=int)\n",
        "forest_outlier_users = np.loadtxt(os.path.join(PATH_TO_DATA, 'forest_outlier_users.txt'), dtype=int)"
      ],
      "execution_count": null,
      "outputs": []
    },
    {
      "cell_type": "code",
      "metadata": {
        "id": "DJ3oMI8Jmubo"
      },
      "source": [
        "def exclude_entries(df, index_subset):\n",
        "  return df[~df.index.isin(index_subset)]"
      ],
      "execution_count": null,
      "outputs": []
    },
    {
      "cell_type": "code",
      "metadata": {
        "colab": {
          "base_uri": "https://localhost:8080/"
        },
        "id": "PtGdz7gZ05qn",
        "outputId": "a5ca49d9-7dd6-4077-caf4-f9211aec28f3"
      },
      "source": [
        "rf = RandomForestClassifier(\n",
        "    n_estimators=300,\n",
        "    min_samples_leaf=10,\n",
        "    min_samples_split=10,\n",
        "    class_weight='balanced',\n",
        "    random_state=42,\n",
        "    n_jobs=-1,\n",
        ")\n",
        "\n",
        "test_model(rf, exclude_entries(train_df_base, handpicked_outlier_users), exclude_entries(targets, handpicked_outlier_users))"
      ],
      "execution_count": null,
      "outputs": [
        {
          "output_type": "stream",
          "text": [
            "ROC-AUC на тренировочной выборке:\t 0.8960314527877005\n",
            "ROC-AUC на тестовой выборке:\t 0.826634131913635\n",
            "\n",
            "Feature importances of the model:\n",
            "correct            0.259602\n",
            "passed             0.222285\n",
            "discovered         0.170039\n",
            "started_attempt    0.153320\n",
            "viewed             0.119093\n",
            "wrong              0.055501\n",
            "num_days           0.020161\n",
            "dtype: float64\n",
            "\n",
            "\n",
            "Mean CV score: 0.8319723356027227\n",
            "Std of CV scores: 0.01254023055403532\n"
          ],
          "name": "stdout"
        }
      ]
    },
    {
      "cell_type": "code",
      "metadata": {
        "id": "jeQs6OQ54Liz"
      },
      "source": [
        ""
      ],
      "execution_count": null,
      "outputs": []
    },
    {
      "cell_type": "code",
      "metadata": {
        "colab": {
          "base_uri": "https://localhost:8080/"
        },
        "id": "qirhpm9y38Eb",
        "outputId": "19d1a05c-fffe-42ae-8948-c178d59f9197"
      },
      "source": [
        "test_model(rf, exclude_entries(train_df_base, forest_outlier_users), exclude_entries(targets, forest_outlier_users))"
      ],
      "execution_count": null,
      "outputs": [
        {
          "output_type": "stream",
          "text": [
            "ROC-AUC на тренировочной выборке:\t 0.8563806674657675\n",
            "ROC-AUC на тестовой выборке:\t 0.7787644244300591\n",
            "\n",
            "Feature importances of the model:\n",
            "passed             0.248530\n",
            "correct            0.206453\n",
            "discovered         0.193351\n",
            "viewed             0.177377\n",
            "started_attempt    0.108691\n",
            "wrong              0.043261\n",
            "num_days           0.022337\n",
            "dtype: float64\n",
            "\n",
            "\n",
            "Mean CV score: 0.7569601201582553\n",
            "Std of CV scores: 0.01289985819100818\n"
          ],
          "name": "stdout"
        }
      ]
    },
    {
      "cell_type": "code",
      "metadata": {
        "id": "GZ17JDQZ31YO"
      },
      "source": [
        ""
      ],
      "execution_count": null,
      "outputs": []
    },
    {
      "cell_type": "markdown",
      "metadata": {
        "id": "K0KpIWVn-iXB"
      },
      "source": [
        "# Построение и отбор признаков"
      ]
    },
    {
      "cell_type": "markdown",
      "metadata": {
        "id": "f_xHmHaYBacn"
      },
      "source": [
        "Сгенерируем признаки, которые должны отличать людей, которые пройдут курс от тех, которые не пройдут и проверим, действительно ли они отличают.\n",
        "\n",
        "Можно выделить два (пересекающихся) типа поведения в первые два дня, при которых можно сделать вывод, что участник курса покидает его:\n",
        "\n",
        "1. Пришел на курс, быстро понял, что \"не его\", и ушел. Это можно описать, например, следующими признаками:\n",
        "- Число уникальных дней активности\n",
        "- Большая разница между активностями в первый и во второй день\n",
        "- Общее число часов, которые пользователь провел на курсе\n",
        "\n",
        "\n",
        "2. Пришел на курс, понял, что не получается, и ушел. Это можно описать, например, следующими признаками:\n",
        "- Не получилось решить какие-то конкретные степы (например, самые сложные или те, на которых заканчивает участвовать в курсе много людей)\n",
        "- Число неудачных решений задач (```started_attempt - correct```)\n",
        "- Число просмотренных, но не пройденных задач (```evn_steps - passed```)\n",
        "- Отношение числа пройденных степов к общему числу степов\n",
        "- Процент удачных решений\n"
      ]
    },
    {
      "cell_type": "code",
      "metadata": {
        "id": "AgNQsmL1ADnx",
        "colab": {
          "base_uri": "https://localhost:8080/",
          "height": 202
        },
        "outputId": "c470deb2-259a-440e-e54f-9697c29621bc"
      },
      "source": [
        "events = pd.read_csv(os.path.join(PATH_TO_DATA, 'events_data_train.zip'))\n",
        "submissions = pd.read_csv(os.path.join(PATH_TO_DATA, 'submissions_data_train.zip'))\n",
        "\n",
        "events_test = pd.read_csv(os.path.join(PATH_TO_DATA, 'events_data_test.zip'))\n",
        "submissions_test = pd.read_csv(os.path.join(PATH_TO_DATA, 'submissions_data_test.zip'))\n",
        "\n",
        "events['time'] = pd.to_datetime(events.timestamp, unit='s')\n",
        "submissions['time'] = pd.to_datetime(submissions.timestamp, unit='s')\n",
        "\n",
        "events_test['time'] = pd.to_datetime(events_test.timestamp, unit='s')\n",
        "submissions_test['time'] = pd.to_datetime(submissions_test.timestamp, unit='s')\n",
        "\n",
        "events_2d, submissions_2d = cut_dfs_by_time(events, submissions)\n",
        "events_test, submissions_test_2d = cut_dfs_by_time(events_test, submissions_test)\n",
        "\n",
        "all_actions_2d = create_interaction(events_2d, submissions_2d)\n",
        "all_actions_test = create_interaction(events_test, submissions_test)\n",
        "\n",
        "all_actions_2d.head()"
      ],
      "execution_count": null,
      "outputs": [
        {
          "output_type": "execute_result",
          "data": {
            "text/html": [
              "<div>\n",
              "<style scoped>\n",
              "    .dataframe tbody tr th:only-of-type {\n",
              "        vertical-align: middle;\n",
              "    }\n",
              "\n",
              "    .dataframe tbody tr th {\n",
              "        vertical-align: top;\n",
              "    }\n",
              "\n",
              "    .dataframe thead th {\n",
              "        text-align: right;\n",
              "    }\n",
              "</style>\n",
              "<table border=\"1\" class=\"dataframe\">\n",
              "  <thead>\n",
              "    <tr style=\"text-align: right;\">\n",
              "      <th></th>\n",
              "      <th>step_id</th>\n",
              "      <th>timestamp</th>\n",
              "      <th>action</th>\n",
              "      <th>user_id</th>\n",
              "      <th>time</th>\n",
              "    </tr>\n",
              "  </thead>\n",
              "  <tbody>\n",
              "    <tr>\n",
              "      <th>1596009</th>\n",
              "      <td>31981</td>\n",
              "      <td>1472827464</td>\n",
              "      <td>discovered</td>\n",
              "      <td>1</td>\n",
              "      <td>2016-09-02 14:44:24</td>\n",
              "    </tr>\n",
              "    <tr>\n",
              "      <th>1596008</th>\n",
              "      <td>31981</td>\n",
              "      <td>1472827464</td>\n",
              "      <td>viewed</td>\n",
              "      <td>1</td>\n",
              "      <td>2016-09-02 14:44:24</td>\n",
              "    </tr>\n",
              "    <tr>\n",
              "      <th>3040121</th>\n",
              "      <td>32815</td>\n",
              "      <td>1514383364</td>\n",
              "      <td>discovered</td>\n",
              "      <td>2</td>\n",
              "      <td>2017-12-27 14:02:44</td>\n",
              "    </tr>\n",
              "    <tr>\n",
              "      <th>3040123</th>\n",
              "      <td>32815</td>\n",
              "      <td>1514383364</td>\n",
              "      <td>passed</td>\n",
              "      <td>2</td>\n",
              "      <td>2017-12-27 14:02:44</td>\n",
              "    </tr>\n",
              "    <tr>\n",
              "      <th>3040122</th>\n",
              "      <td>32815</td>\n",
              "      <td>1514383364</td>\n",
              "      <td>viewed</td>\n",
              "      <td>2</td>\n",
              "      <td>2017-12-27 14:02:44</td>\n",
              "    </tr>\n",
              "  </tbody>\n",
              "</table>\n",
              "</div>"
            ],
            "text/plain": [
              "         step_id   timestamp      action  user_id                time\n",
              "1596009    31981  1472827464  discovered        1 2016-09-02 14:44:24\n",
              "1596008    31981  1472827464      viewed        1 2016-09-02 14:44:24\n",
              "3040121    32815  1514383364  discovered        2 2017-12-27 14:02:44\n",
              "3040123    32815  1514383364      passed        2 2017-12-27 14:02:44\n",
              "3040122    32815  1514383364      viewed        2 2017-12-27 14:02:44"
            ]
          },
          "metadata": {
            "tags": []
          },
          "execution_count": 119
        }
      ]
    },
    {
      "cell_type": "markdown",
      "metadata": {
        "id": "Y_6S10-bdIQj"
      },
      "source": [
        "## Пользователи, которые быстро ушли"
      ]
    },
    {
      "cell_type": "markdown",
      "metadata": {
        "id": "UlChoCLbd-zh"
      },
      "source": [
        "\n"
      ]
    },
    {
      "cell_type": "code",
      "metadata": {
        "id": "HP_0Ommed90z"
      },
      "source": [
        "def get_actions_difference(actions_df):\n",
        "  actions_by_day = get_action_counts_by_period(actions_df, 24, sum_only=True, drop_periods=True)\n",
        "  return (actions_by_day.iloc[:, 1] - actions_by_day.iloc[:, 0]).to_frame().rename(columns={0: 'act_diff_day'})"
      ],
      "execution_count": null,
      "outputs": []
    },
    {
      "cell_type": "code",
      "metadata": {
        "id": "Z9OIWi6Ru0jz"
      },
      "source": [
        "def plot_feature(feature, target_feature='passed_course', df=train_df_base, plot=sns.countplot, description=None):\n",
        "    fig, ax = plt.subplots(1, 2, figsize=(13, 8))\n",
        "    for i in [0, 1]:\n",
        "        plot(df.loc[df[target_feature] == i, feature], ax=ax[i])\n",
        "        ax[i].set_title('course' + ' not' * (1 - i) + ' passed')\n",
        "\n",
        "    if description is None:    \n",
        "        plt.suptitle(f'Distribution of {feature} according to the target feature')\n",
        "    else:\n",
        "        plt.suptitle(description);"
      ],
      "execution_count": null,
      "outputs": []
    },
    {
      "cell_type": "code",
      "metadata": {
        "colab": {
          "base_uri": "https://localhost:8080/",
          "height": 279
        },
        "id": "xsVokzdouBPP",
        "outputId": "6b66ef1d-ae72-454d-c254-a534e4cc5097"
      },
      "source": [
        "sns.distplot(get_actions_difference(all_actions_2d));\n",
        "plt.xlabel('Difference between number of actions in a day');"
      ],
      "execution_count": null,
      "outputs": [
        {
          "output_type": "display_data",
          "data": {
            "image/png": "[encoded data removed]",
            "text/plain": [
              "<Figure size 432x288 with 1 Axes>"
            ]
          },
          "metadata": {
            "tags": [],
            "needs_background": "light"
          }
        }
      ]
    },
    {
      "cell_type": "code",
      "metadata": {
        "id": "DoJP7jiXdWyB"
      },
      "source": [
        "def get_time_features(events, submissions):\n",
        "    events_tf = events.copy()\n",
        "    events_tf['hour'] = events.time.dt.floor('H')\n",
        "    events_tf = events_tf.groupby('user_id').agg({\n",
        "        'hour': 'nunique' # количество уникальных часов в events\n",
        "    }).rename(columns={'hour': 'uniq_hour_evn'})\n",
        "\n",
        "    submissions_tf = submissions.copy()\n",
        "    submissions_tf['hour'] = submissions.time.dt.floor('H')\n",
        "    submissions_tf = submissions_tf.groupby('user_id').agg({\n",
        "        'hour': 'nunique' # количество уникальных часов в submissions\n",
        "    }).rename(columns={'hour': 'uniq_hour_sub'})\n",
        "    \n",
        "    time_features_df = events_tf.merge(submissions_tf, on='user_id', how='outer').fillna(0).astype(int)\n",
        "    assert time_features_df.index.nunique() == events.user_id.nunique()\n",
        "    return time_features_df"
      ],
      "execution_count": null,
      "outputs": []
    },
    {
      "cell_type": "code",
      "metadata": {
        "colab": {
          "base_uri": "https://localhost:8080/"
        },
        "id": "NphyCe9CzrtI",
        "outputId": "0b481cf6-2a8a-42ff-c5f7-c2cd2f416ada"
      },
      "source": [
        "stats.spearmanr(get_time_features(events_2d, submissions_2d).uniq_hour_evn, train_df_base.num_days)"
      ],
      "execution_count": null,
      "outputs": [
        {
          "output_type": "execute_result",
          "data": {
            "text/plain": [
              "SpearmanrResult(correlation=0.7885797865092311, pvalue=0.0)"
            ]
          },
          "metadata": {
            "tags": []
          },
          "execution_count": 153
        }
      ]
    },
    {
      "cell_type": "code",
      "metadata": {
        "colab": {
          "base_uri": "https://localhost:8080/"
        },
        "id": "Dqi__1ZQ0ehG",
        "outputId": "e0852048-458a-4f38-b454-b2a3abae347a"
      },
      "source": [
        "stats.spearmanr(get_time_features(events_2d, submissions_2d).uniq_hour_evn, get_time_features(events_2d, submissions_2d).uniq_hour_sub)"
      ],
      "execution_count": null,
      "outputs": [
        {
          "output_type": "execute_result",
          "data": {
            "text/plain": [
              "SpearmanrResult(correlation=0.7507263071061162, pvalue=0.0)"
            ]
          },
          "metadata": {
            "tags": []
          },
          "execution_count": 303
        }
      ]
    },
    {
      "cell_type": "markdown",
      "metadata": {
        "id": "S9CQ9-f-dQUN"
      },
      "source": [
        "## Пользователи, которым надоело"
      ]
    },
    {
      "cell_type": "markdown",
      "metadata": {
        "id": "WiBfhCvs-iXC"
      },
      "source": [
        "Степы на которых чаще всего заканчивают прохождение курса:"
      ]
    },
    {
      "cell_type": "code",
      "metadata": {
        "id": "-7Di15pb3FFY"
      },
      "source": [
        "def get_last_actions(actions_df):\n",
        "  max_timestamps = actions_df.groupby('user_id')[['timestamp']].max().rename(columns={'timestamp': 'max_timestamp'})\n",
        "  last_actions = actions_df.merge(max_timestamps, on='user_id').\\\n",
        "    query('timestamp == max_timestamp').drop_duplicates(['user_id']).drop(columns='max_timestamp').set_index('user_id')\n",
        "  return last_actions"
      ],
      "execution_count": null,
      "outputs": []
    },
    {
      "cell_type": "code",
      "metadata": {
        "colab": {
          "base_uri": "https://localhost:8080/"
        },
        "id": "PSVeFN8Q3d2n",
        "outputId": "7acfccb6-f703-49df-d3bf-3b6626449bd1"
      },
      "source": [
        "last_actions = get_last_actions(all_actions_2d) \n",
        "last_actions.step_id.value_counts().head(10)"
      ],
      "execution_count": null,
      "outputs": [
        {
          "output_type": "execute_result",
          "data": {
            "text/plain": [
              "32815     1663\n",
              "32927     1375\n",
              "32191     1246\n",
              "32950      736\n",
              "32816      667\n",
              "32979      558\n",
              "31956      543\n",
              "31978      526\n",
              "32176      423\n",
              "120745     335\n",
              "Name: step_id, dtype: int64"
            ]
          },
          "metadata": {
            "tags": []
          },
          "execution_count": 241
        }
      ]
    },
    {
      "cell_type": "code",
      "metadata": {
        "colab": {
          "base_uri": "https://localhost:8080/"
        },
        "id": "Ad_3NEEnNPqM",
        "outputId": "f14975fc-dc7d-4282-c346-68909777e4e9"
      },
      "source": [
        "targets.loc[last_actions.query('step_id == 32815').index].value_counts()"
      ],
      "execution_count": null,
      "outputs": [
        {
          "output_type": "execute_result",
          "data": {
            "text/plain": [
              "passed_course\n",
              "0                1593\n",
              "1                  70\n",
              "dtype: int64"
            ]
          },
          "metadata": {
            "tags": []
          },
          "execution_count": 274
        }
      ]
    },
    {
      "cell_type": "code",
      "metadata": {
        "colab": {
          "base_uri": "https://localhost:8080/"
        },
        "id": "p2bEoXexTUDo",
        "outputId": "4b81d2cc-2192-445d-e965-143204c50764"
      },
      "source": [
        "train_df_base.loc[last_actions.query('step_id == 32815').index].sum(axis=1).value_counts().head(10)"
      ],
      "execution_count": null,
      "outputs": [
        {
          "output_type": "execute_result",
          "data": {
            "text/plain": [
              "4     1298\n",
              "7       59\n",
              "5       47\n",
              "6       38\n",
              "8       35\n",
              "10      21\n",
              "9       14\n",
              "11      11\n",
              "12      10\n",
              "32       8\n",
              "dtype: int64"
            ]
          },
          "metadata": {
            "tags": []
          },
          "execution_count": 304
        }
      ]
    },
    {
      "cell_type": "code",
      "metadata": {
        "colab": {
          "base_uri": "https://localhost:8080/",
          "height": 415
        },
        "id": "5ieou0JLhn4m",
        "outputId": "caa83183-cee7-4eb5-e85e-7f1551e48355"
      },
      "source": [
        "get_users(all_actions_2d)"
      ],
      "execution_count": null,
      "outputs": [
        {
          "output_type": "execute_result",
          "data": {
            "text/html": [
              "<div>\n",
              "<style scoped>\n",
              "    .dataframe tbody tr th:only-of-type {\n",
              "        vertical-align: middle;\n",
              "    }\n",
              "\n",
              "    .dataframe tbody tr th {\n",
              "        vertical-align: top;\n",
              "    }\n",
              "\n",
              "    .dataframe thead th {\n",
              "        text-align: right;\n",
              "    }\n",
              "</style>\n",
              "<table border=\"1\" class=\"dataframe\">\n",
              "  <thead>\n",
              "    <tr style=\"text-align: right;\">\n",
              "      <th></th>\n",
              "      <th>user_id</th>\n",
              "    </tr>\n",
              "  </thead>\n",
              "  <tbody>\n",
              "    <tr>\n",
              "      <th>0</th>\n",
              "      <td>1</td>\n",
              "    </tr>\n",
              "    <tr>\n",
              "      <th>1</th>\n",
              "      <td>2</td>\n",
              "    </tr>\n",
              "    <tr>\n",
              "      <th>2</th>\n",
              "      <td>3</td>\n",
              "    </tr>\n",
              "    <tr>\n",
              "      <th>3</th>\n",
              "      <td>5</td>\n",
              "    </tr>\n",
              "    <tr>\n",
              "      <th>4</th>\n",
              "      <td>7</td>\n",
              "    </tr>\n",
              "    <tr>\n",
              "      <th>...</th>\n",
              "      <td>...</td>\n",
              "    </tr>\n",
              "    <tr>\n",
              "      <th>19229</th>\n",
              "      <td>26790</td>\n",
              "    </tr>\n",
              "    <tr>\n",
              "      <th>19230</th>\n",
              "      <td>26793</td>\n",
              "    </tr>\n",
              "    <tr>\n",
              "      <th>19231</th>\n",
              "      <td>26794</td>\n",
              "    </tr>\n",
              "    <tr>\n",
              "      <th>19232</th>\n",
              "      <td>26797</td>\n",
              "    </tr>\n",
              "    <tr>\n",
              "      <th>19233</th>\n",
              "      <td>26798</td>\n",
              "    </tr>\n",
              "  </tbody>\n",
              "</table>\n",
              "<p>19234 rows × 1 columns</p>\n",
              "</div>"
            ],
            "text/plain": [
              "       user_id\n",
              "0            1\n",
              "1            2\n",
              "2            3\n",
              "3            5\n",
              "4            7\n",
              "...        ...\n",
              "19229    26790\n",
              "19230    26793\n",
              "19231    26794\n",
              "19232    26797\n",
              "19233    26798\n",
              "\n",
              "[19234 rows x 1 columns]"
            ]
          },
          "metadata": {
            "tags": []
          },
          "execution_count": 306
        }
      ]
    },
    {
      "cell_type": "code",
      "metadata": {
        "id": "KmgRnVeSg_qE"
      },
      "source": [
        "def get_last_action_features(step_ids, actions_df, feature_name):\n",
        "  users = get_users(actions_df)\n",
        "  last_actions = get_last_actions(actions_df)\n",
        "  \n",
        "  selected_users = last_actions[last_actions.step_id.isin(step_ids)].index\n",
        "  users[feature_name] = users.user_id.isin(selected_users).astype(int).set_index('user_id')\n",
        "\n",
        "  return users\n"
      ],
      "execution_count": null,
      "outputs": []
    },
    {
      "cell_type": "code",
      "metadata": {
        "colab": {
          "base_uri": "https://localhost:8080/"
        },
        "id": "gVvO2AOW7xgX",
        "outputId": "c542333e-1d9a-489d-83aa-1f562b05eb07"
      },
      "source": [
        "# номера степов, действия с которыми чаще всего совершаются перед уходом с курса\n",
        "top_last_actions = last_actions.step_id.value_counts().head(10).index\n",
        "# пользователи, завершающие взаимодействие с курсом на этих степах\n",
        "users_with_last_actions_in_top_last_actions = last_actions[last_actions.step_id.isin(top_last_actions)].index\n",
        "# сколько из них закончили\n",
        "targets.loc[users_with_last_actions_in_top_last_actions].value_counts()"
      ],
      "execution_count": null,
      "outputs": [
        {
          "output_type": "execute_result",
          "data": {
            "text/plain": [
              "passed_course\n",
              "0                7379\n",
              "1                 693\n",
              "dtype: int64"
            ]
          },
          "metadata": {
            "tags": []
          },
          "execution_count": 242
        }
      ]
    },
    {
      "cell_type": "code",
      "metadata": {
        "id": "Dlz3rJdl-iXC",
        "colab": {
          "base_uri": "https://localhost:8080/"
        },
        "outputId": "d1e74ae2-bd01-43c6-bb8e-a55a3430be9f"
      },
      "source": [
        "last_submissions = get_last_actions(submissions_2d)\n",
        "last_submissions.step_id.value_counts().head()"
      ],
      "execution_count": null,
      "outputs": [
        {
          "output_type": "execute_result",
          "data": {
            "text/plain": [
              "32812    3413\n",
              "31978    1338\n",
              "32929     441\n",
              "31977     440\n",
              "32175     387\n",
              "Name: step_id, dtype: int64"
            ]
          },
          "metadata": {
            "tags": []
          },
          "execution_count": 213
        }
      ]
    },
    {
      "cell_type": "code",
      "metadata": {
        "colab": {
          "base_uri": "https://localhost:8080/"
        },
        "id": "gx7jC8QWXbpQ",
        "outputId": "2b36c755-2757-44e4-be99-c3fd22b3321b"
      },
      "source": [
        "targets.loc[last_submissions.query('step_id == 32812').index].value_counts()"
      ],
      "execution_count": null,
      "outputs": [
        {
          "output_type": "execute_result",
          "data": {
            "text/plain": [
              "passed_course\n",
              "0                3051\n",
              "1                 362\n",
              "dtype: int64"
            ]
          },
          "metadata": {
            "tags": []
          },
          "execution_count": 267
        }
      ]
    },
    {
      "cell_type": "markdown",
      "metadata": {
        "id": "eRfSphqd-iXD"
      },
      "source": [
        "Самые сложные степы по доле верных решений:"
      ]
    },
    {
      "cell_type": "code",
      "metadata": {
        "id": "uFYwNLtK-iXE"
      },
      "source": [
        "steps_submissions = submissions_2d.pivot_table(\n",
        "    index='step_id',\n",
        "    columns='submission_status',\n",
        "    values='timestamp',\n",
        "    aggfunc='count',\n",
        "    fill_value=0\n",
        ")\n",
        "steps_submissions['correct_rate'] = steps_submissions.correct / (steps_submissions.correct + steps_submissions.wrong)"
      ],
      "execution_count": null,
      "outputs": []
    },
    {
      "cell_type": "code",
      "metadata": {
        "colab": {
          "base_uri": "https://localhost:8080/",
          "height": 263
        },
        "id": "ETwTQvoyUttd",
        "outputId": "d8250bfb-4e68-49ba-a958-1c278ad82611"
      },
      "source": [
        "hard_steps = steps_submissions.sort_values(by='correct_rate', ascending=True).head(20)\n",
        "hard_steps = hard_steps.query('correct + wrong > 2000')\n",
        "hard_steps"
      ],
      "execution_count": null,
      "outputs": [
        {
          "output_type": "execute_result",
          "data": {
            "text/html": [
              "<div>\n",
              "<style scoped>\n",
              "    .dataframe tbody tr th:only-of-type {\n",
              "        vertical-align: middle;\n",
              "    }\n",
              "\n",
              "    .dataframe tbody tr th {\n",
              "        vertical-align: top;\n",
              "    }\n",
              "\n",
              "    .dataframe thead th {\n",
              "        text-align: right;\n",
              "    }\n",
              "</style>\n",
              "<table border=\"1\" class=\"dataframe\">\n",
              "  <thead>\n",
              "    <tr style=\"text-align: right;\">\n",
              "      <th>submission_status</th>\n",
              "      <th>correct</th>\n",
              "      <th>wrong</th>\n",
              "      <th>correct_rate</th>\n",
              "    </tr>\n",
              "    <tr>\n",
              "      <th>step_id</th>\n",
              "      <th></th>\n",
              "      <th></th>\n",
              "      <th></th>\n",
              "    </tr>\n",
              "  </thead>\n",
              "  <tbody>\n",
              "    <tr>\n",
              "      <th>32202</th>\n",
              "      <td>1008</td>\n",
              "      <td>2890</td>\n",
              "      <td>0.258594</td>\n",
              "    </tr>\n",
              "    <tr>\n",
              "      <th>32031</th>\n",
              "      <td>1739</td>\n",
              "      <td>4201</td>\n",
              "      <td>0.292761</td>\n",
              "    </tr>\n",
              "    <tr>\n",
              "      <th>32206</th>\n",
              "      <td>847</td>\n",
              "      <td>1914</td>\n",
              "      <td>0.306773</td>\n",
              "    </tr>\n",
              "    <tr>\n",
              "      <th>31978</th>\n",
              "      <td>3195</td>\n",
              "      <td>6924</td>\n",
              "      <td>0.315743</td>\n",
              "    </tr>\n",
              "    <tr>\n",
              "      <th>32075</th>\n",
              "      <td>1266</td>\n",
              "      <td>2342</td>\n",
              "      <td>0.350887</td>\n",
              "    </tr>\n",
              "    <tr>\n",
              "      <th>32174</th>\n",
              "      <td>1666</td>\n",
              "      <td>2470</td>\n",
              "      <td>0.402805</td>\n",
              "    </tr>\n",
              "  </tbody>\n",
              "</table>\n",
              "</div>"
            ],
            "text/plain": [
              "submission_status  correct  wrong  correct_rate\n",
              "step_id                                        \n",
              "32202                 1008   2890      0.258594\n",
              "32031                 1739   4201      0.292761\n",
              "32206                  847   1914      0.306773\n",
              "31978                 3195   6924      0.315743\n",
              "32075                 1266   2342      0.350887\n",
              "32174                 1666   2470      0.402805"
            ]
          },
          "metadata": {
            "tags": []
          },
          "execution_count": 292
        }
      ]
    },
    {
      "cell_type": "code",
      "metadata": {
        "colab": {
          "base_uri": "https://localhost:8080/"
        },
        "id": "lBb_MOzUVyg3",
        "outputId": "1a47f813-49c0-43b3-c924-ac74f22f2bf5"
      },
      "source": [
        "hard_steps.index"
      ],
      "execution_count": null,
      "outputs": [
        {
          "output_type": "execute_result",
          "data": {
            "text/plain": [
              "Int64Index([32202, 32031, 32206, 31978, 32075, 32174], dtype='int64', name='step_id')"
            ]
          },
          "metadata": {
            "tags": []
          },
          "execution_count": 289
        }
      ]
    },
    {
      "cell_type": "code",
      "metadata": {
        "colab": {
          "base_uri": "https://localhost:8080/"
        },
        "id": "Jo50zWU__gT6",
        "outputId": "ed65ea18-a053-4a08-d177-d0e42bd123f4"
      },
      "source": [
        "steps_submissions.correct.sort_values(ascending=False).head(10)"
      ],
      "execution_count": null,
      "outputs": [
        {
          "output_type": "execute_result",
          "data": {
            "text/plain": [
              "step_id\n",
              "32929     8038\n",
              "32812     7459\n",
              "32219     4418\n",
              "31977     4280\n",
              "31976     3907\n",
              "31972     3803\n",
              "31971     3467\n",
              "31978     3195\n",
              "120745    2775\n",
              "32175     1769\n",
              "Name: correct, dtype: int64"
            ]
          },
          "metadata": {
            "tags": []
          },
          "execution_count": 228
        }
      ]
    },
    {
      "cell_type": "code",
      "metadata": {
        "colab": {
          "base_uri": "https://localhost:8080/"
        },
        "id": "Yvhdunh7I9mc",
        "outputId": "5481c385-7bf0-4e11-bb39-ad14a6ce668f"
      },
      "source": [
        "steps_submissions.wrong.sort_values(ascending=False).head(10)"
      ],
      "execution_count": null,
      "outputs": [
        {
          "output_type": "execute_result",
          "data": {
            "text/plain": [
              "step_id\n",
              "31978    6924\n",
              "31972    4791\n",
              "32031    4201\n",
              "31977    3845\n",
              "32812    3664\n",
              "31976    3181\n",
              "31971    3111\n",
              "32202    2890\n",
              "32174    2470\n",
              "32075    2342\n",
              "Name: wrong, dtype: int64"
            ]
          },
          "metadata": {
            "tags": []
          },
          "execution_count": 229
        }
      ]
    },
    {
      "cell_type": "code",
      "metadata": {
        "id": "JBbNAwq5cFzz"
      },
      "source": [
        "def get_correct_ratio(df):\n",
        "    \"\"\"Создание фичи с долей правильных ответов\"\"\"\n",
        "    df['correct_ratio'] = (df.correct / (df.correct + df.wrong)).fillna(-1)\n",
        "    \n",
        "    return df"
      ],
      "execution_count": null,
      "outputs": []
    },
    {
      "cell_type": "code",
      "metadata": {
        "id": "-fQfzJbstx-8"
      },
      "source": [
        "def get_step_count(df, name):\n",
        "    step_count = df.groupby('user_id', as_index=False)[['step_id']].nunique().rename(columns={'step_id': name})\n",
        "    \n",
        "    return step_count"
      ],
      "execution_count": null,
      "outputs": []
    },
    {
      "cell_type": "code",
      "metadata": {
        "colab": {
          "base_uri": "https://localhost:8080/",
          "height": 446
        },
        "id": "FmmXXDcmWqtG",
        "outputId": "7bfdb011-5cd7-4004-e374-aba9cd8f7c69"
      },
      "source": [
        "ohe_step = pd.get_dummies(\n",
        "    submissions_2d[(submissions_2d.submission_status == 'correct')\n",
        "      & (submissions_2d.step_id.isin(hard_steps.index))],\n",
        "      columns=['step_id']\n",
        "    )\n",
        "ohe_step.groupby('user_id').sum().iloc[:, -6:]"
      ],
      "execution_count": null,
      "outputs": [
        {
          "output_type": "execute_result",
          "data": {
            "text/html": [
              "<div>\n",
              "<style scoped>\n",
              "    .dataframe tbody tr th:only-of-type {\n",
              "        vertical-align: middle;\n",
              "    }\n",
              "\n",
              "    .dataframe tbody tr th {\n",
              "        vertical-align: top;\n",
              "    }\n",
              "\n",
              "    .dataframe thead th {\n",
              "        text-align: right;\n",
              "    }\n",
              "</style>\n",
              "<table border=\"1\" class=\"dataframe\">\n",
              "  <thead>\n",
              "    <tr style=\"text-align: right;\">\n",
              "      <th></th>\n",
              "      <th>step_id_31978</th>\n",
              "      <th>step_id_32031</th>\n",
              "      <th>step_id_32075</th>\n",
              "      <th>step_id_32174</th>\n",
              "      <th>step_id_32202</th>\n",
              "      <th>step_id_32206</th>\n",
              "    </tr>\n",
              "    <tr>\n",
              "      <th>user_id</th>\n",
              "      <th></th>\n",
              "      <th></th>\n",
              "      <th></th>\n",
              "      <th></th>\n",
              "      <th></th>\n",
              "      <th></th>\n",
              "    </tr>\n",
              "  </thead>\n",
              "  <tbody>\n",
              "    <tr>\n",
              "      <th>16</th>\n",
              "      <td>1</td>\n",
              "      <td>1</td>\n",
              "      <td>1</td>\n",
              "      <td>1</td>\n",
              "      <td>1</td>\n",
              "      <td>1</td>\n",
              "    </tr>\n",
              "    <tr>\n",
              "      <th>22</th>\n",
              "      <td>1</td>\n",
              "      <td>1</td>\n",
              "      <td>1</td>\n",
              "      <td>1</td>\n",
              "      <td>0</td>\n",
              "      <td>0</td>\n",
              "    </tr>\n",
              "    <tr>\n",
              "      <th>26</th>\n",
              "      <td>1</td>\n",
              "      <td>0</td>\n",
              "      <td>0</td>\n",
              "      <td>0</td>\n",
              "      <td>0</td>\n",
              "      <td>0</td>\n",
              "    </tr>\n",
              "    <tr>\n",
              "      <th>34</th>\n",
              "      <td>1</td>\n",
              "      <td>0</td>\n",
              "      <td>0</td>\n",
              "      <td>0</td>\n",
              "      <td>0</td>\n",
              "      <td>0</td>\n",
              "    </tr>\n",
              "    <tr>\n",
              "      <th>43</th>\n",
              "      <td>1</td>\n",
              "      <td>0</td>\n",
              "      <td>0</td>\n",
              "      <td>0</td>\n",
              "      <td>0</td>\n",
              "      <td>0</td>\n",
              "    </tr>\n",
              "    <tr>\n",
              "      <th>...</th>\n",
              "      <td>...</td>\n",
              "      <td>...</td>\n",
              "      <td>...</td>\n",
              "      <td>...</td>\n",
              "      <td>...</td>\n",
              "      <td>...</td>\n",
              "    </tr>\n",
              "    <tr>\n",
              "      <th>26750</th>\n",
              "      <td>1</td>\n",
              "      <td>1</td>\n",
              "      <td>1</td>\n",
              "      <td>1</td>\n",
              "      <td>1</td>\n",
              "      <td>1</td>\n",
              "    </tr>\n",
              "    <tr>\n",
              "      <th>26755</th>\n",
              "      <td>1</td>\n",
              "      <td>1</td>\n",
              "      <td>1</td>\n",
              "      <td>1</td>\n",
              "      <td>0</td>\n",
              "      <td>0</td>\n",
              "    </tr>\n",
              "    <tr>\n",
              "      <th>26763</th>\n",
              "      <td>1</td>\n",
              "      <td>1</td>\n",
              "      <td>1</td>\n",
              "      <td>1</td>\n",
              "      <td>1</td>\n",
              "      <td>1</td>\n",
              "    </tr>\n",
              "    <tr>\n",
              "      <th>26777</th>\n",
              "      <td>1</td>\n",
              "      <td>0</td>\n",
              "      <td>0</td>\n",
              "      <td>0</td>\n",
              "      <td>0</td>\n",
              "      <td>0</td>\n",
              "    </tr>\n",
              "    <tr>\n",
              "      <th>26794</th>\n",
              "      <td>1</td>\n",
              "      <td>1</td>\n",
              "      <td>1</td>\n",
              "      <td>1</td>\n",
              "      <td>2</td>\n",
              "      <td>1</td>\n",
              "    </tr>\n",
              "  </tbody>\n",
              "</table>\n",
              "<p>3135 rows × 6 columns</p>\n",
              "</div>"
            ],
            "text/plain": [
              "         step_id_31978  step_id_32031  ...  step_id_32202  step_id_32206\n",
              "user_id                                ...                              \n",
              "16                   1              1  ...              1              1\n",
              "22                   1              1  ...              0              0\n",
              "26                   1              0  ...              0              0\n",
              "34                   1              0  ...              0              0\n",
              "43                   1              0  ...              0              0\n",
              "...                ...            ...  ...            ...            ...\n",
              "26750                1              1  ...              1              1\n",
              "26755                1              1  ...              0              0\n",
              "26763                1              1  ...              1              1\n",
              "26777                1              0  ...              0              0\n",
              "26794                1              1  ...              2              1\n",
              "\n",
              "[3135 rows x 6 columns]"
            ]
          },
          "metadata": {
            "tags": []
          },
          "execution_count": 301
        }
      ]
    },
    {
      "cell_type": "code",
      "metadata": {
        "id": "gCH187I-Bacp"
      },
      "source": [
        "def get_steps_ohe_features(step_ids, submissions):\n",
        "    \n",
        "    # прошел ли пользователь степы из step_ids\n",
        "    ohe_step = pd.get_dummies(\n",
        "        submissions[(submissions.submission_status == 'correct') \n",
        "                       & (submissions.step_id.isin(step_ids))], \n",
        "        columns=['step_id']\n",
        "    )\n",
        "    steps_features = ohe_step.groupby('user_id').sum().iloc[:, -len(step_ids):]\n",
        "    \n",
        "    return steps_features\n",
        "    \n",
        "\n",
        "def get_custom_features(df):\n",
        "    # отобранные фичи\n",
        "    df['dis_to_cor'] = df.discovered - df.correct # ???\n",
        "    df['loss_step'] = df.started_attempt - df.correct # число неверных решений степов (на самом деле нет)\n",
        "    df['step_pas'] = df.evn_steps - df.passed # число просмотренных, но не пройденных степов (на самом деле нет)\n",
        "    df['start_pas'] = df.started_attempt - df.passed # ???\n",
        "    df['all_sum'] = df[['correct', 'wrong', 'discovered', 'passed', 'started_attempt', 'viewed']].sum(axis=1)\n",
        "    df['all_pass'] = df.all_sum - df.evn_steps\n",
        "    \n",
        "    return df"
      ],
      "execution_count": null,
      "outputs": []
    },
    {
      "cell_type": "markdown",
      "metadata": {
        "id": "DjMzEfqDBacr"
      },
      "source": [
        ""
      ]
    },
    {
      "cell_type": "code",
      "metadata": {
        "colab": {
          "base_uri": "https://localhost:8080/",
          "height": 446
        },
        "id": "Mdlhjq5RcknL",
        "outputId": "83e5e758-1d25-4bbb-c2ac-18b151ed6d81"
      },
      "source": [
        "train_df_base.merge(get_time_features(events_2d, submissions_2d), on='user_id')"
      ],
      "execution_count": null,
      "outputs": [
        {
          "output_type": "execute_result",
          "data": {
            "text/html": [
              "<div>\n",
              "<style scoped>\n",
              "    .dataframe tbody tr th:only-of-type {\n",
              "        vertical-align: middle;\n",
              "    }\n",
              "\n",
              "    .dataframe tbody tr th {\n",
              "        vertical-align: top;\n",
              "    }\n",
              "\n",
              "    .dataframe thead th {\n",
              "        text-align: right;\n",
              "    }\n",
              "</style>\n",
              "<table border=\"1\" class=\"dataframe\">\n",
              "  <thead>\n",
              "    <tr style=\"text-align: right;\">\n",
              "      <th></th>\n",
              "      <th>discovered</th>\n",
              "      <th>passed</th>\n",
              "      <th>started_attempt</th>\n",
              "      <th>viewed</th>\n",
              "      <th>correct</th>\n",
              "      <th>wrong</th>\n",
              "      <th>num_days</th>\n",
              "      <th>uniq_hour_evn</th>\n",
              "      <th>uniq_hour_sub</th>\n",
              "    </tr>\n",
              "    <tr>\n",
              "      <th>user_id</th>\n",
              "      <th></th>\n",
              "      <th></th>\n",
              "      <th></th>\n",
              "      <th></th>\n",
              "      <th></th>\n",
              "      <th></th>\n",
              "      <th></th>\n",
              "      <th></th>\n",
              "      <th></th>\n",
              "    </tr>\n",
              "  </thead>\n",
              "  <tbody>\n",
              "    <tr>\n",
              "      <th>1</th>\n",
              "      <td>1</td>\n",
              "      <td>0</td>\n",
              "      <td>0</td>\n",
              "      <td>1</td>\n",
              "      <td>0</td>\n",
              "      <td>0</td>\n",
              "      <td>1</td>\n",
              "      <td>1</td>\n",
              "      <td>0</td>\n",
              "    </tr>\n",
              "    <tr>\n",
              "      <th>2</th>\n",
              "      <td>9</td>\n",
              "      <td>9</td>\n",
              "      <td>2</td>\n",
              "      <td>9</td>\n",
              "      <td>2</td>\n",
              "      <td>0</td>\n",
              "      <td>1</td>\n",
              "      <td>1</td>\n",
              "      <td>1</td>\n",
              "    </tr>\n",
              "    <tr>\n",
              "      <th>3</th>\n",
              "      <td>15</td>\n",
              "      <td>15</td>\n",
              "      <td>4</td>\n",
              "      <td>20</td>\n",
              "      <td>4</td>\n",
              "      <td>4</td>\n",
              "      <td>1</td>\n",
              "      <td>2</td>\n",
              "      <td>2</td>\n",
              "    </tr>\n",
              "    <tr>\n",
              "      <th>5</th>\n",
              "      <td>1</td>\n",
              "      <td>1</td>\n",
              "      <td>0</td>\n",
              "      <td>1</td>\n",
              "      <td>0</td>\n",
              "      <td>0</td>\n",
              "      <td>1</td>\n",
              "      <td>1</td>\n",
              "      <td>0</td>\n",
              "    </tr>\n",
              "    <tr>\n",
              "      <th>7</th>\n",
              "      <td>1</td>\n",
              "      <td>1</td>\n",
              "      <td>0</td>\n",
              "      <td>1</td>\n",
              "      <td>0</td>\n",
              "      <td>0</td>\n",
              "      <td>1</td>\n",
              "      <td>1</td>\n",
              "      <td>0</td>\n",
              "    </tr>\n",
              "    <tr>\n",
              "      <th>...</th>\n",
              "      <td>...</td>\n",
              "      <td>...</td>\n",
              "      <td>...</td>\n",
              "      <td>...</td>\n",
              "      <td>...</td>\n",
              "      <td>...</td>\n",
              "      <td>...</td>\n",
              "      <td>...</td>\n",
              "      <td>...</td>\n",
              "    </tr>\n",
              "    <tr>\n",
              "      <th>26790</th>\n",
              "      <td>2</td>\n",
              "      <td>2</td>\n",
              "      <td>0</td>\n",
              "      <td>2</td>\n",
              "      <td>0</td>\n",
              "      <td>0</td>\n",
              "      <td>1</td>\n",
              "      <td>1</td>\n",
              "      <td>0</td>\n",
              "    </tr>\n",
              "    <tr>\n",
              "      <th>26793</th>\n",
              "      <td>1</td>\n",
              "      <td>0</td>\n",
              "      <td>1</td>\n",
              "      <td>1</td>\n",
              "      <td>0</td>\n",
              "      <td>0</td>\n",
              "      <td>1</td>\n",
              "      <td>1</td>\n",
              "      <td>0</td>\n",
              "    </tr>\n",
              "    <tr>\n",
              "      <th>26794</th>\n",
              "      <td>50</td>\n",
              "      <td>50</td>\n",
              "      <td>24</td>\n",
              "      <td>90</td>\n",
              "      <td>24</td>\n",
              "      <td>7</td>\n",
              "      <td>2</td>\n",
              "      <td>13</td>\n",
              "      <td>10</td>\n",
              "    </tr>\n",
              "    <tr>\n",
              "      <th>26797</th>\n",
              "      <td>10</td>\n",
              "      <td>10</td>\n",
              "      <td>2</td>\n",
              "      <td>10</td>\n",
              "      <td>2</td>\n",
              "      <td>0</td>\n",
              "      <td>1</td>\n",
              "      <td>1</td>\n",
              "      <td>1</td>\n",
              "    </tr>\n",
              "    <tr>\n",
              "      <th>26798</th>\n",
              "      <td>12</td>\n",
              "      <td>12</td>\n",
              "      <td>3</td>\n",
              "      <td>12</td>\n",
              "      <td>2</td>\n",
              "      <td>1</td>\n",
              "      <td>1</td>\n",
              "      <td>2</td>\n",
              "      <td>1</td>\n",
              "    </tr>\n",
              "  </tbody>\n",
              "</table>\n",
              "<p>19234 rows × 9 columns</p>\n",
              "</div>"
            ],
            "text/plain": [
              "         discovered  passed  ...  uniq_hour_evn  uniq_hour_sub\n",
              "user_id                      ...                              \n",
              "1                 1       0  ...              1              0\n",
              "2                 9       9  ...              1              1\n",
              "3                15      15  ...              2              2\n",
              "5                 1       1  ...              1              0\n",
              "7                 1       1  ...              1              0\n",
              "...             ...     ...  ...            ...            ...\n",
              "26790             2       2  ...              1              0\n",
              "26793             1       0  ...              1              0\n",
              "26794            50      50  ...             13             10\n",
              "26797            10      10  ...              1              1\n",
              "26798            12      12  ...              2              1\n",
              "\n",
              "[19234 rows x 9 columns]"
            ]
          },
          "metadata": {
            "tags": []
          },
          "execution_count": 302
        }
      ]
    },
    {
      "cell_type": "code",
      "metadata": {
        "id": "FKkIIscXBacs"
      },
      "source": [
        "def create_work_df(events, submissions, last_action_step_ids=None, last_sub_step_ids=None, ohe_step_ids=None, target=None):\n",
        "    '''\n",
        "    Сборка датасета для работы с моделью\n",
        "    '''\n",
        "    actions = create_interaction(events, submissions)\n",
        "    df = get_base_features(actions)\n",
        "    \n",
        "    df = df.merge(get_actions_difference(actions), on='user_id')\n",
        "\n",
        "    time_features = get_time_features(events, submissions)\n",
        "    df = df.merge(time_features, on='user_id')\n",
        "\n",
        "    if last_action_step_ids is not None:\n",
        "      df = df.merge(get_last_action_features(last_action_step_ids, actions, 'last_action_f'))\n",
        "\n",
        "    if last_sub_step_ids is not None:\n",
        "      df = df.merge(get_last_action_features(last_sub_step_ids, submissions, 'last_sub_f'))\n",
        "    \n",
        "    df = df.merge(get_step_count(submissions, 'sub_steps'), on='user_id', how='outer').fillna(0)\n",
        "    df = df.merge(get_step_count(events, 'evn_steps'), on='user_id')\n",
        "\n",
        "    if ohe_step_ids is not None:\n",
        "      df = df.merge(get_steps_ohe_features(ohe_step_ids, submissions), on='user_id', how='outer').fillna(0)\n",
        "\n",
        "    df = get_correct_ratio(df)\n",
        "    df = get_custom_features(df)\n",
        "    \n",
        "    if target is not None:\n",
        "        # добавление целевой переменной\n",
        "        df = df.merge(target, on='user_id', how='outer').fillna(0)\n",
        "    \n",
        "    df = df.drop(columns='user_id')\n",
        "\n",
        "    return df.astype('int')"
      ],
      "execution_count": null,
      "outputs": []
    },
    {
      "cell_type": "code",
      "metadata": {
        "colab": {
          "base_uri": "https://localhost:8080/",
          "height": 435
        },
        "id": "4IWwGILjkR3E",
        "outputId": "da3b7ea3-3429-467d-9c21-5811a910aff5"
      },
      "source": [
        "create_work_df(events_2d, submissions_2d)"
      ],
      "execution_count": null,
      "outputs": [
        {
          "output_type": "execute_result",
          "data": {
            "text/html": [
              "<div>\n",
              "<style scoped>\n",
              "    .dataframe tbody tr th:only-of-type {\n",
              "        vertical-align: middle;\n",
              "    }\n",
              "\n",
              "    .dataframe tbody tr th {\n",
              "        vertical-align: top;\n",
              "    }\n",
              "\n",
              "    .dataframe thead th {\n",
              "        text-align: right;\n",
              "    }\n",
              "</style>\n",
              "<table border=\"1\" class=\"dataframe\">\n",
              "  <thead>\n",
              "    <tr style=\"text-align: right;\">\n",
              "      <th></th>\n",
              "      <th>discovered</th>\n",
              "      <th>passed</th>\n",
              "      <th>started_attempt</th>\n",
              "      <th>viewed</th>\n",
              "      <th>correct</th>\n",
              "      <th>wrong</th>\n",
              "      <th>num_days</th>\n",
              "      <th>act_diff_day</th>\n",
              "      <th>uniq_hour_evn</th>\n",
              "      <th>uniq_hour_sub</th>\n",
              "      <th>sub_steps</th>\n",
              "      <th>evn_steps</th>\n",
              "      <th>correct_ratio</th>\n",
              "      <th>dis_to_cor</th>\n",
              "      <th>loss_step</th>\n",
              "      <th>step_pas</th>\n",
              "      <th>start_pas</th>\n",
              "      <th>all_sum</th>\n",
              "      <th>all_pass</th>\n",
              "    </tr>\n",
              "  </thead>\n",
              "  <tbody>\n",
              "    <tr>\n",
              "      <th>0</th>\n",
              "      <td>1</td>\n",
              "      <td>0</td>\n",
              "      <td>0</td>\n",
              "      <td>1</td>\n",
              "      <td>0</td>\n",
              "      <td>0</td>\n",
              "      <td>1</td>\n",
              "      <td>-2</td>\n",
              "      <td>1</td>\n",
              "      <td>0</td>\n",
              "      <td>0</td>\n",
              "      <td>1</td>\n",
              "      <td>-1</td>\n",
              "      <td>1</td>\n",
              "      <td>0</td>\n",
              "      <td>1</td>\n",
              "      <td>0</td>\n",
              "      <td>2</td>\n",
              "      <td>1</td>\n",
              "    </tr>\n",
              "    <tr>\n",
              "      <th>1</th>\n",
              "      <td>9</td>\n",
              "      <td>9</td>\n",
              "      <td>2</td>\n",
              "      <td>9</td>\n",
              "      <td>2</td>\n",
              "      <td>0</td>\n",
              "      <td>1</td>\n",
              "      <td>-31</td>\n",
              "      <td>1</td>\n",
              "      <td>1</td>\n",
              "      <td>2</td>\n",
              "      <td>9</td>\n",
              "      <td>1</td>\n",
              "      <td>7</td>\n",
              "      <td>0</td>\n",
              "      <td>0</td>\n",
              "      <td>-7</td>\n",
              "      <td>31</td>\n",
              "      <td>22</td>\n",
              "    </tr>\n",
              "    <tr>\n",
              "      <th>2</th>\n",
              "      <td>15</td>\n",
              "      <td>15</td>\n",
              "      <td>4</td>\n",
              "      <td>20</td>\n",
              "      <td>4</td>\n",
              "      <td>4</td>\n",
              "      <td>1</td>\n",
              "      <td>-62</td>\n",
              "      <td>2</td>\n",
              "      <td>2</td>\n",
              "      <td>4</td>\n",
              "      <td>15</td>\n",
              "      <td>0</td>\n",
              "      <td>11</td>\n",
              "      <td>0</td>\n",
              "      <td>0</td>\n",
              "      <td>-11</td>\n",
              "      <td>62</td>\n",
              "      <td>47</td>\n",
              "    </tr>\n",
              "    <tr>\n",
              "      <th>3</th>\n",
              "      <td>1</td>\n",
              "      <td>1</td>\n",
              "      <td>0</td>\n",
              "      <td>1</td>\n",
              "      <td>0</td>\n",
              "      <td>0</td>\n",
              "      <td>1</td>\n",
              "      <td>-3</td>\n",
              "      <td>1</td>\n",
              "      <td>0</td>\n",
              "      <td>0</td>\n",
              "      <td>1</td>\n",
              "      <td>-1</td>\n",
              "      <td>1</td>\n",
              "      <td>0</td>\n",
              "      <td>0</td>\n",
              "      <td>-1</td>\n",
              "      <td>3</td>\n",
              "      <td>2</td>\n",
              "    </tr>\n",
              "    <tr>\n",
              "      <th>4</th>\n",
              "      <td>1</td>\n",
              "      <td>1</td>\n",
              "      <td>0</td>\n",
              "      <td>1</td>\n",
              "      <td>0</td>\n",
              "      <td>0</td>\n",
              "      <td>1</td>\n",
              "      <td>-3</td>\n",
              "      <td>1</td>\n",
              "      <td>0</td>\n",
              "      <td>0</td>\n",
              "      <td>1</td>\n",
              "      <td>-1</td>\n",
              "      <td>1</td>\n",
              "      <td>0</td>\n",
              "      <td>0</td>\n",
              "      <td>-1</td>\n",
              "      <td>3</td>\n",
              "      <td>2</td>\n",
              "    </tr>\n",
              "    <tr>\n",
              "      <th>...</th>\n",
              "      <td>...</td>\n",
              "      <td>...</td>\n",
              "      <td>...</td>\n",
              "      <td>...</td>\n",
              "      <td>...</td>\n",
              "      <td>...</td>\n",
              "      <td>...</td>\n",
              "      <td>...</td>\n",
              "      <td>...</td>\n",
              "      <td>...</td>\n",
              "      <td>...</td>\n",
              "      <td>...</td>\n",
              "      <td>...</td>\n",
              "      <td>...</td>\n",
              "      <td>...</td>\n",
              "      <td>...</td>\n",
              "      <td>...</td>\n",
              "      <td>...</td>\n",
              "      <td>...</td>\n",
              "    </tr>\n",
              "    <tr>\n",
              "      <th>19229</th>\n",
              "      <td>2</td>\n",
              "      <td>2</td>\n",
              "      <td>0</td>\n",
              "      <td>2</td>\n",
              "      <td>0</td>\n",
              "      <td>0</td>\n",
              "      <td>1</td>\n",
              "      <td>-6</td>\n",
              "      <td>1</td>\n",
              "      <td>0</td>\n",
              "      <td>0</td>\n",
              "      <td>2</td>\n",
              "      <td>-1</td>\n",
              "      <td>2</td>\n",
              "      <td>0</td>\n",
              "      <td>0</td>\n",
              "      <td>-2</td>\n",
              "      <td>6</td>\n",
              "      <td>4</td>\n",
              "    </tr>\n",
              "    <tr>\n",
              "      <th>19230</th>\n",
              "      <td>1</td>\n",
              "      <td>0</td>\n",
              "      <td>1</td>\n",
              "      <td>1</td>\n",
              "      <td>0</td>\n",
              "      <td>0</td>\n",
              "      <td>1</td>\n",
              "      <td>-3</td>\n",
              "      <td>1</td>\n",
              "      <td>0</td>\n",
              "      <td>0</td>\n",
              "      <td>1</td>\n",
              "      <td>-1</td>\n",
              "      <td>1</td>\n",
              "      <td>1</td>\n",
              "      <td>1</td>\n",
              "      <td>1</td>\n",
              "      <td>3</td>\n",
              "      <td>2</td>\n",
              "    </tr>\n",
              "    <tr>\n",
              "      <th>19231</th>\n",
              "      <td>50</td>\n",
              "      <td>50</td>\n",
              "      <td>24</td>\n",
              "      <td>90</td>\n",
              "      <td>24</td>\n",
              "      <td>7</td>\n",
              "      <td>2</td>\n",
              "      <td>-33</td>\n",
              "      <td>13</td>\n",
              "      <td>10</td>\n",
              "      <td>22</td>\n",
              "      <td>50</td>\n",
              "      <td>0</td>\n",
              "      <td>26</td>\n",
              "      <td>0</td>\n",
              "      <td>0</td>\n",
              "      <td>-26</td>\n",
              "      <td>245</td>\n",
              "      <td>195</td>\n",
              "    </tr>\n",
              "    <tr>\n",
              "      <th>19232</th>\n",
              "      <td>10</td>\n",
              "      <td>10</td>\n",
              "      <td>2</td>\n",
              "      <td>10</td>\n",
              "      <td>2</td>\n",
              "      <td>0</td>\n",
              "      <td>1</td>\n",
              "      <td>-34</td>\n",
              "      <td>1</td>\n",
              "      <td>1</td>\n",
              "      <td>2</td>\n",
              "      <td>10</td>\n",
              "      <td>1</td>\n",
              "      <td>8</td>\n",
              "      <td>0</td>\n",
              "      <td>0</td>\n",
              "      <td>-8</td>\n",
              "      <td>34</td>\n",
              "      <td>24</td>\n",
              "    </tr>\n",
              "    <tr>\n",
              "      <th>19233</th>\n",
              "      <td>12</td>\n",
              "      <td>12</td>\n",
              "      <td>3</td>\n",
              "      <td>12</td>\n",
              "      <td>2</td>\n",
              "      <td>1</td>\n",
              "      <td>1</td>\n",
              "      <td>-42</td>\n",
              "      <td>2</td>\n",
              "      <td>1</td>\n",
              "      <td>2</td>\n",
              "      <td>12</td>\n",
              "      <td>0</td>\n",
              "      <td>10</td>\n",
              "      <td>1</td>\n",
              "      <td>0</td>\n",
              "      <td>-9</td>\n",
              "      <td>42</td>\n",
              "      <td>30</td>\n",
              "    </tr>\n",
              "  </tbody>\n",
              "</table>\n",
              "<p>19234 rows × 19 columns</p>\n",
              "</div>"
            ],
            "text/plain": [
              "       discovered  passed  started_attempt  ...  start_pas  all_sum  all_pass\n",
              "0               1       0                0  ...          0        2         1\n",
              "1               9       9                2  ...         -7       31        22\n",
              "2              15      15                4  ...        -11       62        47\n",
              "3               1       1                0  ...         -1        3         2\n",
              "4               1       1                0  ...         -1        3         2\n",
              "...           ...     ...              ...  ...        ...      ...       ...\n",
              "19229           2       2                0  ...         -2        6         4\n",
              "19230           1       0                1  ...          1        3         2\n",
              "19231          50      50               24  ...        -26      245       195\n",
              "19232          10      10                2  ...         -8       34        24\n",
              "19233          12      12                3  ...         -9       42        30\n",
              "\n",
              "[19234 rows x 19 columns]"
            ]
          },
          "metadata": {
            "tags": []
          },
          "execution_count": 335
        }
      ]
    },
    {
      "cell_type": "code",
      "metadata": {
        "colab": {
          "base_uri": "https://localhost:8080/",
          "height": 384
        },
        "id": "MB2ydviNkgKt",
        "outputId": "e5f17a59-65c3-4de6-dd98-1c0b0d1f37a1"
      },
      "source": [
        "test_model(rf, create_work_df(events_2d, submissions_2d), targets)"
      ],
      "execution_count": null,
      "outputs": [
        {
          "output_type": "stream",
          "text": [
            "ROC-AUC на тренировочной выборке:\t 0.9157775333339934\n",
            "ROC-AUC на тестовой выборке:\t 0.8269041411561378\n",
            "\n",
            "Mean CV score: 0.8302930072148659\n",
            "Std of CV scores: 0.010824981013085884\n"
          ],
          "name": "stdout"
        },
        {
          "output_type": "display_data",
          "data": {
            "image/png": "[encoded data removed]",
            "text/plain": [
              "<Figure size 432x288 with 1 Axes>"
            ]
          },
          "metadata": {
            "tags": [],
            "needs_background": "light"
          }
        }
      ]
    }
  ]
}